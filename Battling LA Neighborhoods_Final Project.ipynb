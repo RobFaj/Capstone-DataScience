{
    "cells": [
        {
            "metadata": {},
            "cell_type": "markdown",
            "source": "<img src = \"https://upload.wikimedia.org/wikipedia/commons/e/e7/YuNaKimInVancouver.jpg\" width = 400> </a>\n\n<h2>Battling the Neighborhoods in L.A.: find a place for Korean    BBQ & Cafe</h2>\n\n\nThe goal of my project is to find a good place in the USA for Korean restaurants and coffee cafes. Champion figure skater Yuna Kim is funding a Korean food start-up restaurant and wants to be in a city suitable for patio weather and LA is a great place. The start-up is nterested in serving Korean BBQ one side of the venue with a division wall where they want have a donut shop that serves gourmet hot/cold teas and coffee. This project is intended to help with location.\n\nI will survey the territory with 500 meters of Koreatown utilizing my Foursquare API connection and python notebooks along. The results will be prepared in the form of tables and interactive Geomap that shows the location of the ideal location and other areas of Coffee Shop saturation, and the neighborhood's most common venue should ideally be a Korean restaurant with few coffee shops.\n\nWe must find a neighborhood in LA area that is predominantly Korean Restaurant and within a vicinity of a high concentration of coffee shop predominant neighborhoods, but not too close. We want to penetrate a predominantly Korean Restaurant area where there is a need for a coffee shop. "
        },
        {
            "metadata": {},
            "cell_type": "markdown",
            "source": "<h1>Note: To see view the fully run project, \n<a href=\"https://nbviewer.jupyter.org/github/RobFaj/Capstone-DataScience/blob/master/Battling%20LA%20Neighborhoods_Final%20Project.ipynb\">\nclick here</a></h1>\n\n\n"
        },
        {
            "metadata": {},
            "cell_type": "code",
            "source": "#install conda geopy and folium\n#!conda install -c conda-forge geopy --yes # uncomment this line if you haven't completed the Foursquare API lab\n#!conda install -c conda-forge folium=0.5.0 --yes # uncomment this line if you haven't completed the Foursquare API lab\n\n!pip install folium==0.5.0\n#pip install geopy\n\n",
            "execution_count": 1,
            "outputs": [
                {
                    "output_type": "stream",
                    "text": "Collecting folium==0.5.0\n\u001b[?25l  Downloading https://files.pythonhosted.org/packages/07/37/456fb3699ed23caa0011f8b90d9cad94445eddc656b601e6268090de35f5/folium-0.5.0.tar.gz (79kB)\n\u001b[K     |\u2588\u2588\u2588\u2588\u2588\u2588\u2588\u2588\u2588\u2588\u2588\u2588\u2588\u2588\u2588\u2588\u2588\u2588\u2588\u2588\u2588\u2588\u2588\u2588\u2588\u2588\u2588\u2588\u2588\u2588\u2588\u2588| 81kB 7.2MB/s eta 0:00:011\n\u001b[?25hCollecting branca (from folium==0.5.0)\n  Downloading https://files.pythonhosted.org/packages/13/fb/9eacc24ba3216510c6b59a4ea1cd53d87f25ba76237d7f4393abeaf4c94e/branca-0.4.1-py3-none-any.whl\nRequirement already satisfied: jinja2 in /opt/conda/envs/Python36/lib/python3.6/site-packages (from folium==0.5.0) (2.10)\nRequirement already satisfied: requests in /opt/conda/envs/Python36/lib/python3.6/site-packages (from folium==0.5.0) (2.21.0)\nRequirement already satisfied: six in /opt/conda/envs/Python36/lib/python3.6/site-packages (from folium==0.5.0) (1.12.0)\nRequirement already satisfied: MarkupSafe>=0.23 in /opt/conda/envs/Python36/lib/python3.6/site-packages (from jinja2->folium==0.5.0) (1.1.0)\nRequirement already satisfied: urllib3<1.25,>=1.21.1 in /opt/conda/envs/Python36/lib/python3.6/site-packages (from requests->folium==0.5.0) (1.24.1)\nRequirement already satisfied: certifi>=2017.4.17 in /opt/conda/envs/Python36/lib/python3.6/site-packages (from requests->folium==0.5.0) (2020.6.20)\nRequirement already satisfied: idna<2.9,>=2.5 in /opt/conda/envs/Python36/lib/python3.6/site-packages (from requests->folium==0.5.0) (2.8)\nRequirement already satisfied: chardet<3.1.0,>=3.0.2 in /opt/conda/envs/Python36/lib/python3.6/site-packages (from requests->folium==0.5.0) (3.0.4)\nBuilding wheels for collected packages: folium\n  Building wheel for folium (setup.py) ... \u001b[?25ldone\n\u001b[?25h  Stored in directory: /home/dsxuser/.cache/pip/wheels/f8/98/ff/954791afc47740d554f0d9e5885fa09dd60c2265d42578e665\nSuccessfully built folium\nInstalling collected packages: branca, folium\nSuccessfully installed branca-0.4.1 folium-0.5.0\n",
                    "name": "stdout"
                }
            ]
        },
        {
            "metadata": {},
            "cell_type": "code",
            "source": "!pip install plotly==4.9.0",
            "execution_count": 2,
            "outputs": [
                {
                    "output_type": "stream",
                    "text": "Collecting plotly==4.9.0\n\u001b[?25l  Downloading https://files.pythonhosted.org/packages/bf/5f/47ab0d9d843c5be0f5c5bd891736a4c84fa45c3b0a0ddb6b6df7c098c66f/plotly-4.9.0-py2.py3-none-any.whl (12.9MB)\n\u001b[K     |\u2588\u2588\u2588\u2588\u2588\u2588\u2588\u2588\u2588\u2588\u2588\u2588\u2588\u2588\u2588\u2588\u2588\u2588\u2588\u2588\u2588\u2588\u2588\u2588\u2588\u2588\u2588\u2588\u2588\u2588\u2588\u2588| 12.9MB 5.2MB/s eta 0:00:01\n\u001b[?25hRequirement already satisfied: retrying>=1.3.3 in /opt/conda/envs/Python36/lib/python3.6/site-packages (from plotly==4.9.0) (1.3.3)\nRequirement already satisfied: six in /opt/conda/envs/Python36/lib/python3.6/site-packages (from plotly==4.9.0) (1.12.0)\nInstalling collected packages: plotly\n  Found existing installation: plotly 3.6.1\n    Uninstalling plotly-3.6.1:\n      Successfully uninstalled plotly-3.6.1\nSuccessfully installed plotly-4.9.0\n",
                    "name": "stdout"
                }
            ]
        },
        {
            "metadata": {},
            "cell_type": "code",
            "source": "!pip install geopy",
            "execution_count": 3,
            "outputs": [
                {
                    "output_type": "stream",
                    "text": "Requirement already satisfied: geopy in /opt/conda/envs/Python36/lib/python3.6/site-packages (1.18.1)\nRequirement already satisfied: geographiclib<2,>=1.49 in /opt/conda/envs/Python36/lib/python3.6/site-packages (from geopy) (1.49)\n",
                    "name": "stdout"
                }
            ]
        },
        {
            "metadata": {},
            "cell_type": "code",
            "source": "import numpy as np # library to handle data in a vectorized manner\n\nimport pandas as pd # library for data analsysis\npd.set_option('display.max_columns', None)\npd.set_option('display.max_rows', None)\n\nimport json # library to handle JSON files\n\n#!conda install -c conda-forge geopy --yes # uncomment this line if you haven't completed the Foursquare API lab\nfrom geopy.geocoders import Nominatim # convert an address into latitude and longitude values\n\nimport requests # library to handle requests\nfrom pandas.io.json import json_normalize # tranform JSON file into a pandas dataframe\n\n# Matplotlib and associated plotting modules\nimport matplotlib.cm as cm\nimport matplotlib.colors as colors\n\n# import k-means from clustering stage\nfrom sklearn.cluster import KMeans\n\n#!conda install -c conda-forge folium=0.5.0 --yes # uncomment this line if you haven't completed the Foursquare API lab\nimport folium # map rendering library\n\nprint('Libraries imported.')",
            "execution_count": 2,
            "outputs": [
                {
                    "output_type": "stream",
                    "text": "Libraries imported.\n",
                    "name": "stdout"
                }
            ]
        },
        {
            "metadata": {},
            "cell_type": "code",
            "source": "#!wget -q -O 'LA_data.json' https://services5.arcgis.com/7nsPwEMP38bSkCjy/arcgis/rest/services/LA_Times_Neighborhoods/FeatureServer/0/query?where=1%3D1&outFields=*&outSR=4326&f=json\n#print('Data downloaded!')",
            "execution_count": 3,
            "outputs": []
        },
        {
            "metadata": {},
            "cell_type": "code",
            "source": "#LA_data.head()",
            "execution_count": 4,
            "outputs": []
        },
        {
            "metadata": {},
            "cell_type": "markdown",
            "source": "<h2>1. Understanding and Prepare the LA Neighborhood Datasource File First</h2>"
        },
        {
            "metadata": {},
            "cell_type": "code",
            "source": "import pandas as pd\ndf_LA=pd.read_csv(\"https://usc.data.socrata.com/api/views/9utn-waje/rows.csv?accessType=DOWNLOAD&bom=true&format=true\")\ndf_LA.head()",
            "execution_count": 5,
            "outputs": [
                {
                    "output_type": "execute_result",
                    "execution_count": 5,
                    "data": {
                        "text/plain": "                                   set             slug  \\\n0  L.A. County Neighborhoods (Current)            acton   \n1  L.A. County Neighborhoods (Current)  adams-normandie   \n2  L.A. County Neighborhoods (Current)     agoura-hills   \n3  L.A. County Neighborhoods (Current)       agua-dulce   \n4  L.A. County Neighborhoods (Current)         alhambra   \n\n                                            the_geom  \\\n0  MULTIPOLYGON (((-118.20261747920541 34.5389897...   \n1  MULTIPOLYGON (((-118.30900800000012 34.0374109...   \n2  MULTIPOLYGON (((-118.76192500000009 34.1682029...   \n3  MULTIPOLYGON (((-118.2546773959221 34.55830403...   \n4  MULTIPOLYGON (((-118.12174700000014 34.1050399...   \n\n                                 kind       external_i             name  \\\n0  L.A. County Neighborhood (Current)            acton            Acton   \n1  L.A. County Neighborhood (Current)  adams-normandie  Adams-Normandie   \n2  L.A. County Neighborhood (Current)     agoura-hills     Agoura Hills   \n3  L.A. County Neighborhood (Current)       agua-dulce       Agua Dulce   \n4  L.A. County Neighborhood (Current)         alhambra         Alhambra   \n\n                                          display_na       sqmi  \\\n0           Acton L.A. County Neighborhood (Current)  39.339109   \n1  Adams-Normandie L.A. County Neighborhood (Curr...   0.805350   \n2    Agoura Hills L.A. County Neighborhood (Current)   8.146760   \n3      Agua Dulce L.A. County Neighborhood (Current)  31.462632   \n4        Alhambra L.A. County Neighborhood (Current)   7.623814   \n\n                  type  name_1  slug_1    latitude  longitude  \\\n0  unincorporated-area     NaN     NaN -118.169810  34.497355   \n1    segment-of-a-city     NaN     NaN -118.300208  34.031461   \n2      standalone-city     NaN     NaN -118.759885  34.146736   \n3  unincorporated-area     NaN     NaN -118.317104  34.504927   \n4      standalone-city     NaN     NaN -118.136512  34.085539   \n\n                                        location  \n0  POINT(34.497355239240846 -118.16981019229348)  \n1  POINT(34.031461499124156 -118.30020800000011)  \n2  POINT(34.146736499122795 -118.75988450000015)  \n3   POINT(34.504926999796837 -118.3171036690717)  \n4  POINT(34.085538999123571 -118.13651200000021)  ",
                        "text/html": "<div>\n<style scoped>\n    .dataframe tbody tr th:only-of-type {\n        vertical-align: middle;\n    }\n\n    .dataframe tbody tr th {\n        vertical-align: top;\n    }\n\n    .dataframe thead th {\n        text-align: right;\n    }\n</style>\n<table border=\"1\" class=\"dataframe\">\n  <thead>\n    <tr style=\"text-align: right;\">\n      <th></th>\n      <th>set</th>\n      <th>slug</th>\n      <th>the_geom</th>\n      <th>kind</th>\n      <th>external_i</th>\n      <th>name</th>\n      <th>display_na</th>\n      <th>sqmi</th>\n      <th>type</th>\n      <th>name_1</th>\n      <th>slug_1</th>\n      <th>latitude</th>\n      <th>longitude</th>\n      <th>location</th>\n    </tr>\n  </thead>\n  <tbody>\n    <tr>\n      <th>0</th>\n      <td>L.A. County Neighborhoods (Current)</td>\n      <td>acton</td>\n      <td>MULTIPOLYGON (((-118.20261747920541 34.5389897...</td>\n      <td>L.A. County Neighborhood (Current)</td>\n      <td>acton</td>\n      <td>Acton</td>\n      <td>Acton L.A. County Neighborhood (Current)</td>\n      <td>39.339109</td>\n      <td>unincorporated-area</td>\n      <td>NaN</td>\n      <td>NaN</td>\n      <td>-118.169810</td>\n      <td>34.497355</td>\n      <td>POINT(34.497355239240846 -118.16981019229348)</td>\n    </tr>\n    <tr>\n      <th>1</th>\n      <td>L.A. County Neighborhoods (Current)</td>\n      <td>adams-normandie</td>\n      <td>MULTIPOLYGON (((-118.30900800000012 34.0374109...</td>\n      <td>L.A. County Neighborhood (Current)</td>\n      <td>adams-normandie</td>\n      <td>Adams-Normandie</td>\n      <td>Adams-Normandie L.A. County Neighborhood (Curr...</td>\n      <td>0.805350</td>\n      <td>segment-of-a-city</td>\n      <td>NaN</td>\n      <td>NaN</td>\n      <td>-118.300208</td>\n      <td>34.031461</td>\n      <td>POINT(34.031461499124156 -118.30020800000011)</td>\n    </tr>\n    <tr>\n      <th>2</th>\n      <td>L.A. County Neighborhoods (Current)</td>\n      <td>agoura-hills</td>\n      <td>MULTIPOLYGON (((-118.76192500000009 34.1682029...</td>\n      <td>L.A. County Neighborhood (Current)</td>\n      <td>agoura-hills</td>\n      <td>Agoura Hills</td>\n      <td>Agoura Hills L.A. County Neighborhood (Current)</td>\n      <td>8.146760</td>\n      <td>standalone-city</td>\n      <td>NaN</td>\n      <td>NaN</td>\n      <td>-118.759885</td>\n      <td>34.146736</td>\n      <td>POINT(34.146736499122795 -118.75988450000015)</td>\n    </tr>\n    <tr>\n      <th>3</th>\n      <td>L.A. County Neighborhoods (Current)</td>\n      <td>agua-dulce</td>\n      <td>MULTIPOLYGON (((-118.2546773959221 34.55830403...</td>\n      <td>L.A. County Neighborhood (Current)</td>\n      <td>agua-dulce</td>\n      <td>Agua Dulce</td>\n      <td>Agua Dulce L.A. County Neighborhood (Current)</td>\n      <td>31.462632</td>\n      <td>unincorporated-area</td>\n      <td>NaN</td>\n      <td>NaN</td>\n      <td>-118.317104</td>\n      <td>34.504927</td>\n      <td>POINT(34.504926999796837 -118.3171036690717)</td>\n    </tr>\n    <tr>\n      <th>4</th>\n      <td>L.A. County Neighborhoods (Current)</td>\n      <td>alhambra</td>\n      <td>MULTIPOLYGON (((-118.12174700000014 34.1050399...</td>\n      <td>L.A. County Neighborhood (Current)</td>\n      <td>alhambra</td>\n      <td>Alhambra</td>\n      <td>Alhambra L.A. County Neighborhood (Current)</td>\n      <td>7.623814</td>\n      <td>standalone-city</td>\n      <td>NaN</td>\n      <td>NaN</td>\n      <td>-118.136512</td>\n      <td>34.085539</td>\n      <td>POINT(34.085538999123571 -118.13651200000021)</td>\n    </tr>\n  </tbody>\n</table>\n</div>"
                    },
                    "metadata": {}
                }
            ]
        },
        {
            "metadata": {},
            "cell_type": "code",
            "source": "df1_LA = df_LA[['set','name','latitude','longitude']]",
            "execution_count": 6,
            "outputs": []
        },
        {
            "metadata": {},
            "cell_type": "code",
            "source": "df1_LA.head()",
            "execution_count": 7,
            "outputs": [
                {
                    "output_type": "execute_result",
                    "execution_count": 7,
                    "data": {
                        "text/plain": "                                   set             name    latitude  longitude\n0  L.A. County Neighborhoods (Current)            Acton -118.169810  34.497355\n1  L.A. County Neighborhoods (Current)  Adams-Normandie -118.300208  34.031461\n2  L.A. County Neighborhoods (Current)     Agoura Hills -118.759885  34.146736\n3  L.A. County Neighborhoods (Current)       Agua Dulce -118.317104  34.504927\n4  L.A. County Neighborhoods (Current)         Alhambra -118.136512  34.085539",
                        "text/html": "<div>\n<style scoped>\n    .dataframe tbody tr th:only-of-type {\n        vertical-align: middle;\n    }\n\n    .dataframe tbody tr th {\n        vertical-align: top;\n    }\n\n    .dataframe thead th {\n        text-align: right;\n    }\n</style>\n<table border=\"1\" class=\"dataframe\">\n  <thead>\n    <tr style=\"text-align: right;\">\n      <th></th>\n      <th>set</th>\n      <th>name</th>\n      <th>latitude</th>\n      <th>longitude</th>\n    </tr>\n  </thead>\n  <tbody>\n    <tr>\n      <th>0</th>\n      <td>L.A. County Neighborhoods (Current)</td>\n      <td>Acton</td>\n      <td>-118.169810</td>\n      <td>34.497355</td>\n    </tr>\n    <tr>\n      <th>1</th>\n      <td>L.A. County Neighborhoods (Current)</td>\n      <td>Adams-Normandie</td>\n      <td>-118.300208</td>\n      <td>34.031461</td>\n    </tr>\n    <tr>\n      <th>2</th>\n      <td>L.A. County Neighborhoods (Current)</td>\n      <td>Agoura Hills</td>\n      <td>-118.759885</td>\n      <td>34.146736</td>\n    </tr>\n    <tr>\n      <th>3</th>\n      <td>L.A. County Neighborhoods (Current)</td>\n      <td>Agua Dulce</td>\n      <td>-118.317104</td>\n      <td>34.504927</td>\n    </tr>\n    <tr>\n      <th>4</th>\n      <td>L.A. County Neighborhoods (Current)</td>\n      <td>Alhambra</td>\n      <td>-118.136512</td>\n      <td>34.085539</td>\n    </tr>\n  </tbody>\n</table>\n</div>"
                    },
                    "metadata": {}
                }
            ]
        },
        {
            "metadata": {},
            "cell_type": "code",
            "source": "print('The LA dataframe has {} neighborhoods.'.format(\n        len(df1_LA['name'].unique()),\n        df1_LA.shape[0]\n    )\n)",
            "execution_count": 8,
            "outputs": [
                {
                    "output_type": "stream",
                    "text": "The LA dataframe has 272 neighborhoods.\n",
                    "name": "stdout"
                }
            ]
        },
        {
            "metadata": {},
            "cell_type": "code",
            "source": "address = 'Los Angeles, CA'\n\ngeolocator = Nominatim(user_agent=\"ny_explorer\")\nlocation = geolocator.geocode(address)\nlatitude = location.latitude\nlongitude = location.longitude\nprint('The geograpical coordinate of Los Angeles are {}, {}.'.format(latitude, longitude))",
            "execution_count": 9,
            "outputs": [
                {
                    "output_type": "stream",
                    "text": "The geograpical coordinate of Los Angeles are 34.0536909, -118.2427666.\n",
                    "name": "stdout"
                }
            ]
        },
        {
            "metadata": {},
            "cell_type": "code",
            "source": "LA_data = df1_LA[df1_LA['set'] == 'L.A. County Neighborhoods (Current)'].reset_index(drop=True)\nLA_data.head()",
            "execution_count": 10,
            "outputs": [
                {
                    "output_type": "execute_result",
                    "execution_count": 10,
                    "data": {
                        "text/plain": "                                   set             name    latitude  longitude\n0  L.A. County Neighborhoods (Current)            Acton -118.169810  34.497355\n1  L.A. County Neighborhoods (Current)  Adams-Normandie -118.300208  34.031461\n2  L.A. County Neighborhoods (Current)     Agoura Hills -118.759885  34.146736\n3  L.A. County Neighborhoods (Current)       Agua Dulce -118.317104  34.504927\n4  L.A. County Neighborhoods (Current)         Alhambra -118.136512  34.085539",
                        "text/html": "<div>\n<style scoped>\n    .dataframe tbody tr th:only-of-type {\n        vertical-align: middle;\n    }\n\n    .dataframe tbody tr th {\n        vertical-align: top;\n    }\n\n    .dataframe thead th {\n        text-align: right;\n    }\n</style>\n<table border=\"1\" class=\"dataframe\">\n  <thead>\n    <tr style=\"text-align: right;\">\n      <th></th>\n      <th>set</th>\n      <th>name</th>\n      <th>latitude</th>\n      <th>longitude</th>\n    </tr>\n  </thead>\n  <tbody>\n    <tr>\n      <th>0</th>\n      <td>L.A. County Neighborhoods (Current)</td>\n      <td>Acton</td>\n      <td>-118.169810</td>\n      <td>34.497355</td>\n    </tr>\n    <tr>\n      <th>1</th>\n      <td>L.A. County Neighborhoods (Current)</td>\n      <td>Adams-Normandie</td>\n      <td>-118.300208</td>\n      <td>34.031461</td>\n    </tr>\n    <tr>\n      <th>2</th>\n      <td>L.A. County Neighborhoods (Current)</td>\n      <td>Agoura Hills</td>\n      <td>-118.759885</td>\n      <td>34.146736</td>\n    </tr>\n    <tr>\n      <th>3</th>\n      <td>L.A. County Neighborhoods (Current)</td>\n      <td>Agua Dulce</td>\n      <td>-118.317104</td>\n      <td>34.504927</td>\n    </tr>\n    <tr>\n      <th>4</th>\n      <td>L.A. County Neighborhoods (Current)</td>\n      <td>Alhambra</td>\n      <td>-118.136512</td>\n      <td>34.085539</td>\n    </tr>\n  </tbody>\n</table>\n</div>"
                    },
                    "metadata": {}
                }
            ]
        },
        {
            "metadata": {},
            "cell_type": "code",
            "source": "CLIENT_ID = 'EZNZI2RCAYZGJSRALET004Y44IDJLU3A4SOM44SM3ZVAQ3WC' # your Foursquare ID\nCLIENT_SECRET = 'RM5YUKT10M10DOVAXQIMAAA2QOXQPU1ZOQEMF55SVNPNNOTD' # your Foursquare Secret\nVERSION = '20180604' # Foursquare API version\n\nprint('Your credentails:')\nprint('CLIENT_ID: ' + CLIENT_ID)\nprint('CLIENT_SECRET:' + CLIENT_SECRET)",
            "execution_count": 11,
            "outputs": [
                {
                    "output_type": "stream",
                    "text": "Your credentails:\nCLIENT_ID: EZNZI2RCAYZGJSRALET004Y44IDJLU3A4SOM44SM3ZVAQ3WC\nCLIENT_SECRET:RM5YUKT10M10DOVAXQIMAAA2QOXQPU1ZOQEMF55SVNPNNOTD\n",
                    "name": "stdout"
                }
            ]
        },
        {
            "metadata": {},
            "cell_type": "code",
            "source": "LA_data.loc[[28], 'name']",
            "execution_count": 12,
            "outputs": [
                {
                    "output_type": "execute_result",
                    "execution_count": 12,
                    "data": {
                        "text/plain": "28    Koreatown\nName: name, dtype: object"
                    },
                    "metadata": {}
                }
            ]
        },
        {
            "metadata": {},
            "cell_type": "code",
            "source": "neighborhood_latitude = LA_data.loc[28, 'longitude'] # neighborhood latitude value\nneighborhood_longitude = LA_data.loc[28, 'latitude'] # neighborhood longitude value\n\nneighborhood_name = LA_data.loc[28, 'name'] # neighborhood_name\n\nprint('Latitude and longitude values of {} are {}, {}.'.format(neighborhood_name, \n                                                               neighborhood_latitude, \n                                                               neighborhood_longitude))",
            "execution_count": 13,
            "outputs": [
                {
                    "output_type": "stream",
                    "text": "Latitude and longitude values of Koreatown are 34.06451049912376, -118.3049585.\n",
                    "name": "stdout"
                }
            ]
        },
        {
            "metadata": {},
            "cell_type": "code",
            "source": "# type your answer here\nLIMIT=100 # number of venues\n\n#define radius\nradius = 4000\n\n# create URL\nurl = 'https://api.foursquare.com/v2/venues/explore?&client_id={}&client_secret={}&v={}&ll={},{}&radius={}&limit={}'.format(\n    CLIENT_ID, \n    CLIENT_SECRET, \n    VERSION, \n    neighborhood_latitude, \n    neighborhood_longitude, \n    radius, \n    LIMIT)\nurl # display URL\n",
            "execution_count": 14,
            "outputs": [
                {
                    "output_type": "execute_result",
                    "execution_count": 14,
                    "data": {
                        "text/plain": "'https://api.foursquare.com/v2/venues/explore?&client_id=EZNZI2RCAYZGJSRALET004Y44IDJLU3A4SOM44SM3ZVAQ3WC&client_secret=RM5YUKT10M10DOVAXQIMAAA2QOXQPU1ZOQEMF55SVNPNNOTD&v=20180604&ll=34.06451049912376,-118.3049585&radius=4000&limit=100'"
                    },
                    "metadata": {}
                }
            ]
        },
        {
            "metadata": {},
            "cell_type": "code",
            "source": "results = requests.get(url).json()",
            "execution_count": 15,
            "outputs": []
        },
        {
            "metadata": {},
            "cell_type": "markdown",
            "source": "<h2>Based on the website <a href=\"https://www.discoverlosangeles.com/visit/the-guide-to-koreatown-in-los-angeles\" target=\"_blank\">Discover Los Angeles</a>, we know that Koreatown is a great center point for nightlife, coffee, and shopping!</h2>\n\n<h2>I used this location and attraction as a point of reference from which to search for venues. "
        },
        {
            "metadata": {},
            "cell_type": "code",
            "source": "# function that extracts the category of the venue\ndef get_category_type(row):\n    try:\n        categories_list = row['categories']\n    except:\n        categories_list = row['venue.categories']\n        \n    if len(categories_list) == 0:\n        return None\n    else:\n        return categories_list[0]['name']",
            "execution_count": 16,
            "outputs": []
        },
        {
            "metadata": {},
            "cell_type": "code",
            "source": "venues = results['response']['groups'][0]['items']\n    \nnearby_venues = json_normalize(venues) # flatten JSON\n\n# filter columns\nfiltered_columns = ['venue.name', 'venue.categories', 'venue.location.lat', 'venue.location.lng']\nnearby_venues =nearby_venues.loc[:, filtered_columns]\n\n# filter the category for each row\nnearby_venues['venue.categories'] = nearby_venues.apply(get_category_type, axis=1)\n\n# clean columns\nnearby_venues.columns = [col.split(\".\")[-1] for col in nearby_venues.columns]\n\nnearby_venues.head()",
            "execution_count": 17,
            "outputs": [
                {
                    "output_type": "execute_result",
                    "execution_count": 17,
                    "data": {
                        "text/plain": "                      name             categories        lat         lng\n0                Seoul Pho  Vietnamese Restaurant  34.065871 -118.308796\n1           BCD Tofu House      Korean Restaurant  34.061961 -118.302713\n2      Document Coffee Bar            Coffee Shop  34.061254 -118.311050\n3       The Normandie Club              Hotel Bar  34.063555 -118.300856\n4  Kang Ho Dong Baek Jeong      Korean Restaurant  34.063828 -118.297364",
                        "text/html": "<div>\n<style scoped>\n    .dataframe tbody tr th:only-of-type {\n        vertical-align: middle;\n    }\n\n    .dataframe tbody tr th {\n        vertical-align: top;\n    }\n\n    .dataframe thead th {\n        text-align: right;\n    }\n</style>\n<table border=\"1\" class=\"dataframe\">\n  <thead>\n    <tr style=\"text-align: right;\">\n      <th></th>\n      <th>name</th>\n      <th>categories</th>\n      <th>lat</th>\n      <th>lng</th>\n    </tr>\n  </thead>\n  <tbody>\n    <tr>\n      <th>0</th>\n      <td>Seoul Pho</td>\n      <td>Vietnamese Restaurant</td>\n      <td>34.065871</td>\n      <td>-118.308796</td>\n    </tr>\n    <tr>\n      <th>1</th>\n      <td>BCD Tofu House</td>\n      <td>Korean Restaurant</td>\n      <td>34.061961</td>\n      <td>-118.302713</td>\n    </tr>\n    <tr>\n      <th>2</th>\n      <td>Document Coffee Bar</td>\n      <td>Coffee Shop</td>\n      <td>34.061254</td>\n      <td>-118.311050</td>\n    </tr>\n    <tr>\n      <th>3</th>\n      <td>The Normandie Club</td>\n      <td>Hotel Bar</td>\n      <td>34.063555</td>\n      <td>-118.300856</td>\n    </tr>\n    <tr>\n      <th>4</th>\n      <td>Kang Ho Dong Baek Jeong</td>\n      <td>Korean Restaurant</td>\n      <td>34.063828</td>\n      <td>-118.297364</td>\n    </tr>\n  </tbody>\n</table>\n</div>"
                    },
                    "metadata": {}
                }
            ]
        },
        {
            "metadata": {},
            "cell_type": "code",
            "source": "print('{} venues were returned by Foursquare for Koreatown area.'.format(nearby_venues.shape[0]))",
            "execution_count": 18,
            "outputs": [
                {
                    "output_type": "stream",
                    "text": "100 venues were returned by Foursquare for Koreatown area.\n",
                    "name": "stdout"
                }
            ]
        },
        {
            "metadata": {},
            "cell_type": "markdown",
            "source": "## 2. Exploring the Neighborhoods in LA"
        },
        {
            "metadata": {},
            "cell_type": "code",
            "source": "def getNearbyVenues(names, latitudes, longitudes, radius=500):\n    \n    venues_list=[]\n    for name, lat, lng in zip(names, latitudes, longitudes):\n        print(name)\n            \n        # create the API request URL\n        url = 'https://api.foursquare.com/v2/venues/explore?&client_id={}&client_secret={}&v={}&ll={},{}&radius={}&limit={}'.format(\n            CLIENT_ID, \n            CLIENT_SECRET, \n            VERSION, \n            lat, \n            lng, \n            radius, \n            LIMIT)\n            \n        # make the GET request\n        results = requests.get(url).json()[\"response\"]['groups'][28]['items']\n        \n        # return only relevant information for each nearby venue\n        venues_list.append([(\n            name, \n            lat, \n            lng, \n            v['venue']['name'], \n            v['venue']['location']['lat'], \n            v['venue']['location']['lng'],  \n            v['venue']['categories'][0]['name']) for v in results])\n\n    nearby_venues = pd.DataFrame([item for venue_list in venues_list for item in venue_list])\n    nearby_venues.columns = ['Neighborhood', \n                  'Neighborhood Latitude', \n                  'Neighborhood Longitude', \n                  'Venue', \n                  'Venue Latitude', \n                  'Venue Longitude', \n                  'Venue Category']\n    \n    return(nearby_venues)",
            "execution_count": 19,
            "outputs": []
        },
        {
            "metadata": {},
            "cell_type": "code",
            "source": "nearby_venues.head()",
            "execution_count": 20,
            "outputs": [
                {
                    "output_type": "execute_result",
                    "execution_count": 20,
                    "data": {
                        "text/plain": "                      name             categories        lat         lng\n0                Seoul Pho  Vietnamese Restaurant  34.065871 -118.308796\n1           BCD Tofu House      Korean Restaurant  34.061961 -118.302713\n2      Document Coffee Bar            Coffee Shop  34.061254 -118.311050\n3       The Normandie Club              Hotel Bar  34.063555 -118.300856\n4  Kang Ho Dong Baek Jeong      Korean Restaurant  34.063828 -118.297364",
                        "text/html": "<div>\n<style scoped>\n    .dataframe tbody tr th:only-of-type {\n        vertical-align: middle;\n    }\n\n    .dataframe tbody tr th {\n        vertical-align: top;\n    }\n\n    .dataframe thead th {\n        text-align: right;\n    }\n</style>\n<table border=\"1\" class=\"dataframe\">\n  <thead>\n    <tr style=\"text-align: right;\">\n      <th></th>\n      <th>name</th>\n      <th>categories</th>\n      <th>lat</th>\n      <th>lng</th>\n    </tr>\n  </thead>\n  <tbody>\n    <tr>\n      <th>0</th>\n      <td>Seoul Pho</td>\n      <td>Vietnamese Restaurant</td>\n      <td>34.065871</td>\n      <td>-118.308796</td>\n    </tr>\n    <tr>\n      <th>1</th>\n      <td>BCD Tofu House</td>\n      <td>Korean Restaurant</td>\n      <td>34.061961</td>\n      <td>-118.302713</td>\n    </tr>\n    <tr>\n      <th>2</th>\n      <td>Document Coffee Bar</td>\n      <td>Coffee Shop</td>\n      <td>34.061254</td>\n      <td>-118.311050</td>\n    </tr>\n    <tr>\n      <th>3</th>\n      <td>The Normandie Club</td>\n      <td>Hotel Bar</td>\n      <td>34.063555</td>\n      <td>-118.300856</td>\n    </tr>\n    <tr>\n      <th>4</th>\n      <td>Kang Ho Dong Baek Jeong</td>\n      <td>Korean Restaurant</td>\n      <td>34.063828</td>\n      <td>-118.297364</td>\n    </tr>\n  </tbody>\n</table>\n</div>"
                    },
                    "metadata": {}
                }
            ]
        },
        {
            "metadata": {},
            "cell_type": "code",
            "source": "nearby_venues.groupby('categories').count()",
            "execution_count": 21,
            "outputs": [
                {
                    "output_type": "execute_result",
                    "execution_count": 21,
                    "data": {
                        "text/plain": "                        name  lat  lng\ncategories                            \nArgentinian Restaurant     1    1    1\nArt Museum                 1    1    1\nAsian Restaurant           3    3    3\nBBQ Joint                  1    1    1\nBagel Shop                 1    1    1\nBakery                     1    1    1\nBar                        1    1    1\nBrazilian Restaurant       2    2    2\nBurger Joint               3    3    3\nCaf\u00e9                       2    2    2\nCoffee Shop                9    9    9\nConcert Hall               1    1    1\nConvenience Store          1    1    1\nDeli / Bodega              1    1    1\nDessert Shop               1    1    1\nDiner                      1    1    1\nDive Bar                   1    1    1\nDonut Shop                 1    1    1\nDumpling Restaurant        1    1    1\nFarmers Market             1    1    1\nFood Truck                 2    2    2\nGreek Restaurant           1    1    1\nGrocery Store              3    3    3\nHistoric Site              1    1    1\nHotel                      1    1    1\nHotel Bar                  1    1    1\nIce Cream Shop             5    5    5\nItalian Restaurant         2    2    2\nJapanese Restaurant        3    3    3\nKorean Restaurant         27   27   27\nMexican Restaurant         3    3    3\nNeighborhood               1    1    1\nNightclub                  1    1    1\nOptical Shop               1    1    1\nPizza Place                1    1    1\nRestaurant                 2    2    2\nSandwich Place             2    2    2\nSeafood Restaurant         2    2    2\nSpa                        1    1    1\nSteakhouse                 1    1    1\nSushi Restaurant           1    1    1\nThai Restaurant            1    1    1\nVideo Game Store           1    1    1\nVietnamese Restaurant      1    1    1\nWings Joint                1    1    1",
                        "text/html": "<div>\n<style scoped>\n    .dataframe tbody tr th:only-of-type {\n        vertical-align: middle;\n    }\n\n    .dataframe tbody tr th {\n        vertical-align: top;\n    }\n\n    .dataframe thead th {\n        text-align: right;\n    }\n</style>\n<table border=\"1\" class=\"dataframe\">\n  <thead>\n    <tr style=\"text-align: right;\">\n      <th></th>\n      <th>name</th>\n      <th>lat</th>\n      <th>lng</th>\n    </tr>\n    <tr>\n      <th>categories</th>\n      <th></th>\n      <th></th>\n      <th></th>\n    </tr>\n  </thead>\n  <tbody>\n    <tr>\n      <th>Argentinian Restaurant</th>\n      <td>1</td>\n      <td>1</td>\n      <td>1</td>\n    </tr>\n    <tr>\n      <th>Art Museum</th>\n      <td>1</td>\n      <td>1</td>\n      <td>1</td>\n    </tr>\n    <tr>\n      <th>Asian Restaurant</th>\n      <td>3</td>\n      <td>3</td>\n      <td>3</td>\n    </tr>\n    <tr>\n      <th>BBQ Joint</th>\n      <td>1</td>\n      <td>1</td>\n      <td>1</td>\n    </tr>\n    <tr>\n      <th>Bagel Shop</th>\n      <td>1</td>\n      <td>1</td>\n      <td>1</td>\n    </tr>\n    <tr>\n      <th>Bakery</th>\n      <td>1</td>\n      <td>1</td>\n      <td>1</td>\n    </tr>\n    <tr>\n      <th>Bar</th>\n      <td>1</td>\n      <td>1</td>\n      <td>1</td>\n    </tr>\n    <tr>\n      <th>Brazilian Restaurant</th>\n      <td>2</td>\n      <td>2</td>\n      <td>2</td>\n    </tr>\n    <tr>\n      <th>Burger Joint</th>\n      <td>3</td>\n      <td>3</td>\n      <td>3</td>\n    </tr>\n    <tr>\n      <th>Caf\u00e9</th>\n      <td>2</td>\n      <td>2</td>\n      <td>2</td>\n    </tr>\n    <tr>\n      <th>Coffee Shop</th>\n      <td>9</td>\n      <td>9</td>\n      <td>9</td>\n    </tr>\n    <tr>\n      <th>Concert Hall</th>\n      <td>1</td>\n      <td>1</td>\n      <td>1</td>\n    </tr>\n    <tr>\n      <th>Convenience Store</th>\n      <td>1</td>\n      <td>1</td>\n      <td>1</td>\n    </tr>\n    <tr>\n      <th>Deli / Bodega</th>\n      <td>1</td>\n      <td>1</td>\n      <td>1</td>\n    </tr>\n    <tr>\n      <th>Dessert Shop</th>\n      <td>1</td>\n      <td>1</td>\n      <td>1</td>\n    </tr>\n    <tr>\n      <th>Diner</th>\n      <td>1</td>\n      <td>1</td>\n      <td>1</td>\n    </tr>\n    <tr>\n      <th>Dive Bar</th>\n      <td>1</td>\n      <td>1</td>\n      <td>1</td>\n    </tr>\n    <tr>\n      <th>Donut Shop</th>\n      <td>1</td>\n      <td>1</td>\n      <td>1</td>\n    </tr>\n    <tr>\n      <th>Dumpling Restaurant</th>\n      <td>1</td>\n      <td>1</td>\n      <td>1</td>\n    </tr>\n    <tr>\n      <th>Farmers Market</th>\n      <td>1</td>\n      <td>1</td>\n      <td>1</td>\n    </tr>\n    <tr>\n      <th>Food Truck</th>\n      <td>2</td>\n      <td>2</td>\n      <td>2</td>\n    </tr>\n    <tr>\n      <th>Greek Restaurant</th>\n      <td>1</td>\n      <td>1</td>\n      <td>1</td>\n    </tr>\n    <tr>\n      <th>Grocery Store</th>\n      <td>3</td>\n      <td>3</td>\n      <td>3</td>\n    </tr>\n    <tr>\n      <th>Historic Site</th>\n      <td>1</td>\n      <td>1</td>\n      <td>1</td>\n    </tr>\n    <tr>\n      <th>Hotel</th>\n      <td>1</td>\n      <td>1</td>\n      <td>1</td>\n    </tr>\n    <tr>\n      <th>Hotel Bar</th>\n      <td>1</td>\n      <td>1</td>\n      <td>1</td>\n    </tr>\n    <tr>\n      <th>Ice Cream Shop</th>\n      <td>5</td>\n      <td>5</td>\n      <td>5</td>\n    </tr>\n    <tr>\n      <th>Italian Restaurant</th>\n      <td>2</td>\n      <td>2</td>\n      <td>2</td>\n    </tr>\n    <tr>\n      <th>Japanese Restaurant</th>\n      <td>3</td>\n      <td>3</td>\n      <td>3</td>\n    </tr>\n    <tr>\n      <th>Korean Restaurant</th>\n      <td>27</td>\n      <td>27</td>\n      <td>27</td>\n    </tr>\n    <tr>\n      <th>Mexican Restaurant</th>\n      <td>3</td>\n      <td>3</td>\n      <td>3</td>\n    </tr>\n    <tr>\n      <th>Neighborhood</th>\n      <td>1</td>\n      <td>1</td>\n      <td>1</td>\n    </tr>\n    <tr>\n      <th>Nightclub</th>\n      <td>1</td>\n      <td>1</td>\n      <td>1</td>\n    </tr>\n    <tr>\n      <th>Optical Shop</th>\n      <td>1</td>\n      <td>1</td>\n      <td>1</td>\n    </tr>\n    <tr>\n      <th>Pizza Place</th>\n      <td>1</td>\n      <td>1</td>\n      <td>1</td>\n    </tr>\n    <tr>\n      <th>Restaurant</th>\n      <td>2</td>\n      <td>2</td>\n      <td>2</td>\n    </tr>\n    <tr>\n      <th>Sandwich Place</th>\n      <td>2</td>\n      <td>2</td>\n      <td>2</td>\n    </tr>\n    <tr>\n      <th>Seafood Restaurant</th>\n      <td>2</td>\n      <td>2</td>\n      <td>2</td>\n    </tr>\n    <tr>\n      <th>Spa</th>\n      <td>1</td>\n      <td>1</td>\n      <td>1</td>\n    </tr>\n    <tr>\n      <th>Steakhouse</th>\n      <td>1</td>\n      <td>1</td>\n      <td>1</td>\n    </tr>\n    <tr>\n      <th>Sushi Restaurant</th>\n      <td>1</td>\n      <td>1</td>\n      <td>1</td>\n    </tr>\n    <tr>\n      <th>Thai Restaurant</th>\n      <td>1</td>\n      <td>1</td>\n      <td>1</td>\n    </tr>\n    <tr>\n      <th>Video Game Store</th>\n      <td>1</td>\n      <td>1</td>\n      <td>1</td>\n    </tr>\n    <tr>\n      <th>Vietnamese Restaurant</th>\n      <td>1</td>\n      <td>1</td>\n      <td>1</td>\n    </tr>\n    <tr>\n      <th>Wings Joint</th>\n      <td>1</td>\n      <td>1</td>\n      <td>1</td>\n    </tr>\n  </tbody>\n</table>\n</div>"
                    },
                    "metadata": {}
                }
            ]
        },
        {
            "metadata": {},
            "cell_type": "code",
            "source": "print('There are {} uniques categories.'.format(len(nearby_venues['name'].unique())))",
            "execution_count": 22,
            "outputs": [
                {
                    "output_type": "stream",
                    "text": "There are 99 uniques categories.\n",
                    "name": "stdout"
                }
            ]
        },
        {
            "metadata": {},
            "cell_type": "code",
            "source": "nearby_venues.shape",
            "execution_count": 23,
            "outputs": [
                {
                    "output_type": "execute_result",
                    "execution_count": 23,
                    "data": {
                        "text/plain": "(100, 4)"
                    },
                    "metadata": {}
                }
            ]
        },
        {
            "metadata": {},
            "cell_type": "code",
            "source": "nearby_venues.columns = ['Venue Name', 'Category', 'Lat', 'Lng']\nnearby_venues.head()",
            "execution_count": 24,
            "outputs": [
                {
                    "output_type": "execute_result",
                    "execution_count": 24,
                    "data": {
                        "text/plain": "                Venue Name               Category        Lat         Lng\n0                Seoul Pho  Vietnamese Restaurant  34.065871 -118.308796\n1           BCD Tofu House      Korean Restaurant  34.061961 -118.302713\n2      Document Coffee Bar            Coffee Shop  34.061254 -118.311050\n3       The Normandie Club              Hotel Bar  34.063555 -118.300856\n4  Kang Ho Dong Baek Jeong      Korean Restaurant  34.063828 -118.297364",
                        "text/html": "<div>\n<style scoped>\n    .dataframe tbody tr th:only-of-type {\n        vertical-align: middle;\n    }\n\n    .dataframe tbody tr th {\n        vertical-align: top;\n    }\n\n    .dataframe thead th {\n        text-align: right;\n    }\n</style>\n<table border=\"1\" class=\"dataframe\">\n  <thead>\n    <tr style=\"text-align: right;\">\n      <th></th>\n      <th>Venue Name</th>\n      <th>Category</th>\n      <th>Lat</th>\n      <th>Lng</th>\n    </tr>\n  </thead>\n  <tbody>\n    <tr>\n      <th>0</th>\n      <td>Seoul Pho</td>\n      <td>Vietnamese Restaurant</td>\n      <td>34.065871</td>\n      <td>-118.308796</td>\n    </tr>\n    <tr>\n      <th>1</th>\n      <td>BCD Tofu House</td>\n      <td>Korean Restaurant</td>\n      <td>34.061961</td>\n      <td>-118.302713</td>\n    </tr>\n    <tr>\n      <th>2</th>\n      <td>Document Coffee Bar</td>\n      <td>Coffee Shop</td>\n      <td>34.061254</td>\n      <td>-118.311050</td>\n    </tr>\n    <tr>\n      <th>3</th>\n      <td>The Normandie Club</td>\n      <td>Hotel Bar</td>\n      <td>34.063555</td>\n      <td>-118.300856</td>\n    </tr>\n    <tr>\n      <th>4</th>\n      <td>Kang Ho Dong Baek Jeong</td>\n      <td>Korean Restaurant</td>\n      <td>34.063828</td>\n      <td>-118.297364</td>\n    </tr>\n  </tbody>\n</table>\n</div>"
                    },
                    "metadata": {}
                }
            ]
        },
        {
            "metadata": {},
            "cell_type": "markdown",
            "source": "## 3. Creating a Data Visualization: The Bar Chart of Top Restaurants in Each Neighborhood"
        },
        {
            "metadata": {},
            "cell_type": "code",
            "source": "# use the inline backend to generate the plots within the browser\n%matplotlib inline \n\nimport matplotlib as mpl\nimport matplotlib.pyplot as plt\n\nmpl.style.use('ggplot') # optional: for ggplot-like style\n\n# check for latest version of Matplotlib\nprint ('Matplotlib version: ', mpl.__version__) # >= 2.0.0",
            "execution_count": 25,
            "outputs": [
                {
                    "output_type": "stream",
                    "text": "Matplotlib version:  3.0.2\n",
                    "name": "stdout"
                }
            ]
        },
        {
            "metadata": {},
            "cell_type": "code",
            "source": "test=nearby_venues\ntest.head()",
            "execution_count": 26,
            "outputs": [
                {
                    "output_type": "execute_result",
                    "execution_count": 26,
                    "data": {
                        "text/plain": "                Venue Name               Category        Lat         Lng\n0                Seoul Pho  Vietnamese Restaurant  34.065871 -118.308796\n1           BCD Tofu House      Korean Restaurant  34.061961 -118.302713\n2      Document Coffee Bar            Coffee Shop  34.061254 -118.311050\n3       The Normandie Club              Hotel Bar  34.063555 -118.300856\n4  Kang Ho Dong Baek Jeong      Korean Restaurant  34.063828 -118.297364",
                        "text/html": "<div>\n<style scoped>\n    .dataframe tbody tr th:only-of-type {\n        vertical-align: middle;\n    }\n\n    .dataframe tbody tr th {\n        vertical-align: top;\n    }\n\n    .dataframe thead th {\n        text-align: right;\n    }\n</style>\n<table border=\"1\" class=\"dataframe\">\n  <thead>\n    <tr style=\"text-align: right;\">\n      <th></th>\n      <th>Venue Name</th>\n      <th>Category</th>\n      <th>Lat</th>\n      <th>Lng</th>\n    </tr>\n  </thead>\n  <tbody>\n    <tr>\n      <th>0</th>\n      <td>Seoul Pho</td>\n      <td>Vietnamese Restaurant</td>\n      <td>34.065871</td>\n      <td>-118.308796</td>\n    </tr>\n    <tr>\n      <th>1</th>\n      <td>BCD Tofu House</td>\n      <td>Korean Restaurant</td>\n      <td>34.061961</td>\n      <td>-118.302713</td>\n    </tr>\n    <tr>\n      <th>2</th>\n      <td>Document Coffee Bar</td>\n      <td>Coffee Shop</td>\n      <td>34.061254</td>\n      <td>-118.311050</td>\n    </tr>\n    <tr>\n      <th>3</th>\n      <td>The Normandie Club</td>\n      <td>Hotel Bar</td>\n      <td>34.063555</td>\n      <td>-118.300856</td>\n    </tr>\n    <tr>\n      <th>4</th>\n      <td>Kang Ho Dong Baek Jeong</td>\n      <td>Korean Restaurant</td>\n      <td>34.063828</td>\n      <td>-118.297364</td>\n    </tr>\n  </tbody>\n</table>\n</div>"
                    },
                    "metadata": {}
                }
            ]
        },
        {
            "metadata": {},
            "cell_type": "code",
            "source": "# add neighborhood_name column back to dataframe\ntest['Neighborhood_name'] = LA_data['name'] ",
            "execution_count": 27,
            "outputs": []
        },
        {
            "metadata": {},
            "cell_type": "code",
            "source": "# step 1 get data set and ready \nLA_Korea=test[['Neighborhood_name','Category']]",
            "execution_count": 28,
            "outputs": []
        },
        {
            "metadata": {},
            "cell_type": "code",
            "source": "LA_Korea.head()",
            "execution_count": 29,
            "outputs": [
                {
                    "output_type": "execute_result",
                    "execution_count": 29,
                    "data": {
                        "text/plain": "  Neighborhood_name               Category\n0             Acton  Vietnamese Restaurant\n1   Adams-Normandie      Korean Restaurant\n2      Agoura Hills            Coffee Shop\n3        Agua Dulce              Hotel Bar\n4          Alhambra      Korean Restaurant",
                        "text/html": "<div>\n<style scoped>\n    .dataframe tbody tr th:only-of-type {\n        vertical-align: middle;\n    }\n\n    .dataframe tbody tr th {\n        vertical-align: top;\n    }\n\n    .dataframe thead th {\n        text-align: right;\n    }\n</style>\n<table border=\"1\" class=\"dataframe\">\n  <thead>\n    <tr style=\"text-align: right;\">\n      <th></th>\n      <th>Neighborhood_name</th>\n      <th>Category</th>\n    </tr>\n  </thead>\n  <tbody>\n    <tr>\n      <th>0</th>\n      <td>Acton</td>\n      <td>Vietnamese Restaurant</td>\n    </tr>\n    <tr>\n      <th>1</th>\n      <td>Adams-Normandie</td>\n      <td>Korean Restaurant</td>\n    </tr>\n    <tr>\n      <th>2</th>\n      <td>Agoura Hills</td>\n      <td>Coffee Shop</td>\n    </tr>\n    <tr>\n      <th>3</th>\n      <td>Agua Dulce</td>\n      <td>Hotel Bar</td>\n    </tr>\n    <tr>\n      <th>4</th>\n      <td>Alhambra</td>\n      <td>Korean Restaurant</td>\n    </tr>\n  </tbody>\n</table>\n</div>"
                    },
                    "metadata": {}
                }
            ]
        },
        {
            "metadata": {
                "scrolled": true
            },
            "cell_type": "code",
            "source": "LA_Korea.shape",
            "execution_count": 30,
            "outputs": [
                {
                    "output_type": "execute_result",
                    "execution_count": 30,
                    "data": {
                        "text/plain": "(100, 2)"
                    },
                    "metadata": {}
                }
            ]
        },
        {
            "metadata": {},
            "cell_type": "code",
            "source": "ax = LA_Korea['Category'].value_counts().plot(kind='bar',\n                                    figsize=(14,8),\n                                    title=\"Most Common Venues by Category\")\nax.set_xlabel(\"Categories\")\nax.set_ylabel(\"Frequency\")",
            "execution_count": 76,
            "outputs": [
                {
                    "output_type": "execute_result",
                    "execution_count": 76,
                    "data": {
                        "text/plain": "Text(0, 0.5, 'Frequency')"
                    },
                    "metadata": {}
                },
                {
                    "output_type": "display_data",
                    "data": {
                        "text/plain": "<Figure size 1008x576 with 1 Axes>",
                        "image/png": "[encoded data removed]"
                    },
                    "metadata": {
                        "needs_background": "light"
                    }
                }
            ]
        },
        {
            "metadata": {},
            "cell_type": "markdown",
            "source": "<h3> Based on the bar chart above \"Most Common Venues by Category\", we find that our initial thoughts on a coffee shop and Korean \n    fusion restaurant is ideal for the Los Angeles restaurant market.</h3>  \n\n\n\n"
        },
        {
            "metadata": {},
            "cell_type": "markdown",
            "source": "\n<p>\n<p>\n\n## 4. Find the top 5 venue categories by frequency within each neighborhood.</h3>"
        },
        {
            "metadata": {},
            "cell_type": "code",
            "source": "LA_onehot = pd.get_dummies(nearby_venues['Category'], prefix=\"\", prefix_sep=\"\")",
            "execution_count": 32,
            "outputs": []
        },
        {
            "metadata": {},
            "cell_type": "code",
            "source": "# add neighborhood_name column back to dataframe\nLA_onehot['Neighborhood_name'] = LA_data['name'] \nLA_onehot.head()",
            "execution_count": 33,
            "outputs": [
                {
                    "output_type": "execute_result",
                    "execution_count": 33,
                    "data": {
                        "text/plain": "   Argentinian Restaurant  Art Museum  Asian Restaurant  BBQ Joint  \\\n0                       0           0                 0          0   \n1                       0           0                 0          0   \n2                       0           0                 0          0   \n3                       0           0                 0          0   \n4                       0           0                 0          0   \n\n   Bagel Shop  Bakery  Bar  Brazilian Restaurant  Burger Joint  Caf\u00e9  \\\n0           0       0    0                     0             0     0   \n1           0       0    0                     0             0     0   \n2           0       0    0                     0             0     0   \n3           0       0    0                     0             0     0   \n4           0       0    0                     0             0     0   \n\n   Coffee Shop  Concert Hall  Convenience Store  Deli / Bodega  Dessert Shop  \\\n0            0             0                  0              0             0   \n1            0             0                  0              0             0   \n2            1             0                  0              0             0   \n3            0             0                  0              0             0   \n4            0             0                  0              0             0   \n\n   Diner  Dive Bar  Donut Shop  Dumpling Restaurant  Farmers Market  \\\n0      0         0           0                    0               0   \n1      0         0           0                    0               0   \n2      0         0           0                    0               0   \n3      0         0           0                    0               0   \n4      0         0           0                    0               0   \n\n   Food Truck  Greek Restaurant  Grocery Store  Historic Site  Hotel  \\\n0           0                 0              0              0      0   \n1           0                 0              0              0      0   \n2           0                 0              0              0      0   \n3           0                 0              0              0      0   \n4           0                 0              0              0      0   \n\n   Hotel Bar  Ice Cream Shop  Italian Restaurant  Japanese Restaurant  \\\n0          0               0                   0                    0   \n1          0               0                   0                    0   \n2          0               0                   0                    0   \n3          1               0                   0                    0   \n4          0               0                   0                    0   \n\n   Korean Restaurant  Mexican Restaurant  Neighborhood  Nightclub  \\\n0                  0                   0             0          0   \n1                  1                   0             0          0   \n2                  0                   0             0          0   \n3                  0                   0             0          0   \n4                  1                   0             0          0   \n\n   Optical Shop  Pizza Place  Restaurant  Sandwich Place  Seafood Restaurant  \\\n0             0            0           0               0                   0   \n1             0            0           0               0                   0   \n2             0            0           0               0                   0   \n3             0            0           0               0                   0   \n4             0            0           0               0                   0   \n\n   Spa  Steakhouse  Sushi Restaurant  Thai Restaurant  Video Game Store  \\\n0    0           0                 0                0                 0   \n1    0           0                 0                0                 0   \n2    0           0                 0                0                 0   \n3    0           0                 0                0                 0   \n4    0           0                 0                0                 0   \n\n   Vietnamese Restaurant  Wings Joint Neighborhood_name  \n0                      1            0             Acton  \n1                      0            0   Adams-Normandie  \n2                      0            0      Agoura Hills  \n3                      0            0        Agua Dulce  \n4                      0            0          Alhambra  ",
                        "text/html": "<div>\n<style scoped>\n    .dataframe tbody tr th:only-of-type {\n        vertical-align: middle;\n    }\n\n    .dataframe tbody tr th {\n        vertical-align: top;\n    }\n\n    .dataframe thead th {\n        text-align: right;\n    }\n</style>\n<table border=\"1\" class=\"dataframe\">\n  <thead>\n    <tr style=\"text-align: right;\">\n      <th></th>\n      <th>Argentinian Restaurant</th>\n      <th>Art Museum</th>\n      <th>Asian Restaurant</th>\n      <th>BBQ Joint</th>\n      <th>Bagel Shop</th>\n      <th>Bakery</th>\n      <th>Bar</th>\n      <th>Brazilian Restaurant</th>\n      <th>Burger Joint</th>\n      <th>Caf\u00e9</th>\n      <th>Coffee Shop</th>\n      <th>Concert Hall</th>\n      <th>Convenience Store</th>\n      <th>Deli / Bodega</th>\n      <th>Dessert Shop</th>\n      <th>Diner</th>\n      <th>Dive Bar</th>\n      <th>Donut Shop</th>\n      <th>Dumpling Restaurant</th>\n      <th>Farmers Market</th>\n      <th>Food Truck</th>\n      <th>Greek Restaurant</th>\n      <th>Grocery Store</th>\n      <th>Historic Site</th>\n      <th>Hotel</th>\n      <th>Hotel Bar</th>\n      <th>Ice Cream Shop</th>\n      <th>Italian Restaurant</th>\n      <th>Japanese Restaurant</th>\n      <th>Korean Restaurant</th>\n      <th>Mexican Restaurant</th>\n      <th>Neighborhood</th>\n      <th>Nightclub</th>\n      <th>Optical Shop</th>\n      <th>Pizza Place</th>\n      <th>Restaurant</th>\n      <th>Sandwich Place</th>\n      <th>Seafood Restaurant</th>\n      <th>Spa</th>\n      <th>Steakhouse</th>\n      <th>Sushi Restaurant</th>\n      <th>Thai Restaurant</th>\n      <th>Video Game Store</th>\n      <th>Vietnamese Restaurant</th>\n      <th>Wings Joint</th>\n      <th>Neighborhood_name</th>\n    </tr>\n  </thead>\n  <tbody>\n    <tr>\n      <th>0</th>\n      <td>0</td>\n      <td>0</td>\n      <td>0</td>\n      <td>0</td>\n      <td>0</td>\n      <td>0</td>\n      <td>0</td>\n      <td>0</td>\n      <td>0</td>\n      <td>0</td>\n      <td>0</td>\n      <td>0</td>\n      <td>0</td>\n      <td>0</td>\n      <td>0</td>\n      <td>0</td>\n      <td>0</td>\n      <td>0</td>\n      <td>0</td>\n      <td>0</td>\n      <td>0</td>\n      <td>0</td>\n      <td>0</td>\n      <td>0</td>\n      <td>0</td>\n      <td>0</td>\n      <td>0</td>\n      <td>0</td>\n      <td>0</td>\n      <td>0</td>\n      <td>0</td>\n      <td>0</td>\n      <td>0</td>\n      <td>0</td>\n      <td>0</td>\n      <td>0</td>\n      <td>0</td>\n      <td>0</td>\n      <td>0</td>\n      <td>0</td>\n      <td>0</td>\n      <td>0</td>\n      <td>0</td>\n      <td>1</td>\n      <td>0</td>\n      <td>Acton</td>\n    </tr>\n    <tr>\n      <th>1</th>\n      <td>0</td>\n      <td>0</td>\n      <td>0</td>\n      <td>0</td>\n      <td>0</td>\n      <td>0</td>\n      <td>0</td>\n      <td>0</td>\n      <td>0</td>\n      <td>0</td>\n      <td>0</td>\n      <td>0</td>\n      <td>0</td>\n      <td>0</td>\n      <td>0</td>\n      <td>0</td>\n      <td>0</td>\n      <td>0</td>\n      <td>0</td>\n      <td>0</td>\n      <td>0</td>\n      <td>0</td>\n      <td>0</td>\n      <td>0</td>\n      <td>0</td>\n      <td>0</td>\n      <td>0</td>\n      <td>0</td>\n      <td>0</td>\n      <td>1</td>\n      <td>0</td>\n      <td>0</td>\n      <td>0</td>\n      <td>0</td>\n      <td>0</td>\n      <td>0</td>\n      <td>0</td>\n      <td>0</td>\n      <td>0</td>\n      <td>0</td>\n      <td>0</td>\n      <td>0</td>\n      <td>0</td>\n      <td>0</td>\n      <td>0</td>\n      <td>Adams-Normandie</td>\n    </tr>\n    <tr>\n      <th>2</th>\n      <td>0</td>\n      <td>0</td>\n      <td>0</td>\n      <td>0</td>\n      <td>0</td>\n      <td>0</td>\n      <td>0</td>\n      <td>0</td>\n      <td>0</td>\n      <td>0</td>\n      <td>1</td>\n      <td>0</td>\n      <td>0</td>\n      <td>0</td>\n      <td>0</td>\n      <td>0</td>\n      <td>0</td>\n      <td>0</td>\n      <td>0</td>\n      <td>0</td>\n      <td>0</td>\n      <td>0</td>\n      <td>0</td>\n      <td>0</td>\n      <td>0</td>\n      <td>0</td>\n      <td>0</td>\n      <td>0</td>\n      <td>0</td>\n      <td>0</td>\n      <td>0</td>\n      <td>0</td>\n      <td>0</td>\n      <td>0</td>\n      <td>0</td>\n      <td>0</td>\n      <td>0</td>\n      <td>0</td>\n      <td>0</td>\n      <td>0</td>\n      <td>0</td>\n      <td>0</td>\n      <td>0</td>\n      <td>0</td>\n      <td>0</td>\n      <td>Agoura Hills</td>\n    </tr>\n    <tr>\n      <th>3</th>\n      <td>0</td>\n      <td>0</td>\n      <td>0</td>\n      <td>0</td>\n      <td>0</td>\n      <td>0</td>\n      <td>0</td>\n      <td>0</td>\n      <td>0</td>\n      <td>0</td>\n      <td>0</td>\n      <td>0</td>\n      <td>0</td>\n      <td>0</td>\n      <td>0</td>\n      <td>0</td>\n      <td>0</td>\n      <td>0</td>\n      <td>0</td>\n      <td>0</td>\n      <td>0</td>\n      <td>0</td>\n      <td>0</td>\n      <td>0</td>\n      <td>0</td>\n      <td>1</td>\n      <td>0</td>\n      <td>0</td>\n      <td>0</td>\n      <td>0</td>\n      <td>0</td>\n      <td>0</td>\n      <td>0</td>\n      <td>0</td>\n      <td>0</td>\n      <td>0</td>\n      <td>0</td>\n      <td>0</td>\n      <td>0</td>\n      <td>0</td>\n      <td>0</td>\n      <td>0</td>\n      <td>0</td>\n      <td>0</td>\n      <td>0</td>\n      <td>Agua Dulce</td>\n    </tr>\n    <tr>\n      <th>4</th>\n      <td>0</td>\n      <td>0</td>\n      <td>0</td>\n      <td>0</td>\n      <td>0</td>\n      <td>0</td>\n      <td>0</td>\n      <td>0</td>\n      <td>0</td>\n      <td>0</td>\n      <td>0</td>\n      <td>0</td>\n      <td>0</td>\n      <td>0</td>\n      <td>0</td>\n      <td>0</td>\n      <td>0</td>\n      <td>0</td>\n      <td>0</td>\n      <td>0</td>\n      <td>0</td>\n      <td>0</td>\n      <td>0</td>\n      <td>0</td>\n      <td>0</td>\n      <td>0</td>\n      <td>0</td>\n      <td>0</td>\n      <td>0</td>\n      <td>1</td>\n      <td>0</td>\n      <td>0</td>\n      <td>0</td>\n      <td>0</td>\n      <td>0</td>\n      <td>0</td>\n      <td>0</td>\n      <td>0</td>\n      <td>0</td>\n      <td>0</td>\n      <td>0</td>\n      <td>0</td>\n      <td>0</td>\n      <td>0</td>\n      <td>0</td>\n      <td>Alhambra</td>\n    </tr>\n  </tbody>\n</table>\n</div>"
                    },
                    "metadata": {}
                }
            ]
        },
        {
            "metadata": {},
            "cell_type": "code",
            "source": "# I'm getting somewhere stopped here \n\n\n# move neighborhood column to the first column\nfixed_columns = [LA_onehot.columns[-1]] + list(LA_onehot.columns[:-1])\nLA_onehot = LA_onehot[fixed_columns]\n\nLA_onehot.head()",
            "execution_count": 34,
            "outputs": [
                {
                    "output_type": "execute_result",
                    "execution_count": 34,
                    "data": {
                        "text/plain": "  Neighborhood_name  Argentinian Restaurant  Art Museum  Asian Restaurant  \\\n0             Acton                       0           0                 0   \n1   Adams-Normandie                       0           0                 0   \n2      Agoura Hills                       0           0                 0   \n3        Agua Dulce                       0           0                 0   \n4          Alhambra                       0           0                 0   \n\n   BBQ Joint  Bagel Shop  Bakery  Bar  Brazilian Restaurant  Burger Joint  \\\n0          0           0       0    0                     0             0   \n1          0           0       0    0                     0             0   \n2          0           0       0    0                     0             0   \n3          0           0       0    0                     0             0   \n4          0           0       0    0                     0             0   \n\n   Caf\u00e9  Coffee Shop  Concert Hall  Convenience Store  Deli / Bodega  \\\n0     0            0             0                  0              0   \n1     0            0             0                  0              0   \n2     0            1             0                  0              0   \n3     0            0             0                  0              0   \n4     0            0             0                  0              0   \n\n   Dessert Shop  Diner  Dive Bar  Donut Shop  Dumpling Restaurant  \\\n0             0      0         0           0                    0   \n1             0      0         0           0                    0   \n2             0      0         0           0                    0   \n3             0      0         0           0                    0   \n4             0      0         0           0                    0   \n\n   Farmers Market  Food Truck  Greek Restaurant  Grocery Store  Historic Site  \\\n0               0           0                 0              0              0   \n1               0           0                 0              0              0   \n2               0           0                 0              0              0   \n3               0           0                 0              0              0   \n4               0           0                 0              0              0   \n\n   Hotel  Hotel Bar  Ice Cream Shop  Italian Restaurant  Japanese Restaurant  \\\n0      0          0               0                   0                    0   \n1      0          0               0                   0                    0   \n2      0          0               0                   0                    0   \n3      0          1               0                   0                    0   \n4      0          0               0                   0                    0   \n\n   Korean Restaurant  Mexican Restaurant  Neighborhood  Nightclub  \\\n0                  0                   0             0          0   \n1                  1                   0             0          0   \n2                  0                   0             0          0   \n3                  0                   0             0          0   \n4                  1                   0             0          0   \n\n   Optical Shop  Pizza Place  Restaurant  Sandwich Place  Seafood Restaurant  \\\n0             0            0           0               0                   0   \n1             0            0           0               0                   0   \n2             0            0           0               0                   0   \n3             0            0           0               0                   0   \n4             0            0           0               0                   0   \n\n   Spa  Steakhouse  Sushi Restaurant  Thai Restaurant  Video Game Store  \\\n0    0           0                 0                0                 0   \n1    0           0                 0                0                 0   \n2    0           0                 0                0                 0   \n3    0           0                 0                0                 0   \n4    0           0                 0                0                 0   \n\n   Vietnamese Restaurant  Wings Joint  \n0                      1            0  \n1                      0            0  \n2                      0            0  \n3                      0            0  \n4                      0            0  ",
                        "text/html": "<div>\n<style scoped>\n    .dataframe tbody tr th:only-of-type {\n        vertical-align: middle;\n    }\n\n    .dataframe tbody tr th {\n        vertical-align: top;\n    }\n\n    .dataframe thead th {\n        text-align: right;\n    }\n</style>\n<table border=\"1\" class=\"dataframe\">\n  <thead>\n    <tr style=\"text-align: right;\">\n      <th></th>\n      <th>Neighborhood_name</th>\n      <th>Argentinian Restaurant</th>\n      <th>Art Museum</th>\n      <th>Asian Restaurant</th>\n      <th>BBQ Joint</th>\n      <th>Bagel Shop</th>\n      <th>Bakery</th>\n      <th>Bar</th>\n      <th>Brazilian Restaurant</th>\n      <th>Burger Joint</th>\n      <th>Caf\u00e9</th>\n      <th>Coffee Shop</th>\n      <th>Concert Hall</th>\n      <th>Convenience Store</th>\n      <th>Deli / Bodega</th>\n      <th>Dessert Shop</th>\n      <th>Diner</th>\n      <th>Dive Bar</th>\n      <th>Donut Shop</th>\n      <th>Dumpling Restaurant</th>\n      <th>Farmers Market</th>\n      <th>Food Truck</th>\n      <th>Greek Restaurant</th>\n      <th>Grocery Store</th>\n      <th>Historic Site</th>\n      <th>Hotel</th>\n      <th>Hotel Bar</th>\n      <th>Ice Cream Shop</th>\n      <th>Italian Restaurant</th>\n      <th>Japanese Restaurant</th>\n      <th>Korean Restaurant</th>\n      <th>Mexican Restaurant</th>\n      <th>Neighborhood</th>\n      <th>Nightclub</th>\n      <th>Optical Shop</th>\n      <th>Pizza Place</th>\n      <th>Restaurant</th>\n      <th>Sandwich Place</th>\n      <th>Seafood Restaurant</th>\n      <th>Spa</th>\n      <th>Steakhouse</th>\n      <th>Sushi Restaurant</th>\n      <th>Thai Restaurant</th>\n      <th>Video Game Store</th>\n      <th>Vietnamese Restaurant</th>\n      <th>Wings Joint</th>\n    </tr>\n  </thead>\n  <tbody>\n    <tr>\n      <th>0</th>\n      <td>Acton</td>\n      <td>0</td>\n      <td>0</td>\n      <td>0</td>\n      <td>0</td>\n      <td>0</td>\n      <td>0</td>\n      <td>0</td>\n      <td>0</td>\n      <td>0</td>\n      <td>0</td>\n      <td>0</td>\n      <td>0</td>\n      <td>0</td>\n      <td>0</td>\n      <td>0</td>\n      <td>0</td>\n      <td>0</td>\n      <td>0</td>\n      <td>0</td>\n      <td>0</td>\n      <td>0</td>\n      <td>0</td>\n      <td>0</td>\n      <td>0</td>\n      <td>0</td>\n      <td>0</td>\n      <td>0</td>\n      <td>0</td>\n      <td>0</td>\n      <td>0</td>\n      <td>0</td>\n      <td>0</td>\n      <td>0</td>\n      <td>0</td>\n      <td>0</td>\n      <td>0</td>\n      <td>0</td>\n      <td>0</td>\n      <td>0</td>\n      <td>0</td>\n      <td>0</td>\n      <td>0</td>\n      <td>0</td>\n      <td>1</td>\n      <td>0</td>\n    </tr>\n    <tr>\n      <th>1</th>\n      <td>Adams-Normandie</td>\n      <td>0</td>\n      <td>0</td>\n      <td>0</td>\n      <td>0</td>\n      <td>0</td>\n      <td>0</td>\n      <td>0</td>\n      <td>0</td>\n      <td>0</td>\n      <td>0</td>\n      <td>0</td>\n      <td>0</td>\n      <td>0</td>\n      <td>0</td>\n      <td>0</td>\n      <td>0</td>\n      <td>0</td>\n      <td>0</td>\n      <td>0</td>\n      <td>0</td>\n      <td>0</td>\n      <td>0</td>\n      <td>0</td>\n      <td>0</td>\n      <td>0</td>\n      <td>0</td>\n      <td>0</td>\n      <td>0</td>\n      <td>0</td>\n      <td>1</td>\n      <td>0</td>\n      <td>0</td>\n      <td>0</td>\n      <td>0</td>\n      <td>0</td>\n      <td>0</td>\n      <td>0</td>\n      <td>0</td>\n      <td>0</td>\n      <td>0</td>\n      <td>0</td>\n      <td>0</td>\n      <td>0</td>\n      <td>0</td>\n      <td>0</td>\n    </tr>\n    <tr>\n      <th>2</th>\n      <td>Agoura Hills</td>\n      <td>0</td>\n      <td>0</td>\n      <td>0</td>\n      <td>0</td>\n      <td>0</td>\n      <td>0</td>\n      <td>0</td>\n      <td>0</td>\n      <td>0</td>\n      <td>0</td>\n      <td>1</td>\n      <td>0</td>\n      <td>0</td>\n      <td>0</td>\n      <td>0</td>\n      <td>0</td>\n      <td>0</td>\n      <td>0</td>\n      <td>0</td>\n      <td>0</td>\n      <td>0</td>\n      <td>0</td>\n      <td>0</td>\n      <td>0</td>\n      <td>0</td>\n      <td>0</td>\n      <td>0</td>\n      <td>0</td>\n      <td>0</td>\n      <td>0</td>\n      <td>0</td>\n      <td>0</td>\n      <td>0</td>\n      <td>0</td>\n      <td>0</td>\n      <td>0</td>\n      <td>0</td>\n      <td>0</td>\n      <td>0</td>\n      <td>0</td>\n      <td>0</td>\n      <td>0</td>\n      <td>0</td>\n      <td>0</td>\n      <td>0</td>\n    </tr>\n    <tr>\n      <th>3</th>\n      <td>Agua Dulce</td>\n      <td>0</td>\n      <td>0</td>\n      <td>0</td>\n      <td>0</td>\n      <td>0</td>\n      <td>0</td>\n      <td>0</td>\n      <td>0</td>\n      <td>0</td>\n      <td>0</td>\n      <td>0</td>\n      <td>0</td>\n      <td>0</td>\n      <td>0</td>\n      <td>0</td>\n      <td>0</td>\n      <td>0</td>\n      <td>0</td>\n      <td>0</td>\n      <td>0</td>\n      <td>0</td>\n      <td>0</td>\n      <td>0</td>\n      <td>0</td>\n      <td>0</td>\n      <td>1</td>\n      <td>0</td>\n      <td>0</td>\n      <td>0</td>\n      <td>0</td>\n      <td>0</td>\n      <td>0</td>\n      <td>0</td>\n      <td>0</td>\n      <td>0</td>\n      <td>0</td>\n      <td>0</td>\n      <td>0</td>\n      <td>0</td>\n      <td>0</td>\n      <td>0</td>\n      <td>0</td>\n      <td>0</td>\n      <td>0</td>\n      <td>0</td>\n    </tr>\n    <tr>\n      <th>4</th>\n      <td>Alhambra</td>\n      <td>0</td>\n      <td>0</td>\n      <td>0</td>\n      <td>0</td>\n      <td>0</td>\n      <td>0</td>\n      <td>0</td>\n      <td>0</td>\n      <td>0</td>\n      <td>0</td>\n      <td>0</td>\n      <td>0</td>\n      <td>0</td>\n      <td>0</td>\n      <td>0</td>\n      <td>0</td>\n      <td>0</td>\n      <td>0</td>\n      <td>0</td>\n      <td>0</td>\n      <td>0</td>\n      <td>0</td>\n      <td>0</td>\n      <td>0</td>\n      <td>0</td>\n      <td>0</td>\n      <td>0</td>\n      <td>0</td>\n      <td>0</td>\n      <td>1</td>\n      <td>0</td>\n      <td>0</td>\n      <td>0</td>\n      <td>0</td>\n      <td>0</td>\n      <td>0</td>\n      <td>0</td>\n      <td>0</td>\n      <td>0</td>\n      <td>0</td>\n      <td>0</td>\n      <td>0</td>\n      <td>0</td>\n      <td>0</td>\n      <td>0</td>\n    </tr>\n  </tbody>\n</table>\n</div>"
                    },
                    "metadata": {}
                }
            ]
        },
        {
            "metadata": {},
            "cell_type": "code",
            "source": "#grouped = venues_onehot.groupby('Street').mean().reset_index()\n#grouped\n\n\nLA_venues_grouped= LA_onehot.groupby('Neighborhood_name').mean().reset_index()\nLA_venues_grouped.head()",
            "execution_count": 35,
            "outputs": [
                {
                    "output_type": "execute_result",
                    "execution_count": 35,
                    "data": {
                        "text/plain": "  Neighborhood_name  Argentinian Restaurant  Art Museum  Asian Restaurant  \\\n0             Acton                       0           0                 0   \n1   Adams-Normandie                       0           0                 0   \n2      Agoura Hills                       0           0                 0   \n3        Agua Dulce                       0           0                 0   \n4          Alhambra                       0           0                 0   \n\n   BBQ Joint  Bagel Shop  Bakery  Bar  Brazilian Restaurant  Burger Joint  \\\n0          0           0       0    0                     0             0   \n1          0           0       0    0                     0             0   \n2          0           0       0    0                     0             0   \n3          0           0       0    0                     0             0   \n4          0           0       0    0                     0             0   \n\n   Caf\u00e9  Coffee Shop  Concert Hall  Convenience Store  Deli / Bodega  \\\n0     0            0             0                  0              0   \n1     0            0             0                  0              0   \n2     0            1             0                  0              0   \n3     0            0             0                  0              0   \n4     0            0             0                  0              0   \n\n   Dessert Shop  Diner  Dive Bar  Donut Shop  Dumpling Restaurant  \\\n0             0      0         0           0                    0   \n1             0      0         0           0                    0   \n2             0      0         0           0                    0   \n3             0      0         0           0                    0   \n4             0      0         0           0                    0   \n\n   Farmers Market  Food Truck  Greek Restaurant  Grocery Store  Historic Site  \\\n0               0           0                 0              0              0   \n1               0           0                 0              0              0   \n2               0           0                 0              0              0   \n3               0           0                 0              0              0   \n4               0           0                 0              0              0   \n\n   Hotel  Hotel Bar  Ice Cream Shop  Italian Restaurant  Japanese Restaurant  \\\n0      0          0               0                   0                    0   \n1      0          0               0                   0                    0   \n2      0          0               0                   0                    0   \n3      0          1               0                   0                    0   \n4      0          0               0                   0                    0   \n\n   Korean Restaurant  Mexican Restaurant  Neighborhood  Nightclub  \\\n0                  0                   0             0          0   \n1                  1                   0             0          0   \n2                  0                   0             0          0   \n3                  0                   0             0          0   \n4                  1                   0             0          0   \n\n   Optical Shop  Pizza Place  Restaurant  Sandwich Place  Seafood Restaurant  \\\n0             0            0           0               0                   0   \n1             0            0           0               0                   0   \n2             0            0           0               0                   0   \n3             0            0           0               0                   0   \n4             0            0           0               0                   0   \n\n   Spa  Steakhouse  Sushi Restaurant  Thai Restaurant  Video Game Store  \\\n0    0           0                 0                0                 0   \n1    0           0                 0                0                 0   \n2    0           0                 0                0                 0   \n3    0           0                 0                0                 0   \n4    0           0                 0                0                 0   \n\n   Vietnamese Restaurant  Wings Joint  \n0                      1            0  \n1                      0            0  \n2                      0            0  \n3                      0            0  \n4                      0            0  ",
                        "text/html": "<div>\n<style scoped>\n    .dataframe tbody tr th:only-of-type {\n        vertical-align: middle;\n    }\n\n    .dataframe tbody tr th {\n        vertical-align: top;\n    }\n\n    .dataframe thead th {\n        text-align: right;\n    }\n</style>\n<table border=\"1\" class=\"dataframe\">\n  <thead>\n    <tr style=\"text-align: right;\">\n      <th></th>\n      <th>Neighborhood_name</th>\n      <th>Argentinian Restaurant</th>\n      <th>Art Museum</th>\n      <th>Asian Restaurant</th>\n      <th>BBQ Joint</th>\n      <th>Bagel Shop</th>\n      <th>Bakery</th>\n      <th>Bar</th>\n      <th>Brazilian Restaurant</th>\n      <th>Burger Joint</th>\n      <th>Caf\u00e9</th>\n      <th>Coffee Shop</th>\n      <th>Concert Hall</th>\n      <th>Convenience Store</th>\n      <th>Deli / Bodega</th>\n      <th>Dessert Shop</th>\n      <th>Diner</th>\n      <th>Dive Bar</th>\n      <th>Donut Shop</th>\n      <th>Dumpling Restaurant</th>\n      <th>Farmers Market</th>\n      <th>Food Truck</th>\n      <th>Greek Restaurant</th>\n      <th>Grocery Store</th>\n      <th>Historic Site</th>\n      <th>Hotel</th>\n      <th>Hotel Bar</th>\n      <th>Ice Cream Shop</th>\n      <th>Italian Restaurant</th>\n      <th>Japanese Restaurant</th>\n      <th>Korean Restaurant</th>\n      <th>Mexican Restaurant</th>\n      <th>Neighborhood</th>\n      <th>Nightclub</th>\n      <th>Optical Shop</th>\n      <th>Pizza Place</th>\n      <th>Restaurant</th>\n      <th>Sandwich Place</th>\n      <th>Seafood Restaurant</th>\n      <th>Spa</th>\n      <th>Steakhouse</th>\n      <th>Sushi Restaurant</th>\n      <th>Thai Restaurant</th>\n      <th>Video Game Store</th>\n      <th>Vietnamese Restaurant</th>\n      <th>Wings Joint</th>\n    </tr>\n  </thead>\n  <tbody>\n    <tr>\n      <th>0</th>\n      <td>Acton</td>\n      <td>0</td>\n      <td>0</td>\n      <td>0</td>\n      <td>0</td>\n      <td>0</td>\n      <td>0</td>\n      <td>0</td>\n      <td>0</td>\n      <td>0</td>\n      <td>0</td>\n      <td>0</td>\n      <td>0</td>\n      <td>0</td>\n      <td>0</td>\n      <td>0</td>\n      <td>0</td>\n      <td>0</td>\n      <td>0</td>\n      <td>0</td>\n      <td>0</td>\n      <td>0</td>\n      <td>0</td>\n      <td>0</td>\n      <td>0</td>\n      <td>0</td>\n      <td>0</td>\n      <td>0</td>\n      <td>0</td>\n      <td>0</td>\n      <td>0</td>\n      <td>0</td>\n      <td>0</td>\n      <td>0</td>\n      <td>0</td>\n      <td>0</td>\n      <td>0</td>\n      <td>0</td>\n      <td>0</td>\n      <td>0</td>\n      <td>0</td>\n      <td>0</td>\n      <td>0</td>\n      <td>0</td>\n      <td>1</td>\n      <td>0</td>\n    </tr>\n    <tr>\n      <th>1</th>\n      <td>Adams-Normandie</td>\n      <td>0</td>\n      <td>0</td>\n      <td>0</td>\n      <td>0</td>\n      <td>0</td>\n      <td>0</td>\n      <td>0</td>\n      <td>0</td>\n      <td>0</td>\n      <td>0</td>\n      <td>0</td>\n      <td>0</td>\n      <td>0</td>\n      <td>0</td>\n      <td>0</td>\n      <td>0</td>\n      <td>0</td>\n      <td>0</td>\n      <td>0</td>\n      <td>0</td>\n      <td>0</td>\n      <td>0</td>\n      <td>0</td>\n      <td>0</td>\n      <td>0</td>\n      <td>0</td>\n      <td>0</td>\n      <td>0</td>\n      <td>0</td>\n      <td>1</td>\n      <td>0</td>\n      <td>0</td>\n      <td>0</td>\n      <td>0</td>\n      <td>0</td>\n      <td>0</td>\n      <td>0</td>\n      <td>0</td>\n      <td>0</td>\n      <td>0</td>\n      <td>0</td>\n      <td>0</td>\n      <td>0</td>\n      <td>0</td>\n      <td>0</td>\n    </tr>\n    <tr>\n      <th>2</th>\n      <td>Agoura Hills</td>\n      <td>0</td>\n      <td>0</td>\n      <td>0</td>\n      <td>0</td>\n      <td>0</td>\n      <td>0</td>\n      <td>0</td>\n      <td>0</td>\n      <td>0</td>\n      <td>0</td>\n      <td>1</td>\n      <td>0</td>\n      <td>0</td>\n      <td>0</td>\n      <td>0</td>\n      <td>0</td>\n      <td>0</td>\n      <td>0</td>\n      <td>0</td>\n      <td>0</td>\n      <td>0</td>\n      <td>0</td>\n      <td>0</td>\n      <td>0</td>\n      <td>0</td>\n      <td>0</td>\n      <td>0</td>\n      <td>0</td>\n      <td>0</td>\n      <td>0</td>\n      <td>0</td>\n      <td>0</td>\n      <td>0</td>\n      <td>0</td>\n      <td>0</td>\n      <td>0</td>\n      <td>0</td>\n      <td>0</td>\n      <td>0</td>\n      <td>0</td>\n      <td>0</td>\n      <td>0</td>\n      <td>0</td>\n      <td>0</td>\n      <td>0</td>\n    </tr>\n    <tr>\n      <th>3</th>\n      <td>Agua Dulce</td>\n      <td>0</td>\n      <td>0</td>\n      <td>0</td>\n      <td>0</td>\n      <td>0</td>\n      <td>0</td>\n      <td>0</td>\n      <td>0</td>\n      <td>0</td>\n      <td>0</td>\n      <td>0</td>\n      <td>0</td>\n      <td>0</td>\n      <td>0</td>\n      <td>0</td>\n      <td>0</td>\n      <td>0</td>\n      <td>0</td>\n      <td>0</td>\n      <td>0</td>\n      <td>0</td>\n      <td>0</td>\n      <td>0</td>\n      <td>0</td>\n      <td>0</td>\n      <td>1</td>\n      <td>0</td>\n      <td>0</td>\n      <td>0</td>\n      <td>0</td>\n      <td>0</td>\n      <td>0</td>\n      <td>0</td>\n      <td>0</td>\n      <td>0</td>\n      <td>0</td>\n      <td>0</td>\n      <td>0</td>\n      <td>0</td>\n      <td>0</td>\n      <td>0</td>\n      <td>0</td>\n      <td>0</td>\n      <td>0</td>\n      <td>0</td>\n    </tr>\n    <tr>\n      <th>4</th>\n      <td>Alhambra</td>\n      <td>0</td>\n      <td>0</td>\n      <td>0</td>\n      <td>0</td>\n      <td>0</td>\n      <td>0</td>\n      <td>0</td>\n      <td>0</td>\n      <td>0</td>\n      <td>0</td>\n      <td>0</td>\n      <td>0</td>\n      <td>0</td>\n      <td>0</td>\n      <td>0</td>\n      <td>0</td>\n      <td>0</td>\n      <td>0</td>\n      <td>0</td>\n      <td>0</td>\n      <td>0</td>\n      <td>0</td>\n      <td>0</td>\n      <td>0</td>\n      <td>0</td>\n      <td>0</td>\n      <td>0</td>\n      <td>0</td>\n      <td>0</td>\n      <td>1</td>\n      <td>0</td>\n      <td>0</td>\n      <td>0</td>\n      <td>0</td>\n      <td>0</td>\n      <td>0</td>\n      <td>0</td>\n      <td>0</td>\n      <td>0</td>\n      <td>0</td>\n      <td>0</td>\n      <td>0</td>\n      <td>0</td>\n      <td>0</td>\n      <td>0</td>\n    </tr>\n  </tbody>\n</table>\n</div>"
                    },
                    "metadata": {}
                }
            ]
        },
        {
            "metadata": {},
            "cell_type": "code",
            "source": "LA_venues_grouped.shape",
            "execution_count": 36,
            "outputs": [
                {
                    "output_type": "execute_result",
                    "execution_count": 36,
                    "data": {
                        "text/plain": "(100, 46)"
                    },
                    "metadata": {}
                }
            ]
        },
        {
            "metadata": {},
            "cell_type": "code",
            "source": "num_top_venues = 5\n\nfor hood in LA_venues_grouped['Neighborhood_name']:\n    print(\"----\"+hood+\"----\")\n    temp = LA_venues_grouped[LA_venues_grouped['Neighborhood_name'] == hood].T.reset_index()\n    temp.columns = ['venue','freq']\n    temp = temp.iloc[1:]\n    temp['freq'] = temp['freq'].astype(float)\n    temp = temp.round({'freq': 2})\n    print(temp.sort_values('freq', ascending=False).reset_index(drop=True).head(num_top_venues))\n    print('\\n').head()",
            "execution_count": 57,
            "outputs": [
                {
                    "output_type": "stream",
                    "text": "----Acton----\n                    venue  freq\n0   Vietnamese Restaurant   1.0\n1  Argentinian Restaurant   0.0\n2            Optical Shop   0.0\n3               Hotel Bar   0.0\n4          Ice Cream Shop   0.0\n\n\n",
                    "name": "stdout"
                },
                {
                    "output_type": "error",
                    "ename": "AttributeError",
                    "evalue": "'NoneType' object has no attribute 'head'",
                    "traceback": [
                        "\u001b[0;31m---------------------------------------------------------------------------\u001b[0m",
                        "\u001b[0;31mAttributeError\u001b[0m                            Traceback (most recent call last)",
                        "\u001b[0;32m<ipython-input-57-c0396a55e2db>\u001b[0m in \u001b[0;36m<module>\u001b[0;34m\u001b[0m\n\u001b[1;32m      9\u001b[0m     \u001b[0mtemp\u001b[0m \u001b[0;34m=\u001b[0m \u001b[0mtemp\u001b[0m\u001b[0;34m.\u001b[0m\u001b[0mround\u001b[0m\u001b[0;34m(\u001b[0m\u001b[0;34m{\u001b[0m\u001b[0;34m'freq'\u001b[0m\u001b[0;34m:\u001b[0m \u001b[0;36m2\u001b[0m\u001b[0;34m}\u001b[0m\u001b[0;34m)\u001b[0m\u001b[0;34m\u001b[0m\u001b[0;34m\u001b[0m\u001b[0m\n\u001b[1;32m     10\u001b[0m     \u001b[0mprint\u001b[0m\u001b[0;34m(\u001b[0m\u001b[0mtemp\u001b[0m\u001b[0;34m.\u001b[0m\u001b[0msort_values\u001b[0m\u001b[0;34m(\u001b[0m\u001b[0;34m'freq'\u001b[0m\u001b[0;34m,\u001b[0m \u001b[0mascending\u001b[0m\u001b[0;34m=\u001b[0m\u001b[0;32mFalse\u001b[0m\u001b[0;34m)\u001b[0m\u001b[0;34m.\u001b[0m\u001b[0mreset_index\u001b[0m\u001b[0;34m(\u001b[0m\u001b[0mdrop\u001b[0m\u001b[0;34m=\u001b[0m\u001b[0;32mTrue\u001b[0m\u001b[0;34m)\u001b[0m\u001b[0;34m.\u001b[0m\u001b[0mhead\u001b[0m\u001b[0;34m(\u001b[0m\u001b[0mnum_top_venues\u001b[0m\u001b[0;34m)\u001b[0m\u001b[0;34m)\u001b[0m\u001b[0;34m\u001b[0m\u001b[0;34m\u001b[0m\u001b[0m\n\u001b[0;32m---> 11\u001b[0;31m     \u001b[0mprint\u001b[0m\u001b[0;34m(\u001b[0m\u001b[0;34m'\\n'\u001b[0m\u001b[0;34m)\u001b[0m\u001b[0;34m.\u001b[0m\u001b[0mhead\u001b[0m\u001b[0;34m(\u001b[0m\u001b[0;34m)\u001b[0m\u001b[0;34m\u001b[0m\u001b[0;34m\u001b[0m\u001b[0m\n\u001b[0m",
                        "\u001b[0;31mAttributeError\u001b[0m: 'NoneType' object has no attribute 'head'"
                    ]
                }
            ]
        },
        {
            "metadata": {},
            "cell_type": "code",
            "source": "",
            "execution_count": null,
            "outputs": []
        },
        {
            "metadata": {},
            "cell_type": "code",
            "source": "def return_most_common_venues(row, num_top_venues):\n    row_categories = row.iloc[1:]\n    row_categories_sorted = row_categories.sort_values(ascending=False)\n    \n    return row_categories_sorted.index.values[0:num_top_venues]\n",
            "execution_count": 58,
            "outputs": []
        },
        {
            "metadata": {},
            "cell_type": "code",
            "source": "num_top_venues = 5\n\nindicators = ['st', 'nd', 'rd']\n\n# create columns according to number of top venues\ncolumns = ['Neighborhood_name']\nfor ind in np.arange(num_top_venues):\n    try:\n        columns.append('{}{} Most Common Venue'.format(ind+1, indicators[ind]))\n    except:\n        columns.append('{}th Most Common Venue'.format(ind+1))\n\n# create a new dataframe\nneighborhoods_venues_sorted = pd.DataFrame(columns=columns)\nneighborhoods_venues_sorted['Neighborhood_name'] = LA_venues_grouped['Neighborhood_name']\n\nfor ind in np.arange(LA_venues_grouped.shape[0]):\n    neighborhoods_venues_sorted.iloc[ind, 1:] = return_most_common_venues(LA_venues_grouped.iloc[ind, :], num_top_venues)\n\nneighborhoods_venues_sorted.head(20)",
            "execution_count": 59,
            "outputs": [
                {
                    "output_type": "execute_result",
                    "execution_count": 59,
                    "data": {
                        "text/plain": "         Neighborhood_name  1st Most Common Venue 2nd Most Common Venue  \\\n0                    Acton  Vietnamese Restaurant          Concert Hall   \n1          Adams-Normandie      Korean Restaurant           Wings Joint   \n2             Agoura Hills            Coffee Shop      Greek Restaurant   \n3               Agua Dulce              Hotel Bar           Wings Joint   \n4                 Alhambra      Korean Restaurant           Wings Joint   \n5             Alondra Park           Concert Hall           Wings Joint   \n6                 Altadena          Grocery Store      Greek Restaurant   \n7            Angeles Crest      Korean Restaurant           Wings Joint   \n8                  Arcadia   Brazilian Restaurant           Wings Joint   \n9                   Arleta           Burger Joint           Wings Joint   \n10       Arlington Heights      Korean Restaurant           Wings Joint   \n11                 Artesia      Korean Restaurant           Wings Joint   \n12                  Athens     Seafood Restaurant           Wings Joint   \n13         Atwater Village         Sandwich Place           Wings Joint   \n14                  Avalon      Korean Restaurant           Wings Joint   \n15         Avocado Heights      Korean Restaurant           Wings Joint   \n16                   Azusa         Ice Cream Shop           Wings Joint   \n17  Baldwin Hills/Crenshaw           Dessert Shop           Wings Joint   \n18            Baldwin Park      Korean Restaurant           Wings Joint   \n19                 Bel-Air       Asian Restaurant           Wings Joint   \n\n   3rd Most Common Venue 4th Most Common Venue 5th Most Common Venue  \n0             Food Truck        Farmers Market   Dumpling Restaurant  \n1           Concert Hall        Farmers Market   Dumpling Restaurant  \n2         Farmers Market   Dumpling Restaurant            Donut Shop  \n3           Concert Hall        Farmers Market   Dumpling Restaurant  \n4           Concert Hall        Farmers Market   Dumpling Restaurant  \n5       Greek Restaurant        Farmers Market   Dumpling Restaurant  \n6         Farmers Market   Dumpling Restaurant            Donut Shop  \n7           Concert Hall        Farmers Market   Dumpling Restaurant  \n8           Concert Hall        Farmers Market   Dumpling Restaurant  \n9           Concert Hall        Farmers Market   Dumpling Restaurant  \n10          Concert Hall        Farmers Market   Dumpling Restaurant  \n11          Concert Hall        Farmers Market   Dumpling Restaurant  \n12           Coffee Shop        Farmers Market   Dumpling Restaurant  \n13           Coffee Shop        Farmers Market   Dumpling Restaurant  \n14          Concert Hall        Farmers Market   Dumpling Restaurant  \n15          Concert Hall        Farmers Market   Dumpling Restaurant  \n16          Concert Hall        Farmers Market   Dumpling Restaurant  \n17      Greek Restaurant        Farmers Market   Dumpling Restaurant  \n18          Concert Hall        Farmers Market   Dumpling Restaurant  \n19          Concert Hall        Farmers Market   Dumpling Restaurant  ",
                        "text/html": "<div>\n<style scoped>\n    .dataframe tbody tr th:only-of-type {\n        vertical-align: middle;\n    }\n\n    .dataframe tbody tr th {\n        vertical-align: top;\n    }\n\n    .dataframe thead th {\n        text-align: right;\n    }\n</style>\n<table border=\"1\" class=\"dataframe\">\n  <thead>\n    <tr style=\"text-align: right;\">\n      <th></th>\n      <th>Neighborhood_name</th>\n      <th>1st Most Common Venue</th>\n      <th>2nd Most Common Venue</th>\n      <th>3rd Most Common Venue</th>\n      <th>4th Most Common Venue</th>\n      <th>5th Most Common Venue</th>\n    </tr>\n  </thead>\n  <tbody>\n    <tr>\n      <th>0</th>\n      <td>Acton</td>\n      <td>Vietnamese Restaurant</td>\n      <td>Concert Hall</td>\n      <td>Food Truck</td>\n      <td>Farmers Market</td>\n      <td>Dumpling Restaurant</td>\n    </tr>\n    <tr>\n      <th>1</th>\n      <td>Adams-Normandie</td>\n      <td>Korean Restaurant</td>\n      <td>Wings Joint</td>\n      <td>Concert Hall</td>\n      <td>Farmers Market</td>\n      <td>Dumpling Restaurant</td>\n    </tr>\n    <tr>\n      <th>2</th>\n      <td>Agoura Hills</td>\n      <td>Coffee Shop</td>\n      <td>Greek Restaurant</td>\n      <td>Farmers Market</td>\n      <td>Dumpling Restaurant</td>\n      <td>Donut Shop</td>\n    </tr>\n    <tr>\n      <th>3</th>\n      <td>Agua Dulce</td>\n      <td>Hotel Bar</td>\n      <td>Wings Joint</td>\n      <td>Concert Hall</td>\n      <td>Farmers Market</td>\n      <td>Dumpling Restaurant</td>\n    </tr>\n    <tr>\n      <th>4</th>\n      <td>Alhambra</td>\n      <td>Korean Restaurant</td>\n      <td>Wings Joint</td>\n      <td>Concert Hall</td>\n      <td>Farmers Market</td>\n      <td>Dumpling Restaurant</td>\n    </tr>\n    <tr>\n      <th>5</th>\n      <td>Alondra Park</td>\n      <td>Concert Hall</td>\n      <td>Wings Joint</td>\n      <td>Greek Restaurant</td>\n      <td>Farmers Market</td>\n      <td>Dumpling Restaurant</td>\n    </tr>\n    <tr>\n      <th>6</th>\n      <td>Altadena</td>\n      <td>Grocery Store</td>\n      <td>Greek Restaurant</td>\n      <td>Farmers Market</td>\n      <td>Dumpling Restaurant</td>\n      <td>Donut Shop</td>\n    </tr>\n    <tr>\n      <th>7</th>\n      <td>Angeles Crest</td>\n      <td>Korean Restaurant</td>\n      <td>Wings Joint</td>\n      <td>Concert Hall</td>\n      <td>Farmers Market</td>\n      <td>Dumpling Restaurant</td>\n    </tr>\n    <tr>\n      <th>8</th>\n      <td>Arcadia</td>\n      <td>Brazilian Restaurant</td>\n      <td>Wings Joint</td>\n      <td>Concert Hall</td>\n      <td>Farmers Market</td>\n      <td>Dumpling Restaurant</td>\n    </tr>\n    <tr>\n      <th>9</th>\n      <td>Arleta</td>\n      <td>Burger Joint</td>\n      <td>Wings Joint</td>\n      <td>Concert Hall</td>\n      <td>Farmers Market</td>\n      <td>Dumpling Restaurant</td>\n    </tr>\n    <tr>\n      <th>10</th>\n      <td>Arlington Heights</td>\n      <td>Korean Restaurant</td>\n      <td>Wings Joint</td>\n      <td>Concert Hall</td>\n      <td>Farmers Market</td>\n      <td>Dumpling Restaurant</td>\n    </tr>\n    <tr>\n      <th>11</th>\n      <td>Artesia</td>\n      <td>Korean Restaurant</td>\n      <td>Wings Joint</td>\n      <td>Concert Hall</td>\n      <td>Farmers Market</td>\n      <td>Dumpling Restaurant</td>\n    </tr>\n    <tr>\n      <th>12</th>\n      <td>Athens</td>\n      <td>Seafood Restaurant</td>\n      <td>Wings Joint</td>\n      <td>Coffee Shop</td>\n      <td>Farmers Market</td>\n      <td>Dumpling Restaurant</td>\n    </tr>\n    <tr>\n      <th>13</th>\n      <td>Atwater Village</td>\n      <td>Sandwich Place</td>\n      <td>Wings Joint</td>\n      <td>Coffee Shop</td>\n      <td>Farmers Market</td>\n      <td>Dumpling Restaurant</td>\n    </tr>\n    <tr>\n      <th>14</th>\n      <td>Avalon</td>\n      <td>Korean Restaurant</td>\n      <td>Wings Joint</td>\n      <td>Concert Hall</td>\n      <td>Farmers Market</td>\n      <td>Dumpling Restaurant</td>\n    </tr>\n    <tr>\n      <th>15</th>\n      <td>Avocado Heights</td>\n      <td>Korean Restaurant</td>\n      <td>Wings Joint</td>\n      <td>Concert Hall</td>\n      <td>Farmers Market</td>\n      <td>Dumpling Restaurant</td>\n    </tr>\n    <tr>\n      <th>16</th>\n      <td>Azusa</td>\n      <td>Ice Cream Shop</td>\n      <td>Wings Joint</td>\n      <td>Concert Hall</td>\n      <td>Farmers Market</td>\n      <td>Dumpling Restaurant</td>\n    </tr>\n    <tr>\n      <th>17</th>\n      <td>Baldwin Hills/Crenshaw</td>\n      <td>Dessert Shop</td>\n      <td>Wings Joint</td>\n      <td>Greek Restaurant</td>\n      <td>Farmers Market</td>\n      <td>Dumpling Restaurant</td>\n    </tr>\n    <tr>\n      <th>18</th>\n      <td>Baldwin Park</td>\n      <td>Korean Restaurant</td>\n      <td>Wings Joint</td>\n      <td>Concert Hall</td>\n      <td>Farmers Market</td>\n      <td>Dumpling Restaurant</td>\n    </tr>\n    <tr>\n      <th>19</th>\n      <td>Bel-Air</td>\n      <td>Asian Restaurant</td>\n      <td>Wings Joint</td>\n      <td>Concert Hall</td>\n      <td>Farmers Market</td>\n      <td>Dumpling Restaurant</td>\n    </tr>\n  </tbody>\n</table>\n</div>"
                    },
                    "metadata": {}
                }
            ]
        },
        {
            "metadata": {},
            "cell_type": "code",
            "source": "#select neighborhoods where 1stMost Common Venue Korean rest. and 2nd most common venue is Coffee Shop\n#I need to establish a venue of Korean BBQ and Boba tea in the area.\n\ndf_Korean1st= neighborhoods_venues_sorted.loc[neighborhoods_venues_sorted['1st Most Common Venue'] == 'Korean Restaurant']\n\ndf_Korean1st.head()",
            "execution_count": 60,
            "outputs": [
                {
                    "output_type": "execute_result",
                    "execution_count": 60,
                    "data": {
                        "text/plain": "    Neighborhood_name 1st Most Common Venue 2nd Most Common Venue  \\\n1     Adams-Normandie     Korean Restaurant           Wings Joint   \n4            Alhambra     Korean Restaurant           Wings Joint   \n7       Angeles Crest     Korean Restaurant           Wings Joint   \n10  Arlington Heights     Korean Restaurant           Wings Joint   \n11            Artesia     Korean Restaurant           Wings Joint   \n\n   3rd Most Common Venue 4th Most Common Venue 5th Most Common Venue  \n1           Concert Hall        Farmers Market   Dumpling Restaurant  \n4           Concert Hall        Farmers Market   Dumpling Restaurant  \n7           Concert Hall        Farmers Market   Dumpling Restaurant  \n10          Concert Hall        Farmers Market   Dumpling Restaurant  \n11          Concert Hall        Farmers Market   Dumpling Restaurant  ",
                        "text/html": "<div>\n<style scoped>\n    .dataframe tbody tr th:only-of-type {\n        vertical-align: middle;\n    }\n\n    .dataframe tbody tr th {\n        vertical-align: top;\n    }\n\n    .dataframe thead th {\n        text-align: right;\n    }\n</style>\n<table border=\"1\" class=\"dataframe\">\n  <thead>\n    <tr style=\"text-align: right;\">\n      <th></th>\n      <th>Neighborhood_name</th>\n      <th>1st Most Common Venue</th>\n      <th>2nd Most Common Venue</th>\n      <th>3rd Most Common Venue</th>\n      <th>4th Most Common Venue</th>\n      <th>5th Most Common Venue</th>\n    </tr>\n  </thead>\n  <tbody>\n    <tr>\n      <th>1</th>\n      <td>Adams-Normandie</td>\n      <td>Korean Restaurant</td>\n      <td>Wings Joint</td>\n      <td>Concert Hall</td>\n      <td>Farmers Market</td>\n      <td>Dumpling Restaurant</td>\n    </tr>\n    <tr>\n      <th>4</th>\n      <td>Alhambra</td>\n      <td>Korean Restaurant</td>\n      <td>Wings Joint</td>\n      <td>Concert Hall</td>\n      <td>Farmers Market</td>\n      <td>Dumpling Restaurant</td>\n    </tr>\n    <tr>\n      <th>7</th>\n      <td>Angeles Crest</td>\n      <td>Korean Restaurant</td>\n      <td>Wings Joint</td>\n      <td>Concert Hall</td>\n      <td>Farmers Market</td>\n      <td>Dumpling Restaurant</td>\n    </tr>\n    <tr>\n      <th>10</th>\n      <td>Arlington Heights</td>\n      <td>Korean Restaurant</td>\n      <td>Wings Joint</td>\n      <td>Concert Hall</td>\n      <td>Farmers Market</td>\n      <td>Dumpling Restaurant</td>\n    </tr>\n    <tr>\n      <th>11</th>\n      <td>Artesia</td>\n      <td>Korean Restaurant</td>\n      <td>Wings Joint</td>\n      <td>Concert Hall</td>\n      <td>Farmers Market</td>\n      <td>Dumpling Restaurant</td>\n    </tr>\n  </tbody>\n</table>\n</div>"
                    },
                    "metadata": {}
                }
            ]
        },
        {
            "metadata": {},
            "cell_type": "code",
            "source": "df_Coffee1st= neighborhoods_venues_sorted.loc[neighborhoods_venues_sorted['1st Most Common Venue'] == 'Coffee Shop']\n\ndf_Coffee1st.head()",
            "execution_count": 61,
            "outputs": [
                {
                    "output_type": "execute_result",
                    "execution_count": 61,
                    "data": {
                        "text/plain": "   Neighborhood_name 1st Most Common Venue 2nd Most Common Venue  \\\n2       Agoura Hills           Coffee Shop      Greek Restaurant   \n35           Carthay           Coffee Shop      Greek Restaurant   \n50           Compton           Coffee Shop      Greek Restaurant   \n67     East Pasadena           Coffee Shop      Greek Restaurant   \n77   Exposition Park           Coffee Shop      Greek Restaurant   \n\n   3rd Most Common Venue 4th Most Common Venue 5th Most Common Venue  \n2         Farmers Market   Dumpling Restaurant            Donut Shop  \n35        Farmers Market   Dumpling Restaurant            Donut Shop  \n50        Farmers Market   Dumpling Restaurant            Donut Shop  \n67        Farmers Market   Dumpling Restaurant            Donut Shop  \n77        Farmers Market   Dumpling Restaurant            Donut Shop  ",
                        "text/html": "<div>\n<style scoped>\n    .dataframe tbody tr th:only-of-type {\n        vertical-align: middle;\n    }\n\n    .dataframe tbody tr th {\n        vertical-align: top;\n    }\n\n    .dataframe thead th {\n        text-align: right;\n    }\n</style>\n<table border=\"1\" class=\"dataframe\">\n  <thead>\n    <tr style=\"text-align: right;\">\n      <th></th>\n      <th>Neighborhood_name</th>\n      <th>1st Most Common Venue</th>\n      <th>2nd Most Common Venue</th>\n      <th>3rd Most Common Venue</th>\n      <th>4th Most Common Venue</th>\n      <th>5th Most Common Venue</th>\n    </tr>\n  </thead>\n  <tbody>\n    <tr>\n      <th>2</th>\n      <td>Agoura Hills</td>\n      <td>Coffee Shop</td>\n      <td>Greek Restaurant</td>\n      <td>Farmers Market</td>\n      <td>Dumpling Restaurant</td>\n      <td>Donut Shop</td>\n    </tr>\n    <tr>\n      <th>35</th>\n      <td>Carthay</td>\n      <td>Coffee Shop</td>\n      <td>Greek Restaurant</td>\n      <td>Farmers Market</td>\n      <td>Dumpling Restaurant</td>\n      <td>Donut Shop</td>\n    </tr>\n    <tr>\n      <th>50</th>\n      <td>Compton</td>\n      <td>Coffee Shop</td>\n      <td>Greek Restaurant</td>\n      <td>Farmers Market</td>\n      <td>Dumpling Restaurant</td>\n      <td>Donut Shop</td>\n    </tr>\n    <tr>\n      <th>67</th>\n      <td>East Pasadena</td>\n      <td>Coffee Shop</td>\n      <td>Greek Restaurant</td>\n      <td>Farmers Market</td>\n      <td>Dumpling Restaurant</td>\n      <td>Donut Shop</td>\n    </tr>\n    <tr>\n      <th>77</th>\n      <td>Exposition Park</td>\n      <td>Coffee Shop</td>\n      <td>Greek Restaurant</td>\n      <td>Farmers Market</td>\n      <td>Dumpling Restaurant</td>\n      <td>Donut Shop</td>\n    </tr>\n  </tbody>\n</table>\n</div>"
                    },
                    "metadata": {}
                }
            ]
        },
        {
            "metadata": {},
            "cell_type": "code",
            "source": "df_Coff_Kor= [df_Korean1st,df_Coffee1st]\nresult = pd.concat(df_Coff_Kor)\n\nresult.head()",
            "execution_count": 62,
            "outputs": [
                {
                    "output_type": "execute_result",
                    "execution_count": 62,
                    "data": {
                        "text/plain": "    Neighborhood_name 1st Most Common Venue 2nd Most Common Venue  \\\n1     Adams-Normandie     Korean Restaurant           Wings Joint   \n4            Alhambra     Korean Restaurant           Wings Joint   \n7       Angeles Crest     Korean Restaurant           Wings Joint   \n10  Arlington Heights     Korean Restaurant           Wings Joint   \n11            Artesia     Korean Restaurant           Wings Joint   \n\n   3rd Most Common Venue 4th Most Common Venue 5th Most Common Venue  \n1           Concert Hall        Farmers Market   Dumpling Restaurant  \n4           Concert Hall        Farmers Market   Dumpling Restaurant  \n7           Concert Hall        Farmers Market   Dumpling Restaurant  \n10          Concert Hall        Farmers Market   Dumpling Restaurant  \n11          Concert Hall        Farmers Market   Dumpling Restaurant  ",
                        "text/html": "<div>\n<style scoped>\n    .dataframe tbody tr th:only-of-type {\n        vertical-align: middle;\n    }\n\n    .dataframe tbody tr th {\n        vertical-align: top;\n    }\n\n    .dataframe thead th {\n        text-align: right;\n    }\n</style>\n<table border=\"1\" class=\"dataframe\">\n  <thead>\n    <tr style=\"text-align: right;\">\n      <th></th>\n      <th>Neighborhood_name</th>\n      <th>1st Most Common Venue</th>\n      <th>2nd Most Common Venue</th>\n      <th>3rd Most Common Venue</th>\n      <th>4th Most Common Venue</th>\n      <th>5th Most Common Venue</th>\n    </tr>\n  </thead>\n  <tbody>\n    <tr>\n      <th>1</th>\n      <td>Adams-Normandie</td>\n      <td>Korean Restaurant</td>\n      <td>Wings Joint</td>\n      <td>Concert Hall</td>\n      <td>Farmers Market</td>\n      <td>Dumpling Restaurant</td>\n    </tr>\n    <tr>\n      <th>4</th>\n      <td>Alhambra</td>\n      <td>Korean Restaurant</td>\n      <td>Wings Joint</td>\n      <td>Concert Hall</td>\n      <td>Farmers Market</td>\n      <td>Dumpling Restaurant</td>\n    </tr>\n    <tr>\n      <th>7</th>\n      <td>Angeles Crest</td>\n      <td>Korean Restaurant</td>\n      <td>Wings Joint</td>\n      <td>Concert Hall</td>\n      <td>Farmers Market</td>\n      <td>Dumpling Restaurant</td>\n    </tr>\n    <tr>\n      <th>10</th>\n      <td>Arlington Heights</td>\n      <td>Korean Restaurant</td>\n      <td>Wings Joint</td>\n      <td>Concert Hall</td>\n      <td>Farmers Market</td>\n      <td>Dumpling Restaurant</td>\n    </tr>\n    <tr>\n      <th>11</th>\n      <td>Artesia</td>\n      <td>Korean Restaurant</td>\n      <td>Wings Joint</td>\n      <td>Concert Hall</td>\n      <td>Farmers Market</td>\n      <td>Dumpling Restaurant</td>\n    </tr>\n  </tbody>\n</table>\n</div>"
                    },
                    "metadata": {}
                }
            ]
        },
        {
            "metadata": {},
            "cell_type": "code",
            "source": "result_location = result.join(LA_data.set_index('name'), on='Neighborhood_name')\nresult_location.head()",
            "execution_count": 63,
            "outputs": [
                {
                    "output_type": "execute_result",
                    "execution_count": 63,
                    "data": {
                        "text/plain": "    Neighborhood_name 1st Most Common Venue 2nd Most Common Venue  \\\n1     Adams-Normandie     Korean Restaurant           Wings Joint   \n4            Alhambra     Korean Restaurant           Wings Joint   \n7       Angeles Crest     Korean Restaurant           Wings Joint   \n10  Arlington Heights     Korean Restaurant           Wings Joint   \n11            Artesia     Korean Restaurant           Wings Joint   \n\n   3rd Most Common Venue 4th Most Common Venue 5th Most Common Venue  \\\n1           Concert Hall        Farmers Market   Dumpling Restaurant   \n4           Concert Hall        Farmers Market   Dumpling Restaurant   \n7           Concert Hall        Farmers Market   Dumpling Restaurant   \n10          Concert Hall        Farmers Market   Dumpling Restaurant   \n11          Concert Hall        Farmers Market   Dumpling Restaurant   \n\n                                    set    latitude  longitude  \n1   L.A. County Neighborhoods (Current) -118.300208  34.031461  \n4   L.A. County Neighborhoods (Current) -118.136512  34.085539  \n7   L.A. County Neighborhoods (Current) -117.922395  34.313937  \n10  L.A. County Neighborhoods (Current) -118.323408  34.044910  \n11  L.A. County Neighborhoods (Current) -118.080101  33.866896  ",
                        "text/html": "<div>\n<style scoped>\n    .dataframe tbody tr th:only-of-type {\n        vertical-align: middle;\n    }\n\n    .dataframe tbody tr th {\n        vertical-align: top;\n    }\n\n    .dataframe thead th {\n        text-align: right;\n    }\n</style>\n<table border=\"1\" class=\"dataframe\">\n  <thead>\n    <tr style=\"text-align: right;\">\n      <th></th>\n      <th>Neighborhood_name</th>\n      <th>1st Most Common Venue</th>\n      <th>2nd Most Common Venue</th>\n      <th>3rd Most Common Venue</th>\n      <th>4th Most Common Venue</th>\n      <th>5th Most Common Venue</th>\n      <th>set</th>\n      <th>latitude</th>\n      <th>longitude</th>\n    </tr>\n  </thead>\n  <tbody>\n    <tr>\n      <th>1</th>\n      <td>Adams-Normandie</td>\n      <td>Korean Restaurant</td>\n      <td>Wings Joint</td>\n      <td>Concert Hall</td>\n      <td>Farmers Market</td>\n      <td>Dumpling Restaurant</td>\n      <td>L.A. County Neighborhoods (Current)</td>\n      <td>-118.300208</td>\n      <td>34.031461</td>\n    </tr>\n    <tr>\n      <th>4</th>\n      <td>Alhambra</td>\n      <td>Korean Restaurant</td>\n      <td>Wings Joint</td>\n      <td>Concert Hall</td>\n      <td>Farmers Market</td>\n      <td>Dumpling Restaurant</td>\n      <td>L.A. County Neighborhoods (Current)</td>\n      <td>-118.136512</td>\n      <td>34.085539</td>\n    </tr>\n    <tr>\n      <th>7</th>\n      <td>Angeles Crest</td>\n      <td>Korean Restaurant</td>\n      <td>Wings Joint</td>\n      <td>Concert Hall</td>\n      <td>Farmers Market</td>\n      <td>Dumpling Restaurant</td>\n      <td>L.A. County Neighborhoods (Current)</td>\n      <td>-117.922395</td>\n      <td>34.313937</td>\n    </tr>\n    <tr>\n      <th>10</th>\n      <td>Arlington Heights</td>\n      <td>Korean Restaurant</td>\n      <td>Wings Joint</td>\n      <td>Concert Hall</td>\n      <td>Farmers Market</td>\n      <td>Dumpling Restaurant</td>\n      <td>L.A. County Neighborhoods (Current)</td>\n      <td>-118.323408</td>\n      <td>34.044910</td>\n    </tr>\n    <tr>\n      <th>11</th>\n      <td>Artesia</td>\n      <td>Korean Restaurant</td>\n      <td>Wings Joint</td>\n      <td>Concert Hall</td>\n      <td>Farmers Market</td>\n      <td>Dumpling Restaurant</td>\n      <td>L.A. County Neighborhoods (Current)</td>\n      <td>-118.080101</td>\n      <td>33.866896</td>\n    </tr>\n  </tbody>\n</table>\n</div>"
                    },
                    "metadata": {}
                }
            ]
        },
        {
            "metadata": {},
            "cell_type": "code",
            "source": "",
            "execution_count": null,
            "outputs": []
        },
        {
            "metadata": {},
            "cell_type": "code",
            "source": "#df results\nresult_location['lng'] = result_location['latitude'] \nresult_location.head()\n\n\n",
            "execution_count": 64,
            "outputs": [
                {
                    "output_type": "execute_result",
                    "execution_count": 64,
                    "data": {
                        "text/plain": "    Neighborhood_name 1st Most Common Venue 2nd Most Common Venue  \\\n1     Adams-Normandie     Korean Restaurant           Wings Joint   \n4            Alhambra     Korean Restaurant           Wings Joint   \n7       Angeles Crest     Korean Restaurant           Wings Joint   \n10  Arlington Heights     Korean Restaurant           Wings Joint   \n11            Artesia     Korean Restaurant           Wings Joint   \n\n   3rd Most Common Venue 4th Most Common Venue 5th Most Common Venue  \\\n1           Concert Hall        Farmers Market   Dumpling Restaurant   \n4           Concert Hall        Farmers Market   Dumpling Restaurant   \n7           Concert Hall        Farmers Market   Dumpling Restaurant   \n10          Concert Hall        Farmers Market   Dumpling Restaurant   \n11          Concert Hall        Farmers Market   Dumpling Restaurant   \n\n                                    set    latitude  longitude         lng  \n1   L.A. County Neighborhoods (Current) -118.300208  34.031461 -118.300208  \n4   L.A. County Neighborhoods (Current) -118.136512  34.085539 -118.136512  \n7   L.A. County Neighborhoods (Current) -117.922395  34.313937 -117.922395  \n10  L.A. County Neighborhoods (Current) -118.323408  34.044910 -118.323408  \n11  L.A. County Neighborhoods (Current) -118.080101  33.866896 -118.080101  ",
                        "text/html": "<div>\n<style scoped>\n    .dataframe tbody tr th:only-of-type {\n        vertical-align: middle;\n    }\n\n    .dataframe tbody tr th {\n        vertical-align: top;\n    }\n\n    .dataframe thead th {\n        text-align: right;\n    }\n</style>\n<table border=\"1\" class=\"dataframe\">\n  <thead>\n    <tr style=\"text-align: right;\">\n      <th></th>\n      <th>Neighborhood_name</th>\n      <th>1st Most Common Venue</th>\n      <th>2nd Most Common Venue</th>\n      <th>3rd Most Common Venue</th>\n      <th>4th Most Common Venue</th>\n      <th>5th Most Common Venue</th>\n      <th>set</th>\n      <th>latitude</th>\n      <th>longitude</th>\n      <th>lng</th>\n    </tr>\n  </thead>\n  <tbody>\n    <tr>\n      <th>1</th>\n      <td>Adams-Normandie</td>\n      <td>Korean Restaurant</td>\n      <td>Wings Joint</td>\n      <td>Concert Hall</td>\n      <td>Farmers Market</td>\n      <td>Dumpling Restaurant</td>\n      <td>L.A. County Neighborhoods (Current)</td>\n      <td>-118.300208</td>\n      <td>34.031461</td>\n      <td>-118.300208</td>\n    </tr>\n    <tr>\n      <th>4</th>\n      <td>Alhambra</td>\n      <td>Korean Restaurant</td>\n      <td>Wings Joint</td>\n      <td>Concert Hall</td>\n      <td>Farmers Market</td>\n      <td>Dumpling Restaurant</td>\n      <td>L.A. County Neighborhoods (Current)</td>\n      <td>-118.136512</td>\n      <td>34.085539</td>\n      <td>-118.136512</td>\n    </tr>\n    <tr>\n      <th>7</th>\n      <td>Angeles Crest</td>\n      <td>Korean Restaurant</td>\n      <td>Wings Joint</td>\n      <td>Concert Hall</td>\n      <td>Farmers Market</td>\n      <td>Dumpling Restaurant</td>\n      <td>L.A. County Neighborhoods (Current)</td>\n      <td>-117.922395</td>\n      <td>34.313937</td>\n      <td>-117.922395</td>\n    </tr>\n    <tr>\n      <th>10</th>\n      <td>Arlington Heights</td>\n      <td>Korean Restaurant</td>\n      <td>Wings Joint</td>\n      <td>Concert Hall</td>\n      <td>Farmers Market</td>\n      <td>Dumpling Restaurant</td>\n      <td>L.A. County Neighborhoods (Current)</td>\n      <td>-118.323408</td>\n      <td>34.044910</td>\n      <td>-118.323408</td>\n    </tr>\n    <tr>\n      <th>11</th>\n      <td>Artesia</td>\n      <td>Korean Restaurant</td>\n      <td>Wings Joint</td>\n      <td>Concert Hall</td>\n      <td>Farmers Market</td>\n      <td>Dumpling Restaurant</td>\n      <td>L.A. County Neighborhoods (Current)</td>\n      <td>-118.080101</td>\n      <td>33.866896</td>\n      <td>-118.080101</td>\n    </tr>\n  </tbody>\n</table>\n</div>"
                    },
                    "metadata": {}
                }
            ]
        },
        {
            "metadata": {},
            "cell_type": "code",
            "source": "\nresult_location['lat'] = result_location['longitude'] \nresult_location.head()",
            "execution_count": 65,
            "outputs": [
                {
                    "output_type": "execute_result",
                    "execution_count": 65,
                    "data": {
                        "text/plain": "    Neighborhood_name 1st Most Common Venue 2nd Most Common Venue  \\\n1     Adams-Normandie     Korean Restaurant           Wings Joint   \n4            Alhambra     Korean Restaurant           Wings Joint   \n7       Angeles Crest     Korean Restaurant           Wings Joint   \n10  Arlington Heights     Korean Restaurant           Wings Joint   \n11            Artesia     Korean Restaurant           Wings Joint   \n\n   3rd Most Common Venue 4th Most Common Venue 5th Most Common Venue  \\\n1           Concert Hall        Farmers Market   Dumpling Restaurant   \n4           Concert Hall        Farmers Market   Dumpling Restaurant   \n7           Concert Hall        Farmers Market   Dumpling Restaurant   \n10          Concert Hall        Farmers Market   Dumpling Restaurant   \n11          Concert Hall        Farmers Market   Dumpling Restaurant   \n\n                                    set    latitude  longitude         lng  \\\n1   L.A. County Neighborhoods (Current) -118.300208  34.031461 -118.300208   \n4   L.A. County Neighborhoods (Current) -118.136512  34.085539 -118.136512   \n7   L.A. County Neighborhoods (Current) -117.922395  34.313937 -117.922395   \n10  L.A. County Neighborhoods (Current) -118.323408  34.044910 -118.323408   \n11  L.A. County Neighborhoods (Current) -118.080101  33.866896 -118.080101   \n\n          lat  \n1   34.031461  \n4   34.085539  \n7   34.313937  \n10  34.044910  \n11  33.866896  ",
                        "text/html": "<div>\n<style scoped>\n    .dataframe tbody tr th:only-of-type {\n        vertical-align: middle;\n    }\n\n    .dataframe tbody tr th {\n        vertical-align: top;\n    }\n\n    .dataframe thead th {\n        text-align: right;\n    }\n</style>\n<table border=\"1\" class=\"dataframe\">\n  <thead>\n    <tr style=\"text-align: right;\">\n      <th></th>\n      <th>Neighborhood_name</th>\n      <th>1st Most Common Venue</th>\n      <th>2nd Most Common Venue</th>\n      <th>3rd Most Common Venue</th>\n      <th>4th Most Common Venue</th>\n      <th>5th Most Common Venue</th>\n      <th>set</th>\n      <th>latitude</th>\n      <th>longitude</th>\n      <th>lng</th>\n      <th>lat</th>\n    </tr>\n  </thead>\n  <tbody>\n    <tr>\n      <th>1</th>\n      <td>Adams-Normandie</td>\n      <td>Korean Restaurant</td>\n      <td>Wings Joint</td>\n      <td>Concert Hall</td>\n      <td>Farmers Market</td>\n      <td>Dumpling Restaurant</td>\n      <td>L.A. County Neighborhoods (Current)</td>\n      <td>-118.300208</td>\n      <td>34.031461</td>\n      <td>-118.300208</td>\n      <td>34.031461</td>\n    </tr>\n    <tr>\n      <th>4</th>\n      <td>Alhambra</td>\n      <td>Korean Restaurant</td>\n      <td>Wings Joint</td>\n      <td>Concert Hall</td>\n      <td>Farmers Market</td>\n      <td>Dumpling Restaurant</td>\n      <td>L.A. County Neighborhoods (Current)</td>\n      <td>-118.136512</td>\n      <td>34.085539</td>\n      <td>-118.136512</td>\n      <td>34.085539</td>\n    </tr>\n    <tr>\n      <th>7</th>\n      <td>Angeles Crest</td>\n      <td>Korean Restaurant</td>\n      <td>Wings Joint</td>\n      <td>Concert Hall</td>\n      <td>Farmers Market</td>\n      <td>Dumpling Restaurant</td>\n      <td>L.A. County Neighborhoods (Current)</td>\n      <td>-117.922395</td>\n      <td>34.313937</td>\n      <td>-117.922395</td>\n      <td>34.313937</td>\n    </tr>\n    <tr>\n      <th>10</th>\n      <td>Arlington Heights</td>\n      <td>Korean Restaurant</td>\n      <td>Wings Joint</td>\n      <td>Concert Hall</td>\n      <td>Farmers Market</td>\n      <td>Dumpling Restaurant</td>\n      <td>L.A. County Neighborhoods (Current)</td>\n      <td>-118.323408</td>\n      <td>34.044910</td>\n      <td>-118.323408</td>\n      <td>34.044910</td>\n    </tr>\n    <tr>\n      <th>11</th>\n      <td>Artesia</td>\n      <td>Korean Restaurant</td>\n      <td>Wings Joint</td>\n      <td>Concert Hall</td>\n      <td>Farmers Market</td>\n      <td>Dumpling Restaurant</td>\n      <td>L.A. County Neighborhoods (Current)</td>\n      <td>-118.080101</td>\n      <td>33.866896</td>\n      <td>-118.080101</td>\n      <td>33.866896</td>\n    </tr>\n  </tbody>\n</table>\n</div>"
                    },
                    "metadata": {}
                }
            ]
        },
        {
            "metadata": {},
            "cell_type": "code",
            "source": "\nresult_location['First_Most_Common_Venue'] = result_location['1st Most Common Venue'] \nresult_location.head()",
            "execution_count": 66,
            "outputs": [
                {
                    "output_type": "execute_result",
                    "execution_count": 66,
                    "data": {
                        "text/plain": "    Neighborhood_name 1st Most Common Venue 2nd Most Common Venue  \\\n1     Adams-Normandie     Korean Restaurant           Wings Joint   \n4            Alhambra     Korean Restaurant           Wings Joint   \n7       Angeles Crest     Korean Restaurant           Wings Joint   \n10  Arlington Heights     Korean Restaurant           Wings Joint   \n11            Artesia     Korean Restaurant           Wings Joint   \n\n   3rd Most Common Venue 4th Most Common Venue 5th Most Common Venue  \\\n1           Concert Hall        Farmers Market   Dumpling Restaurant   \n4           Concert Hall        Farmers Market   Dumpling Restaurant   \n7           Concert Hall        Farmers Market   Dumpling Restaurant   \n10          Concert Hall        Farmers Market   Dumpling Restaurant   \n11          Concert Hall        Farmers Market   Dumpling Restaurant   \n\n                                    set    latitude  longitude         lng  \\\n1   L.A. County Neighborhoods (Current) -118.300208  34.031461 -118.300208   \n4   L.A. County Neighborhoods (Current) -118.136512  34.085539 -118.136512   \n7   L.A. County Neighborhoods (Current) -117.922395  34.313937 -117.922395   \n10  L.A. County Neighborhoods (Current) -118.323408  34.044910 -118.323408   \n11  L.A. County Neighborhoods (Current) -118.080101  33.866896 -118.080101   \n\n          lat First_Most_Common_Venue  \n1   34.031461       Korean Restaurant  \n4   34.085539       Korean Restaurant  \n7   34.313937       Korean Restaurant  \n10  34.044910       Korean Restaurant  \n11  33.866896       Korean Restaurant  ",
                        "text/html": "<div>\n<style scoped>\n    .dataframe tbody tr th:only-of-type {\n        vertical-align: middle;\n    }\n\n    .dataframe tbody tr th {\n        vertical-align: top;\n    }\n\n    .dataframe thead th {\n        text-align: right;\n    }\n</style>\n<table border=\"1\" class=\"dataframe\">\n  <thead>\n    <tr style=\"text-align: right;\">\n      <th></th>\n      <th>Neighborhood_name</th>\n      <th>1st Most Common Venue</th>\n      <th>2nd Most Common Venue</th>\n      <th>3rd Most Common Venue</th>\n      <th>4th Most Common Venue</th>\n      <th>5th Most Common Venue</th>\n      <th>set</th>\n      <th>latitude</th>\n      <th>longitude</th>\n      <th>lng</th>\n      <th>lat</th>\n      <th>First_Most_Common_Venue</th>\n    </tr>\n  </thead>\n  <tbody>\n    <tr>\n      <th>1</th>\n      <td>Adams-Normandie</td>\n      <td>Korean Restaurant</td>\n      <td>Wings Joint</td>\n      <td>Concert Hall</td>\n      <td>Farmers Market</td>\n      <td>Dumpling Restaurant</td>\n      <td>L.A. County Neighborhoods (Current)</td>\n      <td>-118.300208</td>\n      <td>34.031461</td>\n      <td>-118.300208</td>\n      <td>34.031461</td>\n      <td>Korean Restaurant</td>\n    </tr>\n    <tr>\n      <th>4</th>\n      <td>Alhambra</td>\n      <td>Korean Restaurant</td>\n      <td>Wings Joint</td>\n      <td>Concert Hall</td>\n      <td>Farmers Market</td>\n      <td>Dumpling Restaurant</td>\n      <td>L.A. County Neighborhoods (Current)</td>\n      <td>-118.136512</td>\n      <td>34.085539</td>\n      <td>-118.136512</td>\n      <td>34.085539</td>\n      <td>Korean Restaurant</td>\n    </tr>\n    <tr>\n      <th>7</th>\n      <td>Angeles Crest</td>\n      <td>Korean Restaurant</td>\n      <td>Wings Joint</td>\n      <td>Concert Hall</td>\n      <td>Farmers Market</td>\n      <td>Dumpling Restaurant</td>\n      <td>L.A. County Neighborhoods (Current)</td>\n      <td>-117.922395</td>\n      <td>34.313937</td>\n      <td>-117.922395</td>\n      <td>34.313937</td>\n      <td>Korean Restaurant</td>\n    </tr>\n    <tr>\n      <th>10</th>\n      <td>Arlington Heights</td>\n      <td>Korean Restaurant</td>\n      <td>Wings Joint</td>\n      <td>Concert Hall</td>\n      <td>Farmers Market</td>\n      <td>Dumpling Restaurant</td>\n      <td>L.A. County Neighborhoods (Current)</td>\n      <td>-118.323408</td>\n      <td>34.044910</td>\n      <td>-118.323408</td>\n      <td>34.044910</td>\n      <td>Korean Restaurant</td>\n    </tr>\n    <tr>\n      <th>11</th>\n      <td>Artesia</td>\n      <td>Korean Restaurant</td>\n      <td>Wings Joint</td>\n      <td>Concert Hall</td>\n      <td>Farmers Market</td>\n      <td>Dumpling Restaurant</td>\n      <td>L.A. County Neighborhoods (Current)</td>\n      <td>-118.080101</td>\n      <td>33.866896</td>\n      <td>-118.080101</td>\n      <td>33.866896</td>\n      <td>Korean Restaurant</td>\n    </tr>\n  </tbody>\n</table>\n</div>"
                    },
                    "metadata": {}
                }
            ]
        },
        {
            "metadata": {},
            "cell_type": "code",
            "source": "",
            "execution_count": null,
            "outputs": []
        },
        {
            "metadata": {},
            "cell_type": "code",
            "source": "#finalizing preparation of result_location dataset for mapping\n\nresult_location_new = result_location[['Neighborhood_name', 'First_Most_Common_Venue', 'lng', 'lat']]\nresult_location_new",
            "execution_count": 78,
            "outputs": [
                {
                    "output_type": "execute_result",
                    "execution_count": 78,
                    "data": {
                        "text/plain": "      Neighborhood_name First_Most_Common_Venue         lng        lat\n1       Adams-Normandie       Korean Restaurant -118.300208  34.031461\n4              Alhambra       Korean Restaurant -118.136512  34.085539\n7         Angeles Crest       Korean Restaurant -117.922395  34.313937\n10    Arlington Heights       Korean Restaurant -118.323408  34.044910\n11              Artesia       Korean Restaurant -118.080101  33.866896\n14               Avalon       Korean Restaurant -118.327332  33.336954\n15      Avocado Heights       Korean Restaurant -118.001261  34.040881\n18         Baldwin Park       Korean Restaurant -117.975191  34.081109\n22           Bellflower       Korean Restaurant -118.129032  33.888013\n23        Beverly Crest       Korean Restaurant -118.423263  34.106007\n25        Beverly Hills       Korean Restaurant -118.399534  34.082544\n30  Broadway-Manchester       Korean Restaurant -118.275352  33.941224\n32            Calabasas       Korean Restaurant -118.671632  34.136254\n38      Central-Alameda       Korean Restaurant -118.247213  34.006864\n39         Century City       Korean Restaurant -118.415083  34.055326\n41          Charter Oak       Korean Restaurant -117.857520  34.100075\n46            Chinatown       Korean Restaurant -118.237006  34.063510\n48            Claremont       Korean Restaurant -117.718769  34.122365\n51               Covina       Korean Restaurant -117.883922  34.087495\n56              Del Rey       Korean Restaurant -118.423993  33.989292\n62           Eagle Rock       Korean Restaurant -118.204844  34.133917\n64       East Hollywood       Korean Restaurant -118.296808  34.089109\n70             El Monte       Korean Restaurant -118.035196  34.071169\n73       Elizabeth Lake       Korean Restaurant -118.386211  34.657686\n80   Florence-Firestone       Korean Restaurant -118.241920  33.966102\n90     Hacienda Heights       Korean Restaurant -117.975081  34.002086\n96           Northridge       Korean Restaurant -118.527969  34.238805\n2          Agoura Hills             Coffee Shop -118.759885  34.146736\n35              Carthay             Coffee Shop -118.368910  34.057856\n50              Compton             Coffee Shop -118.221810  33.893252\n67        East Pasadena             Coffee Shop -118.080878  34.138564\n77      Exposition Park             Coffee Shop -118.298876  34.018262\n84             Glendora             Coffee Shop -117.841785  34.142041\n85        Gramercy Park             Coffee Shop -118.308984  33.949062\n92           Hansen Dam             Coffee Shop -118.379054  34.265706\n94            Koreatown             Coffee Shop -118.304958  34.064510",
                        "text/html": "<div>\n<style scoped>\n    .dataframe tbody tr th:only-of-type {\n        vertical-align: middle;\n    }\n\n    .dataframe tbody tr th {\n        vertical-align: top;\n    }\n\n    .dataframe thead th {\n        text-align: right;\n    }\n</style>\n<table border=\"1\" class=\"dataframe\">\n  <thead>\n    <tr style=\"text-align: right;\">\n      <th></th>\n      <th>Neighborhood_name</th>\n      <th>First_Most_Common_Venue</th>\n      <th>lng</th>\n      <th>lat</th>\n    </tr>\n  </thead>\n  <tbody>\n    <tr>\n      <th>1</th>\n      <td>Adams-Normandie</td>\n      <td>Korean Restaurant</td>\n      <td>-118.300208</td>\n      <td>34.031461</td>\n    </tr>\n    <tr>\n      <th>4</th>\n      <td>Alhambra</td>\n      <td>Korean Restaurant</td>\n      <td>-118.136512</td>\n      <td>34.085539</td>\n    </tr>\n    <tr>\n      <th>7</th>\n      <td>Angeles Crest</td>\n      <td>Korean Restaurant</td>\n      <td>-117.922395</td>\n      <td>34.313937</td>\n    </tr>\n    <tr>\n      <th>10</th>\n      <td>Arlington Heights</td>\n      <td>Korean Restaurant</td>\n      <td>-118.323408</td>\n      <td>34.044910</td>\n    </tr>\n    <tr>\n      <th>11</th>\n      <td>Artesia</td>\n      <td>Korean Restaurant</td>\n      <td>-118.080101</td>\n      <td>33.866896</td>\n    </tr>\n    <tr>\n      <th>14</th>\n      <td>Avalon</td>\n      <td>Korean Restaurant</td>\n      <td>-118.327332</td>\n      <td>33.336954</td>\n    </tr>\n    <tr>\n      <th>15</th>\n      <td>Avocado Heights</td>\n      <td>Korean Restaurant</td>\n      <td>-118.001261</td>\n      <td>34.040881</td>\n    </tr>\n    <tr>\n      <th>18</th>\n      <td>Baldwin Park</td>\n      <td>Korean Restaurant</td>\n      <td>-117.975191</td>\n      <td>34.081109</td>\n    </tr>\n    <tr>\n      <th>22</th>\n      <td>Bellflower</td>\n      <td>Korean Restaurant</td>\n      <td>-118.129032</td>\n      <td>33.888013</td>\n    </tr>\n    <tr>\n      <th>23</th>\n      <td>Beverly Crest</td>\n      <td>Korean Restaurant</td>\n      <td>-118.423263</td>\n      <td>34.106007</td>\n    </tr>\n    <tr>\n      <th>25</th>\n      <td>Beverly Hills</td>\n      <td>Korean Restaurant</td>\n      <td>-118.399534</td>\n      <td>34.082544</td>\n    </tr>\n    <tr>\n      <th>30</th>\n      <td>Broadway-Manchester</td>\n      <td>Korean Restaurant</td>\n      <td>-118.275352</td>\n      <td>33.941224</td>\n    </tr>\n    <tr>\n      <th>32</th>\n      <td>Calabasas</td>\n      <td>Korean Restaurant</td>\n      <td>-118.671632</td>\n      <td>34.136254</td>\n    </tr>\n    <tr>\n      <th>38</th>\n      <td>Central-Alameda</td>\n      <td>Korean Restaurant</td>\n      <td>-118.247213</td>\n      <td>34.006864</td>\n    </tr>\n    <tr>\n      <th>39</th>\n      <td>Century City</td>\n      <td>Korean Restaurant</td>\n      <td>-118.415083</td>\n      <td>34.055326</td>\n    </tr>\n    <tr>\n      <th>41</th>\n      <td>Charter Oak</td>\n      <td>Korean Restaurant</td>\n      <td>-117.857520</td>\n      <td>34.100075</td>\n    </tr>\n    <tr>\n      <th>46</th>\n      <td>Chinatown</td>\n      <td>Korean Restaurant</td>\n      <td>-118.237006</td>\n      <td>34.063510</td>\n    </tr>\n    <tr>\n      <th>48</th>\n      <td>Claremont</td>\n      <td>Korean Restaurant</td>\n      <td>-117.718769</td>\n      <td>34.122365</td>\n    </tr>\n    <tr>\n      <th>51</th>\n      <td>Covina</td>\n      <td>Korean Restaurant</td>\n      <td>-117.883922</td>\n      <td>34.087495</td>\n    </tr>\n    <tr>\n      <th>56</th>\n      <td>Del Rey</td>\n      <td>Korean Restaurant</td>\n      <td>-118.423993</td>\n      <td>33.989292</td>\n    </tr>\n    <tr>\n      <th>62</th>\n      <td>Eagle Rock</td>\n      <td>Korean Restaurant</td>\n      <td>-118.204844</td>\n      <td>34.133917</td>\n    </tr>\n    <tr>\n      <th>64</th>\n      <td>East Hollywood</td>\n      <td>Korean Restaurant</td>\n      <td>-118.296808</td>\n      <td>34.089109</td>\n    </tr>\n    <tr>\n      <th>70</th>\n      <td>El Monte</td>\n      <td>Korean Restaurant</td>\n      <td>-118.035196</td>\n      <td>34.071169</td>\n    </tr>\n    <tr>\n      <th>73</th>\n      <td>Elizabeth Lake</td>\n      <td>Korean Restaurant</td>\n      <td>-118.386211</td>\n      <td>34.657686</td>\n    </tr>\n    <tr>\n      <th>80</th>\n      <td>Florence-Firestone</td>\n      <td>Korean Restaurant</td>\n      <td>-118.241920</td>\n      <td>33.966102</td>\n    </tr>\n    <tr>\n      <th>90</th>\n      <td>Hacienda Heights</td>\n      <td>Korean Restaurant</td>\n      <td>-117.975081</td>\n      <td>34.002086</td>\n    </tr>\n    <tr>\n      <th>96</th>\n      <td>Northridge</td>\n      <td>Korean Restaurant</td>\n      <td>-118.527969</td>\n      <td>34.238805</td>\n    </tr>\n    <tr>\n      <th>2</th>\n      <td>Agoura Hills</td>\n      <td>Coffee Shop</td>\n      <td>-118.759885</td>\n      <td>34.146736</td>\n    </tr>\n    <tr>\n      <th>35</th>\n      <td>Carthay</td>\n      <td>Coffee Shop</td>\n      <td>-118.368910</td>\n      <td>34.057856</td>\n    </tr>\n    <tr>\n      <th>50</th>\n      <td>Compton</td>\n      <td>Coffee Shop</td>\n      <td>-118.221810</td>\n      <td>33.893252</td>\n    </tr>\n    <tr>\n      <th>67</th>\n      <td>East Pasadena</td>\n      <td>Coffee Shop</td>\n      <td>-118.080878</td>\n      <td>34.138564</td>\n    </tr>\n    <tr>\n      <th>77</th>\n      <td>Exposition Park</td>\n      <td>Coffee Shop</td>\n      <td>-118.298876</td>\n      <td>34.018262</td>\n    </tr>\n    <tr>\n      <th>84</th>\n      <td>Glendora</td>\n      <td>Coffee Shop</td>\n      <td>-117.841785</td>\n      <td>34.142041</td>\n    </tr>\n    <tr>\n      <th>85</th>\n      <td>Gramercy Park</td>\n      <td>Coffee Shop</td>\n      <td>-118.308984</td>\n      <td>33.949062</td>\n    </tr>\n    <tr>\n      <th>92</th>\n      <td>Hansen Dam</td>\n      <td>Coffee Shop</td>\n      <td>-118.379054</td>\n      <td>34.265706</td>\n    </tr>\n    <tr>\n      <th>94</th>\n      <td>Koreatown</td>\n      <td>Coffee Shop</td>\n      <td>-118.304958</td>\n      <td>34.064510</td>\n    </tr>\n  </tbody>\n</table>\n</div>"
                    },
                    "metadata": {}
                }
            ]
        },
        {
            "metadata": {},
            "cell_type": "markdown",
            "source": "<h3> The table above \"result_location_new\" matched results where their top venue category was either Korean Restaurant or Coffee Shop. First, I will now show on a map where these neighborhoods lie within proximity to Koreatown. Then, I will create a map that shows where the predominantly Coffee Shop and Korean Restaurant neighborhoods are located. All of the neighborhoods with predominantly coffee shop venues actually have Korean Restaurants in their area. \n    \n    Our goal is to find a location within the area that has a Korean Restaurant and within a vicinity of a high concentration of coffee shop neighborhoods, but not too close. We want to penetrate a predominantly Korean Restaurant area where there is a need for a coffee shop. </h3>"
        },
        {
            "metadata": {},
            "cell_type": "code",
            "source": "result_location_new.shape",
            "execution_count": 68,
            "outputs": [
                {
                    "output_type": "execute_result",
                    "execution_count": 68,
                    "data": {
                        "text/plain": "(36, 4)"
                    },
                    "metadata": {}
                }
            ]
        },
        {
            "metadata": {},
            "cell_type": "markdown",
            "source": ""
        },
        {
            "metadata": {},
            "cell_type": "markdown",
            "source": "## 5. Map of the Neighborhoods: Coffee Shop and Korean Restaurant Venues\n"
        },
        {
            "metadata": {},
            "cell_type": "markdown",
            "source": "<h3> Let's see all neighborhoods in proximity to Koreatown, LA. This was our point of reference when we mapped our venues through the Foursquare API. </h3>"
        },
        {
            "metadata": {},
            "cell_type": "raw",
            "source": "# instantiate a feature group for the incidents in the dataframe\nincidents = folium.map.FeatureGroup()\n\n# loop through the 100 crimes and add each to the incidents feature group\nfor lat, lng, in zip(df_incidents.Y, df_incidents.X):\n    incidents.add_child(\n        folium.features.CircleMarker(\n            [lat, lng],\n            radius=5, # define how big you want the circle markers to be\n            color='yellow',\n            fill=True,\n            fill_color='blue',\n            fill_opacity=0.6\n        )\n    )\n\n# add incidents to map\nsanfran_map.add_child(incidents)"
        },
        {
            "metadata": {
                "scrolled": true
            },
            "cell_type": "code",
            "source": "venues_map = folium.Map(location=[latitude, longitude], zoom_start=8) # generate map centred around the Conrad Hotel\n\n# add a red circle marker to represent the Acton\n#folium.features.CircleMarker(\n #   [lat, lng],\n  #  radius=10,\n   # color='red',\n    #popup='Citrus',\n#    fill = True,\n #   fill_color = 'red',\n  #  fill_opacity = 0.6\n# ).add_to(venues_map)\n\nfolium.Marker(\n    location=[34.497355, -118.169810],\n    popup='Koreatown, Los Angeles',\n    icon=folium.Icon(color='red', icon='info-sign')\n).add_to(venues_map)\n\n# add the Italian restaurants as blue circle markers\nfor lat, lng, Neighborhood_name in zip(result_location_new.lat, result_location_new.lng, result_location_new.Neighborhood_name):\n    folium.features.CircleMarker(\n        [lat, lng],\n        radius=5,\n        color='blue',\n        #popup=label,\n        fill = True,\n        fill_color='blue',\n        fill_opacity=0.6\n    ).add_to(venues_map)\n\n\n\n# display map\nvenues_map",
            "execution_count": 77,
            "outputs": [
                {
                    "output_type": "execute_result",
                    "execution_count": 77,
                    "data": {
                        "text/plain": "<folium.folium.Map at 0x7f329a95fe48>",
                        "text/html": "<div style=\"width:100%;\"><div style=\"position:relative;width:100%;height:0;padding-bottom:60%;\"><span style=\"color:#565656\">Make this Notebook Trusted to load map: File -> Trust Notebook</span><iframe src=\"about:blank\" style=\"position:absolute;width:100%;height:100%;left:0;top:0;border:none !important;\" data-html=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 onload=\"this.contentDocument.open();this.contentDocument.write(atob(this.getAttribute('data-html')));this.contentDocument.close();\" allowfullscreen webkitallowfullscreen mozallowfullscreen></iframe></div></div>"
                    },
                    "metadata": {}
                }
            ]
        },
        {
            "metadata": {},
            "cell_type": "markdown",
            "source": "<h3>Above we see that the neighborhoods are in blue with Koreatown much further north. </h3>"
        },
        {
            "metadata": {},
            "cell_type": "markdown",
            "source": "I will color code the categories Coffee and Korean venues (Korean Restaurant, yellow and Coffee Shop Venues, blue)"
        },
        {
            "metadata": {},
            "cell_type": "code",
            "source": "# Assinging a color code to coffee shop and Korean Restaurant locations.\n\nfrom sklearn.preprocessing import LabelEncoder\n\nlb_make = LabelEncoder()\nresult_location_new[\"color_code\"] = lb_make.fit_transform(result_location_new[\"First_Most_Common_Venue\"])\nresult_location_new[[\"color_code\", \"First_Most_Common_Venue\",\"Neighborhood_name\", \"lat\", \"lng\" ]]",
            "execution_count": 80,
            "outputs": [
                {
                    "output_type": "stream",
                    "text": "/opt/conda/envs/Python36/lib/python3.6/site-packages/ipykernel/__main__.py:6: SettingWithCopyWarning:\n\n\nA value is trying to be set on a copy of a slice from a DataFrame.\nTry using .loc[row_indexer,col_indexer] = value instead\n\nSee the caveats in the documentation: http://pandas.pydata.org/pandas-docs/stable/indexing.html#indexing-view-versus-copy\n\n",
                    "name": "stderr"
                },
                {
                    "output_type": "execute_result",
                    "execution_count": 80,
                    "data": {
                        "text/plain": "    color_code First_Most_Common_Venue    Neighborhood_name        lat  \\\n1            1       Korean Restaurant      Adams-Normandie  34.031461   \n4            1       Korean Restaurant             Alhambra  34.085539   \n7            1       Korean Restaurant        Angeles Crest  34.313937   \n10           1       Korean Restaurant    Arlington Heights  34.044910   \n11           1       Korean Restaurant              Artesia  33.866896   \n14           1       Korean Restaurant               Avalon  33.336954   \n15           1       Korean Restaurant      Avocado Heights  34.040881   \n18           1       Korean Restaurant         Baldwin Park  34.081109   \n22           1       Korean Restaurant           Bellflower  33.888013   \n23           1       Korean Restaurant        Beverly Crest  34.106007   \n25           1       Korean Restaurant        Beverly Hills  34.082544   \n30           1       Korean Restaurant  Broadway-Manchester  33.941224   \n32           1       Korean Restaurant            Calabasas  34.136254   \n38           1       Korean Restaurant      Central-Alameda  34.006864   \n39           1       Korean Restaurant         Century City  34.055326   \n41           1       Korean Restaurant          Charter Oak  34.100075   \n46           1       Korean Restaurant            Chinatown  34.063510   \n48           1       Korean Restaurant            Claremont  34.122365   \n51           1       Korean Restaurant               Covina  34.087495   \n56           1       Korean Restaurant              Del Rey  33.989292   \n62           1       Korean Restaurant           Eagle Rock  34.133917   \n64           1       Korean Restaurant       East Hollywood  34.089109   \n70           1       Korean Restaurant             El Monte  34.071169   \n73           1       Korean Restaurant       Elizabeth Lake  34.657686   \n80           1       Korean Restaurant   Florence-Firestone  33.966102   \n90           1       Korean Restaurant     Hacienda Heights  34.002086   \n96           1       Korean Restaurant           Northridge  34.238805   \n2            0             Coffee Shop         Agoura Hills  34.146736   \n35           0             Coffee Shop              Carthay  34.057856   \n50           0             Coffee Shop              Compton  33.893252   \n67           0             Coffee Shop        East Pasadena  34.138564   \n77           0             Coffee Shop      Exposition Park  34.018262   \n84           0             Coffee Shop             Glendora  34.142041   \n85           0             Coffee Shop        Gramercy Park  33.949062   \n92           0             Coffee Shop           Hansen Dam  34.265706   \n94           0             Coffee Shop            Koreatown  34.064510   \n\n           lng  \n1  -118.300208  \n4  -118.136512  \n7  -117.922395  \n10 -118.323408  \n11 -118.080101  \n14 -118.327332  \n15 -118.001261  \n18 -117.975191  \n22 -118.129032  \n23 -118.423263  \n25 -118.399534  \n30 -118.275352  \n32 -118.671632  \n38 -118.247213  \n39 -118.415083  \n41 -117.857520  \n46 -118.237006  \n48 -117.718769  \n51 -117.883922  \n56 -118.423993  \n62 -118.204844  \n64 -118.296808  \n70 -118.035196  \n73 -118.386211  \n80 -118.241920  \n90 -117.975081  \n96 -118.527969  \n2  -118.759885  \n35 -118.368910  \n50 -118.221810  \n67 -118.080878  \n77 -118.298876  \n84 -117.841785  \n85 -118.308984  \n92 -118.379054  \n94 -118.304958  ",
                        "text/html": "<div>\n<style scoped>\n    .dataframe tbody tr th:only-of-type {\n        vertical-align: middle;\n    }\n\n    .dataframe tbody tr th {\n        vertical-align: top;\n    }\n\n    .dataframe thead th {\n        text-align: right;\n    }\n</style>\n<table border=\"1\" class=\"dataframe\">\n  <thead>\n    <tr style=\"text-align: right;\">\n      <th></th>\n      <th>color_code</th>\n      <th>First_Most_Common_Venue</th>\n      <th>Neighborhood_name</th>\n      <th>lat</th>\n      <th>lng</th>\n    </tr>\n  </thead>\n  <tbody>\n    <tr>\n      <th>1</th>\n      <td>1</td>\n      <td>Korean Restaurant</td>\n      <td>Adams-Normandie</td>\n      <td>34.031461</td>\n      <td>-118.300208</td>\n    </tr>\n    <tr>\n      <th>4</th>\n      <td>1</td>\n      <td>Korean Restaurant</td>\n      <td>Alhambra</td>\n      <td>34.085539</td>\n      <td>-118.136512</td>\n    </tr>\n    <tr>\n      <th>7</th>\n      <td>1</td>\n      <td>Korean Restaurant</td>\n      <td>Angeles Crest</td>\n      <td>34.313937</td>\n      <td>-117.922395</td>\n    </tr>\n    <tr>\n      <th>10</th>\n      <td>1</td>\n      <td>Korean Restaurant</td>\n      <td>Arlington Heights</td>\n      <td>34.044910</td>\n      <td>-118.323408</td>\n    </tr>\n    <tr>\n      <th>11</th>\n      <td>1</td>\n      <td>Korean Restaurant</td>\n      <td>Artesia</td>\n      <td>33.866896</td>\n      <td>-118.080101</td>\n    </tr>\n    <tr>\n      <th>14</th>\n      <td>1</td>\n      <td>Korean Restaurant</td>\n      <td>Avalon</td>\n      <td>33.336954</td>\n      <td>-118.327332</td>\n    </tr>\n    <tr>\n      <th>15</th>\n      <td>1</td>\n      <td>Korean Restaurant</td>\n      <td>Avocado Heights</td>\n      <td>34.040881</td>\n      <td>-118.001261</td>\n    </tr>\n    <tr>\n      <th>18</th>\n      <td>1</td>\n      <td>Korean Restaurant</td>\n      <td>Baldwin Park</td>\n      <td>34.081109</td>\n      <td>-117.975191</td>\n    </tr>\n    <tr>\n      <th>22</th>\n      <td>1</td>\n      <td>Korean Restaurant</td>\n      <td>Bellflower</td>\n      <td>33.888013</td>\n      <td>-118.129032</td>\n    </tr>\n    <tr>\n      <th>23</th>\n      <td>1</td>\n      <td>Korean Restaurant</td>\n      <td>Beverly Crest</td>\n      <td>34.106007</td>\n      <td>-118.423263</td>\n    </tr>\n    <tr>\n      <th>25</th>\n      <td>1</td>\n      <td>Korean Restaurant</td>\n      <td>Beverly Hills</td>\n      <td>34.082544</td>\n      <td>-118.399534</td>\n    </tr>\n    <tr>\n      <th>30</th>\n      <td>1</td>\n      <td>Korean Restaurant</td>\n      <td>Broadway-Manchester</td>\n      <td>33.941224</td>\n      <td>-118.275352</td>\n    </tr>\n    <tr>\n      <th>32</th>\n      <td>1</td>\n      <td>Korean Restaurant</td>\n      <td>Calabasas</td>\n      <td>34.136254</td>\n      <td>-118.671632</td>\n    </tr>\n    <tr>\n      <th>38</th>\n      <td>1</td>\n      <td>Korean Restaurant</td>\n      <td>Central-Alameda</td>\n      <td>34.006864</td>\n      <td>-118.247213</td>\n    </tr>\n    <tr>\n      <th>39</th>\n      <td>1</td>\n      <td>Korean Restaurant</td>\n      <td>Century City</td>\n      <td>34.055326</td>\n      <td>-118.415083</td>\n    </tr>\n    <tr>\n      <th>41</th>\n      <td>1</td>\n      <td>Korean Restaurant</td>\n      <td>Charter Oak</td>\n      <td>34.100075</td>\n      <td>-117.857520</td>\n    </tr>\n    <tr>\n      <th>46</th>\n      <td>1</td>\n      <td>Korean Restaurant</td>\n      <td>Chinatown</td>\n      <td>34.063510</td>\n      <td>-118.237006</td>\n    </tr>\n    <tr>\n      <th>48</th>\n      <td>1</td>\n      <td>Korean Restaurant</td>\n      <td>Claremont</td>\n      <td>34.122365</td>\n      <td>-117.718769</td>\n    </tr>\n    <tr>\n      <th>51</th>\n      <td>1</td>\n      <td>Korean Restaurant</td>\n      <td>Covina</td>\n      <td>34.087495</td>\n      <td>-117.883922</td>\n    </tr>\n    <tr>\n      <th>56</th>\n      <td>1</td>\n      <td>Korean Restaurant</td>\n      <td>Del Rey</td>\n      <td>33.989292</td>\n      <td>-118.423993</td>\n    </tr>\n    <tr>\n      <th>62</th>\n      <td>1</td>\n      <td>Korean Restaurant</td>\n      <td>Eagle Rock</td>\n      <td>34.133917</td>\n      <td>-118.204844</td>\n    </tr>\n    <tr>\n      <th>64</th>\n      <td>1</td>\n      <td>Korean Restaurant</td>\n      <td>East Hollywood</td>\n      <td>34.089109</td>\n      <td>-118.296808</td>\n    </tr>\n    <tr>\n      <th>70</th>\n      <td>1</td>\n      <td>Korean Restaurant</td>\n      <td>El Monte</td>\n      <td>34.071169</td>\n      <td>-118.035196</td>\n    </tr>\n    <tr>\n      <th>73</th>\n      <td>1</td>\n      <td>Korean Restaurant</td>\n      <td>Elizabeth Lake</td>\n      <td>34.657686</td>\n      <td>-118.386211</td>\n    </tr>\n    <tr>\n      <th>80</th>\n      <td>1</td>\n      <td>Korean Restaurant</td>\n      <td>Florence-Firestone</td>\n      <td>33.966102</td>\n      <td>-118.241920</td>\n    </tr>\n    <tr>\n      <th>90</th>\n      <td>1</td>\n      <td>Korean Restaurant</td>\n      <td>Hacienda Heights</td>\n      <td>34.002086</td>\n      <td>-117.975081</td>\n    </tr>\n    <tr>\n      <th>96</th>\n      <td>1</td>\n      <td>Korean Restaurant</td>\n      <td>Northridge</td>\n      <td>34.238805</td>\n      <td>-118.527969</td>\n    </tr>\n    <tr>\n      <th>2</th>\n      <td>0</td>\n      <td>Coffee Shop</td>\n      <td>Agoura Hills</td>\n      <td>34.146736</td>\n      <td>-118.759885</td>\n    </tr>\n    <tr>\n      <th>35</th>\n      <td>0</td>\n      <td>Coffee Shop</td>\n      <td>Carthay</td>\n      <td>34.057856</td>\n      <td>-118.368910</td>\n    </tr>\n    <tr>\n      <th>50</th>\n      <td>0</td>\n      <td>Coffee Shop</td>\n      <td>Compton</td>\n      <td>33.893252</td>\n      <td>-118.221810</td>\n    </tr>\n    <tr>\n      <th>67</th>\n      <td>0</td>\n      <td>Coffee Shop</td>\n      <td>East Pasadena</td>\n      <td>34.138564</td>\n      <td>-118.080878</td>\n    </tr>\n    <tr>\n      <th>77</th>\n      <td>0</td>\n      <td>Coffee Shop</td>\n      <td>Exposition Park</td>\n      <td>34.018262</td>\n      <td>-118.298876</td>\n    </tr>\n    <tr>\n      <th>84</th>\n      <td>0</td>\n      <td>Coffee Shop</td>\n      <td>Glendora</td>\n      <td>34.142041</td>\n      <td>-117.841785</td>\n    </tr>\n    <tr>\n      <th>85</th>\n      <td>0</td>\n      <td>Coffee Shop</td>\n      <td>Gramercy Park</td>\n      <td>33.949062</td>\n      <td>-118.308984</td>\n    </tr>\n    <tr>\n      <th>92</th>\n      <td>0</td>\n      <td>Coffee Shop</td>\n      <td>Hansen Dam</td>\n      <td>34.265706</td>\n      <td>-118.379054</td>\n    </tr>\n    <tr>\n      <th>94</th>\n      <td>0</td>\n      <td>Coffee Shop</td>\n      <td>Koreatown</td>\n      <td>34.064510</td>\n      <td>-118.304958</td>\n    </tr>\n  </tbody>\n</table>\n</div>"
                    },
                    "metadata": {}
                }
            ]
        },
        {
            "metadata": {},
            "cell_type": "code",
            "source": "",
            "execution_count": null,
            "outputs": []
        },
        {
            "metadata": {},
            "cell_type": "markdown",
            "source": ""
        },
        {
            "metadata": {},
            "cell_type": "code",
            "source": "\n#location=result_location_new.groupby(['lat','lng','color_code']).size().reset_index(name='count').sort_values(by='count',ascending=False)\n#location=location[location['count']>1]\n#location['color']=result_location_new['color_code'].apply(lambda black if color==0 else\n                                         #\"green\")\n#location['size']=location['count'].apply(lambda count:12 if count>=400 else\n #                                        10 if count>=300 and count<400 else\n  #                                       8 if count>=200 and count<300 else\n   #                                      6 if count>=150 and count<200 else\n    #                                     4 if count>=100 and count<150 else\n                                         #2 )\n#location",
            "execution_count": 81,
            "outputs": []
        },
        {
            "metadata": {},
            "cell_type": "code",
            "source": "result_location_new.head()",
            "execution_count": 82,
            "outputs": [
                {
                    "output_type": "execute_result",
                    "execution_count": 82,
                    "data": {
                        "text/plain": "    Neighborhood_name First_Most_Common_Venue         lng        lat  \\\n1     Adams-Normandie       Korean Restaurant -118.300208  34.031461   \n4            Alhambra       Korean Restaurant -118.136512  34.085539   \n7       Angeles Crest       Korean Restaurant -117.922395  34.313937   \n10  Arlington Heights       Korean Restaurant -118.323408  34.044910   \n11            Artesia       Korean Restaurant -118.080101  33.866896   \n\n    color_code  \n1            1  \n4            1  \n7            1  \n10           1  \n11           1  ",
                        "text/html": "<div>\n<style scoped>\n    .dataframe tbody tr th:only-of-type {\n        vertical-align: middle;\n    }\n\n    .dataframe tbody tr th {\n        vertical-align: top;\n    }\n\n    .dataframe thead th {\n        text-align: right;\n    }\n</style>\n<table border=\"1\" class=\"dataframe\">\n  <thead>\n    <tr style=\"text-align: right;\">\n      <th></th>\n      <th>Neighborhood_name</th>\n      <th>First_Most_Common_Venue</th>\n      <th>lng</th>\n      <th>lat</th>\n      <th>color_code</th>\n    </tr>\n  </thead>\n  <tbody>\n    <tr>\n      <th>1</th>\n      <td>Adams-Normandie</td>\n      <td>Korean Restaurant</td>\n      <td>-118.300208</td>\n      <td>34.031461</td>\n      <td>1</td>\n    </tr>\n    <tr>\n      <th>4</th>\n      <td>Alhambra</td>\n      <td>Korean Restaurant</td>\n      <td>-118.136512</td>\n      <td>34.085539</td>\n      <td>1</td>\n    </tr>\n    <tr>\n      <th>7</th>\n      <td>Angeles Crest</td>\n      <td>Korean Restaurant</td>\n      <td>-117.922395</td>\n      <td>34.313937</td>\n      <td>1</td>\n    </tr>\n    <tr>\n      <th>10</th>\n      <td>Arlington Heights</td>\n      <td>Korean Restaurant</td>\n      <td>-118.323408</td>\n      <td>34.044910</td>\n      <td>1</td>\n    </tr>\n    <tr>\n      <th>11</th>\n      <td>Artesia</td>\n      <td>Korean Restaurant</td>\n      <td>-118.080101</td>\n      <td>33.866896</td>\n      <td>1</td>\n    </tr>\n  </tbody>\n</table>\n</div>"
                    },
                    "metadata": {}
                }
            ]
        },
        {
            "metadata": {},
            "cell_type": "code",
            "source": "import plotly.graph_objects as go\n\nimport pandas as pd",
            "execution_count": 83,
            "outputs": []
        },
        {
            "metadata": {},
            "cell_type": "code",
            "source": "fig = go.Figure(data=go.Scattergeo(\n        lon = result_location_new['lng'],\n        lat = result_location_new['lat'],\n        text = result_location_new['Neighborhood_name'],\n        #text = result_location_new['First_Most_Common_Venue'],\n        mode = 'markers',\n        marker_color = result_location_new['color_code'],\n        ))\n\n\nfig.update_layout(\n        title = 'Interactive: Korean Restaurant, yellow and Coffee Shop Venues, blue',\n        geo_scope='usa',\n    )\nfig.show()",
            "execution_count": 75,
            "outputs": [
                {
                    "output_type": "display_data",
                    "data": {
                        "application/vnd.plotly.v1+json": {
                            "config": {
                                "plotlyServerURL": "https://plot.ly"
                            },
                            "data": [
                                {
                                    "lat": [
                                        34.03146149912416,
                                        34.08553899912357,
                                        34.31393700589531,
                                        34.04491049912405,
                                        33.866895999126264,
                                        33.33695449913309,
                                        34.040881003821966,
                                        34.08110949912369,
                                        33.88801349912606,
                                        34.106006999123245,
                                        34.0825444991237,
                                        33.94122350288663,
                                        34.13625449912295,
                                        34.006864031207506,
                                        34.055325502171065,
                                        34.100075003109005,
                                        34.06351049912365,
                                        34.122365138512784,
                                        34.08749549930933,
                                        33.98929219201678,
                                        34.13391699912292,
                                        34.08910949912348,
                                        34.07116949912379,
                                        34.657686037373054,
                                        33.96610152027279,
                                        34.00208550641877,
                                        34.23880549912161,
                                        34.146736499122795,
                                        34.0578556249517,
                                        33.89325199912594,
                                        34.13856350539128,
                                        34.018262499124305,
                                        34.14204099912297,
                                        33.94906200192349,
                                        34.26570649912131,
                                        34.06451049912376
                                    ],
                                    "lon": [
                                        -118.30020800000014,
                                        -118.13651200000021,
                                        -117.9223952817848,
                                        -118.3234085,
                                        -118.08010100000016,
                                        -118.32733223477571,
                                        -118.0012614768012,
                                        -117.97519050000021,
                                        -118.12903150000015,
                                        -118.423263,
                                        -118.39953400000016,
                                        -118.27535153247452,
                                        -118.67163173539394,
                                        -118.24721250000013,
                                        -118.41508300000004,
                                        -117.85751998453505,
                                        -118.23700649999986,
                                        -117.7187695,
                                        -117.88392199287891,
                                        -118.423993,
                                        -118.2048445,
                                        -118.2968085,
                                        -118.03519600000016,
                                        -118.38621116359349,
                                        -118.24192048907494,
                                        -117.9750805076482,
                                        -118.52796900000007,
                                        -118.75988450000015,
                                        -118.36891000000001,
                                        -118.2218104930422,
                                        -118.0808779833787,
                                        -118.29887550000008,
                                        -117.84178450000023,
                                        -118.30898400000004,
                                        -118.37905350000014,
                                        -118.3049585
                                    ],
                                    "marker": {
                                        "color": [
                                            1,
                                            1,
                                            1,
                                            1,
                                            1,
                                            1,
                                            1,
                                            1,
                                            1,
                                            1,
                                            1,
                                            1,
                                            1,
                                            1,
                                            1,
                                            1,
                                            1,
                                            1,
                                            1,
                                            1,
                                            1,
                                            1,
                                            1,
                                            1,
                                            1,
                                            1,
                                            1,
                                            0,
                                            0,
                                            0,
                                            0,
                                            0,
                                            0,
                                            0,
                                            0,
                                            0
                                        ]
                                    },
                                    "mode": "markers",
                                    "text": [
                                        "Adams-Normandie",
                                        "Alhambra",
                                        "Angeles Crest",
                                        "Arlington Heights",
                                        "Artesia",
                                        "Avalon",
                                        "Avocado Heights",
                                        "Baldwin Park",
                                        "Bellflower",
                                        "Beverly Crest",
                                        "Beverly Hills",
                                        "Broadway-Manchester",
                                        "Calabasas",
                                        "Central-Alameda",
                                        "Century City",
                                        "Charter Oak",
                                        "Chinatown",
                                        "Claremont",
                                        "Covina",
                                        "Del Rey",
                                        "Eagle Rock",
                                        "East Hollywood",
                                        "El Monte",
                                        "Elizabeth Lake",
                                        "Florence-Firestone",
                                        "Hacienda Heights",
                                        "Northridge",
                                        "Agoura Hills",
                                        "Carthay",
                                        "Compton",
                                        "East Pasadena",
                                        "Exposition Park",
                                        "Glendora",
                                        "Gramercy Park",
                                        "Hansen Dam",
                                        "Koreatown"
                                    ],
                                    "type": "scattergeo"
                                }
                            ],
                            "layout": {
                                "geo": {
                                    "scope": "usa"
                                },
                                "template": {
                                    "data": {
                                        "bar": [
                                            {
                                                "error_x": {
                                                    "color": "#2a3f5f"
                                                },
                                                "error_y": {
                                                    "color": "#2a3f5f"
                                                },
                                                "marker": {
                                                    "line": {
                                                        "color": "#E5ECF6",
                                                        "width": 0.5
                                                    }
                                                },
                                                "type": "bar"
                                            }
                                        ],
                                        "barpolar": [
                                            {
                                                "marker": {
                                                    "line": {
                                                        "color": "#E5ECF6",
                                                        "width": 0.5
                                                    }
                                                },
                                                "type": "barpolar"
                                            }
                                        ],
                                        "carpet": [
                                            {
                                                "aaxis": {
                                                    "endlinecolor": "#2a3f5f",
                                                    "gridcolor": "white",
                                                    "linecolor": "white",
                                                    "minorgridcolor": "white",
                                                    "startlinecolor": "#2a3f5f"
                                                },
                                                "baxis": {
                                                    "endlinecolor": "#2a3f5f",
                                                    "gridcolor": "white",
                                                    "linecolor": "white",
                                                    "minorgridcolor": "white",
                                                    "startlinecolor": "#2a3f5f"
                                                },
                                                "type": "carpet"
                                            }
                                        ],
                                        "choropleth": [
                                            {
                                                "colorbar": {
                                                    "outlinewidth": 0,
                                                    "ticks": ""
                                                },
                                                "type": "choropleth"
                                            }
                                        ],
                                        "contour": [
                                            {
                                                "colorbar": {
                                                    "outlinewidth": 0,
                                                    "ticks": ""
                                                },
                                                "colorscale": [
                                                    [
                                                        0,
                                                        "#0d0887"
                                                    ],
                                                    [
                                                        0.1111111111111111,
                                                        "#46039f"
                                                    ],
                                                    [
                                                        0.2222222222222222,
                                                        "#7201a8"
                                                    ],
                                                    [
                                                        0.3333333333333333,
                                                        "#9c179e"
                                                    ],
                                                    [
                                                        0.4444444444444444,
                                                        "#bd3786"
                                                    ],
                                                    [
                                                        0.5555555555555556,
                                                        "#d8576b"
                                                    ],
                                                    [
                                                        0.6666666666666666,
                                                        "#ed7953"
                                                    ],
                                                    [
                                                        0.7777777777777778,
                                                        "#fb9f3a"
                                                    ],
                                                    [
                                                        0.8888888888888888,
                                                        "#fdca26"
                                                    ],
                                                    [
                                                        1,
                                                        "#f0f921"
                                                    ]
                                                ],
                                                "type": "contour"
                                            }
                                        ],
                                        "contourcarpet": [
                                            {
                                                "colorbar": {
                                                    "outlinewidth": 0,
                                                    "ticks": ""
                                                },
                                                "type": "contourcarpet"
                                            }
                                        ],
                                        "heatmap": [
                                            {
                                                "colorbar": {
                                                    "outlinewidth": 0,
                                                    "ticks": ""
                                                },
                                                "colorscale": [
                                                    [
                                                        0,
                                                        "#0d0887"
                                                    ],
                                                    [
                                                        0.1111111111111111,
                                                        "#46039f"
                                                    ],
                                                    [
                                                        0.2222222222222222,
                                                        "#7201a8"
                                                    ],
                                                    [
                                                        0.3333333333333333,
                                                        "#9c179e"
                                                    ],
                                                    [
                                                        0.4444444444444444,
                                                        "#bd3786"
                                                    ],
                                                    [
                                                        0.5555555555555556,
                                                        "#d8576b"
                                                    ],
                                                    [
                                                        0.6666666666666666,
                                                        "#ed7953"
                                                    ],
                                                    [
                                                        0.7777777777777778,
                                                        "#fb9f3a"
                                                    ],
                                                    [
                                                        0.8888888888888888,
                                                        "#fdca26"
                                                    ],
                                                    [
                                                        1,
                                                        "#f0f921"
                                                    ]
                                                ],
                                                "type": "heatmap"
                                            }
                                        ],
                                        "heatmapgl": [
                                            {
                                                "colorbar": {
                                                    "outlinewidth": 0,
                                                    "ticks": ""
                                                },
                                                "colorscale": [
                                                    [
                                                        0,
                                                        "#0d0887"
                                                    ],
                                                    [
                                                        0.1111111111111111,
                                                        "#46039f"
                                                    ],
                                                    [
                                                        0.2222222222222222,
                                                        "#7201a8"
                                                    ],
                                                    [
                                                        0.3333333333333333,
                                                        "#9c179e"
                                                    ],
                                                    [
                                                        0.4444444444444444,
                                                        "#bd3786"
                                                    ],
                                                    [
                                                        0.5555555555555556,
                                                        "#d8576b"
                                                    ],
                                                    [
                                                        0.6666666666666666,
                                                        "#ed7953"
                                                    ],
                                                    [
                                                        0.7777777777777778,
                                                        "#fb9f3a"
                                                    ],
                                                    [
                                                        0.8888888888888888,
                                                        "#fdca26"
                                                    ],
                                                    [
                                                        1,
                                                        "#f0f921"
                                                    ]
                                                ],
                                                "type": "heatmapgl"
                                            }
                                        ],
                                        "histogram": [
                                            {
                                                "marker": {
                                                    "colorbar": {
                                                        "outlinewidth": 0,
                                                        "ticks": ""
                                                    }
                                                },
                                                "type": "histogram"
                                            }
                                        ],
                                        "histogram2d": [
                                            {
                                                "colorbar": {
                                                    "outlinewidth": 0,
                                                    "ticks": ""
                                                },
                                                "colorscale": [
                                                    [
                                                        0,
                                                        "#0d0887"
                                                    ],
                                                    [
                                                        0.1111111111111111,
                                                        "#46039f"
                                                    ],
                                                    [
                                                        0.2222222222222222,
                                                        "#7201a8"
                                                    ],
                                                    [
                                                        0.3333333333333333,
                                                        "#9c179e"
                                                    ],
                                                    [
                                                        0.4444444444444444,
                                                        "#bd3786"
                                                    ],
                                                    [
                                                        0.5555555555555556,
                                                        "#d8576b"
                                                    ],
                                                    [
                                                        0.6666666666666666,
                                                        "#ed7953"
                                                    ],
                                                    [
                                                        0.7777777777777778,
                                                        "#fb9f3a"
                                                    ],
                                                    [
                                                        0.8888888888888888,
                                                        "#fdca26"
                                                    ],
                                                    [
                                                        1,
                                                        "#f0f921"
                                                    ]
                                                ],
                                                "type": "histogram2d"
                                            }
                                        ],
                                        "histogram2dcontour": [
                                            {
                                                "colorbar": {
                                                    "outlinewidth": 0,
                                                    "ticks": ""
                                                },
                                                "colorscale": [
                                                    [
                                                        0,
                                                        "#0d0887"
                                                    ],
                                                    [
                                                        0.1111111111111111,
                                                        "#46039f"
                                                    ],
                                                    [
                                                        0.2222222222222222,
                                                        "#7201a8"
                                                    ],
                                                    [
                                                        0.3333333333333333,
                                                        "#9c179e"
                                                    ],
                                                    [
                                                        0.4444444444444444,
                                                        "#bd3786"
                                                    ],
                                                    [
                                                        0.5555555555555556,
                                                        "#d8576b"
                                                    ],
                                                    [
                                                        0.6666666666666666,
                                                        "#ed7953"
                                                    ],
                                                    [
                                                        0.7777777777777778,
                                                        "#fb9f3a"
                                                    ],
                                                    [
                                                        0.8888888888888888,
                                                        "#fdca26"
                                                    ],
                                                    [
                                                        1,
                                                        "#f0f921"
                                                    ]
                                                ],
                                                "type": "histogram2dcontour"
                                            }
                                        ],
                                        "mesh3d": [
                                            {
                                                "colorbar": {
                                                    "outlinewidth": 0,
                                                    "ticks": ""
                                                },
                                                "type": "mesh3d"
                                            }
                                        ],
                                        "parcoords": [
                                            {
                                                "line": {
                                                    "colorbar": {
                                                        "outlinewidth": 0,
                                                        "ticks": ""
                                                    }
                                                },
                                                "type": "parcoords"
                                            }
                                        ],
                                        "pie": [
                                            {
                                                "automargin": true,
                                                "type": "pie"
                                            }
                                        ],
                                        "scatter": [
                                            {
                                                "marker": {
                                                    "colorbar": {
                                                        "outlinewidth": 0,
                                                        "ticks": ""
                                                    }
                                                },
                                                "type": "scatter"
                                            }
                                        ],
                                        "scatter3d": [
                                            {
                                                "line": {
                                                    "colorbar": {
                                                        "outlinewidth": 0,
                                                        "ticks": ""
                                                    }
                                                },
                                                "marker": {
                                                    "colorbar": {
                                                        "outlinewidth": 0,
                                                        "ticks": ""
                                                    }
                                                },
                                                "type": "scatter3d"
                                            }
                                        ],
                                        "scattercarpet": [
                                            {
                                                "marker": {
                                                    "colorbar": {
                                                        "outlinewidth": 0,
                                                        "ticks": ""
                                                    }
                                                },
                                                "type": "scattercarpet"
                                            }
                                        ],
                                        "scattergeo": [
                                            {
                                                "marker": {
                                                    "colorbar": {
                                                        "outlinewidth": 0,
                                                        "ticks": ""
                                                    }
                                                },
                                                "type": "scattergeo"
                                            }
                                        ],
                                        "scattergl": [
                                            {
                                                "marker": {
                                                    "colorbar": {
                                                        "outlinewidth": 0,
                                                        "ticks": ""
                                                    }
                                                },
                                                "type": "scattergl"
                                            }
                                        ],
                                        "scattermapbox": [
                                            {
                                                "marker": {
                                                    "colorbar": {
                                                        "outlinewidth": 0,
                                                        "ticks": ""
                                                    }
                                                },
                                                "type": "scattermapbox"
                                            }
                                        ],
                                        "scatterpolar": [
                                            {
                                                "marker": {
                                                    "colorbar": {
                                                        "outlinewidth": 0,
                                                        "ticks": ""
                                                    }
                                                },
                                                "type": "scatterpolar"
                                            }
                                        ],
                                        "scatterpolargl": [
                                            {
                                                "marker": {
                                                    "colorbar": {
                                                        "outlinewidth": 0,
                                                        "ticks": ""
                                                    }
                                                },
                                                "type": "scatterpolargl"
                                            }
                                        ],
                                        "scatterternary": [
                                            {
                                                "marker": {
                                                    "colorbar": {
                                                        "outlinewidth": 0,
                                                        "ticks": ""
                                                    }
                                                },
                                                "type": "scatterternary"
                                            }
                                        ],
                                        "surface": [
                                            {
                                                "colorbar": {
                                                    "outlinewidth": 0,
                                                    "ticks": ""
                                                },
                                                "colorscale": [
                                                    [
                                                        0,
                                                        "#0d0887"
                                                    ],
                                                    [
                                                        0.1111111111111111,
                                                        "#46039f"
                                                    ],
                                                    [
                                                        0.2222222222222222,
                                                        "#7201a8"
                                                    ],
                                                    [
                                                        0.3333333333333333,
                                                        "#9c179e"
                                                    ],
                                                    [
                                                        0.4444444444444444,
                                                        "#bd3786"
                                                    ],
                                                    [
                                                        0.5555555555555556,
                                                        "#d8576b"
                                                    ],
                                                    [
                                                        0.6666666666666666,
                                                        "#ed7953"
                                                    ],
                                                    [
                                                        0.7777777777777778,
                                                        "#fb9f3a"
                                                    ],
                                                    [
                                                        0.8888888888888888,
                                                        "#fdca26"
                                                    ],
                                                    [
                                                        1,
                                                        "#f0f921"
                                                    ]
                                                ],
                                                "type": "surface"
                                            }
                                        ],
                                        "table": [
                                            {
                                                "cells": {
                                                    "fill": {
                                                        "color": "#EBF0F8"
                                                    },
                                                    "line": {
                                                        "color": "white"
                                                    }
                                                },
                                                "header": {
                                                    "fill": {
                                                        "color": "#C8D4E3"
                                                    },
                                                    "line": {
                                                        "color": "white"
                                                    }
                                                },
                                                "type": "table"
                                            }
                                        ]
                                    },
                                    "layout": {
                                        "annotationdefaults": {
                                            "arrowcolor": "#2a3f5f",
                                            "arrowhead": 0,
                                            "arrowwidth": 1
                                        },
                                        "coloraxis": {
                                            "colorbar": {
                                                "outlinewidth": 0,
                                                "ticks": ""
                                            }
                                        },
                                        "colorscale": {
                                            "diverging": [
                                                [
                                                    0,
                                                    "#8e0152"
                                                ],
                                                [
                                                    0.1,
                                                    "#c51b7d"
                                                ],
                                                [
                                                    0.2,
                                                    "#de77ae"
                                                ],
                                                [
                                                    0.3,
                                                    "#f1b6da"
                                                ],
                                                [
                                                    0.4,
                                                    "#fde0ef"
                                                ],
                                                [
                                                    0.5,
                                                    "#f7f7f7"
                                                ],
                                                [
                                                    0.6,
                                                    "#e6f5d0"
                                                ],
                                                [
                                                    0.7,
                                                    "#b8e186"
                                                ],
                                                [
                                                    0.8,
                                                    "#7fbc41"
                                                ],
                                                [
                                                    0.9,
                                                    "#4d9221"
                                                ],
                                                [
                                                    1,
                                                    "#276419"
                                                ]
                                            ],
                                            "sequential": [
                                                [
                                                    0,
                                                    "#0d0887"
                                                ],
                                                [
                                                    0.1111111111111111,
                                                    "#46039f"
                                                ],
                                                [
                                                    0.2222222222222222,
                                                    "#7201a8"
                                                ],
                                                [
                                                    0.3333333333333333,
                                                    "#9c179e"
                                                ],
                                                [
                                                    0.4444444444444444,
                                                    "#bd3786"
                                                ],
                                                [
                                                    0.5555555555555556,
                                                    "#d8576b"
                                                ],
                                                [
                                                    0.6666666666666666,
                                                    "#ed7953"
                                                ],
                                                [
                                                    0.7777777777777778,
                                                    "#fb9f3a"
                                                ],
                                                [
                                                    0.8888888888888888,
                                                    "#fdca26"
                                                ],
                                                [
                                                    1,
                                                    "#f0f921"
                                                ]
                                            ],
                                            "sequentialminus": [
                                                [
                                                    0,
                                                    "#0d0887"
                                                ],
                                                [
                                                    0.1111111111111111,
                                                    "#46039f"
                                                ],
                                                [
                                                    0.2222222222222222,
                                                    "#7201a8"
                                                ],
                                                [
                                                    0.3333333333333333,
                                                    "#9c179e"
                                                ],
                                                [
                                                    0.4444444444444444,
                                                    "#bd3786"
                                                ],
                                                [
                                                    0.5555555555555556,
                                                    "#d8576b"
                                                ],
                                                [
                                                    0.6666666666666666,
                                                    "#ed7953"
                                                ],
                                                [
                                                    0.7777777777777778,
                                                    "#fb9f3a"
                                                ],
                                                [
                                                    0.8888888888888888,
                                                    "#fdca26"
                                                ],
                                                [
                                                    1,
                                                    "#f0f921"
                                                ]
                                            ]
                                        },
                                        "colorway": [
                                            "#636efa",
                                            "#EF553B",
                                            "#00cc96",
                                            "#ab63fa",
                                            "#FFA15A",
                                            "#19d3f3",
                                            "#FF6692",
                                            "#B6E880",
                                            "#FF97FF",
                                            "#FECB52"
                                        ],
                                        "font": {
                                            "color": "#2a3f5f"
                                        },
                                        "geo": {
                                            "bgcolor": "white",
                                            "lakecolor": "white",
                                            "landcolor": "#E5ECF6",
                                            "showlakes": true,
                                            "showland": true,
                                            "subunitcolor": "white"
                                        },
                                        "hoverlabel": {
                                            "align": "left"
                                        },
                                        "hovermode": "closest",
                                        "mapbox": {
                                            "style": "light"
                                        },
                                        "paper_bgcolor": "white",
                                        "plot_bgcolor": "#E5ECF6",
                                        "polar": {
                                            "angularaxis": {
                                                "gridcolor": "white",
                                                "linecolor": "white",
                                                "ticks": ""
                                            },
                                            "bgcolor": "#E5ECF6",
                                            "radialaxis": {
                                                "gridcolor": "white",
                                                "linecolor": "white",
                                                "ticks": ""
                                            }
                                        },
                                        "scene": {
                                            "xaxis": {
                                                "backgroundcolor": "#E5ECF6",
                                                "gridcolor": "white",
                                                "gridwidth": 2,
                                                "linecolor": "white",
                                                "showbackground": true,
                                                "ticks": "",
                                                "zerolinecolor": "white"
                                            },
                                            "yaxis": {
                                                "backgroundcolor": "#E5ECF6",
                                                "gridcolor": "white",
                                                "gridwidth": 2,
                                                "linecolor": "white",
                                                "showbackground": true,
                                                "ticks": "",
                                                "zerolinecolor": "white"
                                            },
                                            "zaxis": {
                                                "backgroundcolor": "#E5ECF6",
                                                "gridcolor": "white",
                                                "gridwidth": 2,
                                                "linecolor": "white",
                                                "showbackground": true,
                                                "ticks": "",
                                                "zerolinecolor": "white"
                                            }
                                        },
                                        "shapedefaults": {
                                            "line": {
                                                "color": "#2a3f5f"
                                            }
                                        },
                                        "ternary": {
                                            "aaxis": {
                                                "gridcolor": "white",
                                                "linecolor": "white",
                                                "ticks": ""
                                            },
                                            "baxis": {
                                                "gridcolor": "white",
                                                "linecolor": "white",
                                                "ticks": ""
                                            },
                                            "bgcolor": "#E5ECF6",
                                            "caxis": {
                                                "gridcolor": "white",
                                                "linecolor": "white",
                                                "ticks": ""
                                            }
                                        },
                                        "title": {
                                            "x": 0.05
                                        },
                                        "xaxis": {
                                            "automargin": true,
                                            "gridcolor": "white",
                                            "linecolor": "white",
                                            "ticks": "",
                                            "title": {
                                                "standoff": 15
                                            },
                                            "zerolinecolor": "white",
                                            "zerolinewidth": 2
                                        },
                                        "yaxis": {
                                            "automargin": true,
                                            "gridcolor": "white",
                                            "linecolor": "white",
                                            "ticks": "",
                                            "title": {
                                                "standoff": 15
                                            },
                                            "zerolinecolor": "white",
                                            "zerolinewidth": 2
                                        }
                                    }
                                },
                                "title": {
                                    "text": "Interactive: Korean Restaurant, yellow and Coffee Shop Venues, blue"
                                }
                            }
                        },
                        "text/html": "<div>\n        \n        \n            <div id=\"789fc238-c47d-4130-8312-c5cca211b98c\" class=\"plotly-graph-div\" style=\"height:525px; width:100%;\"></div>\n            <script type=\"text/javascript\">\n                require([\"plotly\"], function(Plotly) {\n                    window.PLOTLYENV=window.PLOTLYENV || {};\n                    \n                if (document.getElementById(\"789fc238-c47d-4130-8312-c5cca211b98c\")) {\n                    Plotly.newPlot(\n                        '789fc238-c47d-4130-8312-c5cca211b98c',\n                        [{\"lat\": [34.03146149912416, 34.08553899912357, 34.31393700589531, 34.04491049912405, 33.866895999126264, 33.33695449913309, 34.040881003821966, 34.08110949912369, 33.88801349912606, 34.106006999123245, 34.0825444991237, 33.94122350288663, 34.13625449912295, 34.006864031207506, 34.055325502171065, 34.100075003109005, 34.06351049912365, 34.122365138512784, 34.08749549930933, 33.98929219201678, 34.13391699912292, 34.08910949912348, 34.07116949912379, 34.657686037373054, 33.96610152027279, 34.00208550641877, 34.23880549912161, 34.146736499122795, 34.0578556249517, 33.89325199912594, 34.13856350539128, 34.018262499124305, 34.14204099912297, 33.94906200192349, 34.26570649912131, 34.06451049912376], \"lon\": [-118.30020800000014, -118.13651200000021, -117.9223952817848, -118.3234085, -118.08010100000016, -118.32733223477571, -118.0012614768012, -117.97519050000021, -118.12903150000015, -118.423263, -118.39953400000016, -118.27535153247452, -118.67163173539394, -118.24721250000013, -118.41508300000004, -117.85751998453505, -118.23700649999986, -117.7187695, -117.88392199287891, -118.423993, -118.2048445, -118.2968085, -118.03519600000016, -118.38621116359349, -118.24192048907494, -117.9750805076482, -118.52796900000007, -118.75988450000015, -118.36891000000001, -118.2218104930422, -118.0808779833787, -118.29887550000008, -117.84178450000023, -118.30898400000004, -118.37905350000014, -118.3049585], \"marker\": {\"color\": [1, 1, 1, 1, 1, 1, 1, 1, 1, 1, 1, 1, 1, 1, 1, 1, 1, 1, 1, 1, 1, 1, 1, 1, 1, 1, 1, 0, 0, 0, 0, 0, 0, 0, 0, 0]}, \"mode\": \"markers\", \"text\": [\"Adams-Normandie\", \"Alhambra\", \"Angeles Crest\", \"Arlington Heights\", \"Artesia\", \"Avalon\", \"Avocado Heights\", \"Baldwin Park\", \"Bellflower\", \"Beverly Crest\", \"Beverly Hills\", \"Broadway-Manchester\", \"Calabasas\", \"Central-Alameda\", \"Century City\", \"Charter Oak\", \"Chinatown\", \"Claremont\", \"Covina\", \"Del Rey\", \"Eagle Rock\", \"East Hollywood\", \"El Monte\", \"Elizabeth Lake\", \"Florence-Firestone\", \"Hacienda Heights\", \"Northridge\", \"Agoura Hills\", \"Carthay\", \"Compton\", \"East Pasadena\", \"Exposition Park\", \"Glendora\", \"Gramercy Park\", \"Hansen Dam\", \"Koreatown\"], \"type\": \"scattergeo\"}],\n                        {\"geo\": {\"scope\": \"usa\"}, \"template\": {\"data\": {\"bar\": [{\"error_x\": {\"color\": \"#2a3f5f\"}, \"error_y\": {\"color\": \"#2a3f5f\"}, \"marker\": {\"line\": {\"color\": \"#E5ECF6\", \"width\": 0.5}}, \"type\": \"bar\"}], \"barpolar\": [{\"marker\": {\"line\": {\"color\": \"#E5ECF6\", \"width\": 0.5}}, \"type\": \"barpolar\"}], \"carpet\": [{\"aaxis\": {\"endlinecolor\": \"#2a3f5f\", \"gridcolor\": \"white\", \"linecolor\": \"white\", \"minorgridcolor\": \"white\", \"startlinecolor\": \"#2a3f5f\"}, \"baxis\": {\"endlinecolor\": \"#2a3f5f\", \"gridcolor\": \"white\", \"linecolor\": \"white\", \"minorgridcolor\": \"white\", \"startlinecolor\": \"#2a3f5f\"}, \"type\": \"carpet\"}], \"choropleth\": [{\"colorbar\": {\"outlinewidth\": 0, \"ticks\": \"\"}, \"type\": \"choropleth\"}], \"contour\": [{\"colorbar\": {\"outlinewidth\": 0, \"ticks\": \"\"}, \"colorscale\": [[0.0, \"#0d0887\"], [0.1111111111111111, \"#46039f\"], [0.2222222222222222, \"#7201a8\"], [0.3333333333333333, \"#9c179e\"], [0.4444444444444444, \"#bd3786\"], [0.5555555555555556, \"#d8576b\"], [0.6666666666666666, \"#ed7953\"], [0.7777777777777778, \"#fb9f3a\"], [0.8888888888888888, \"#fdca26\"], [1.0, \"#f0f921\"]], \"type\": \"contour\"}], \"contourcarpet\": [{\"colorbar\": {\"outlinewidth\": 0, \"ticks\": \"\"}, \"type\": \"contourcarpet\"}], \"heatmap\": [{\"colorbar\": {\"outlinewidth\": 0, \"ticks\": \"\"}, \"colorscale\": [[0.0, \"#0d0887\"], [0.1111111111111111, \"#46039f\"], [0.2222222222222222, \"#7201a8\"], [0.3333333333333333, \"#9c179e\"], [0.4444444444444444, \"#bd3786\"], [0.5555555555555556, \"#d8576b\"], [0.6666666666666666, \"#ed7953\"], [0.7777777777777778, \"#fb9f3a\"], [0.8888888888888888, \"#fdca26\"], [1.0, \"#f0f921\"]], \"type\": \"heatmap\"}], \"heatmapgl\": [{\"colorbar\": {\"outlinewidth\": 0, \"ticks\": \"\"}, \"colorscale\": [[0.0, \"#0d0887\"], [0.1111111111111111, \"#46039f\"], [0.2222222222222222, \"#7201a8\"], [0.3333333333333333, \"#9c179e\"], [0.4444444444444444, \"#bd3786\"], [0.5555555555555556, \"#d8576b\"], [0.6666666666666666, \"#ed7953\"], [0.7777777777777778, \"#fb9f3a\"], [0.8888888888888888, \"#fdca26\"], [1.0, \"#f0f921\"]], \"type\": \"heatmapgl\"}], \"histogram\": [{\"marker\": {\"colorbar\": {\"outlinewidth\": 0, \"ticks\": \"\"}}, \"type\": \"histogram\"}], \"histogram2d\": [{\"colorbar\": {\"outlinewidth\": 0, \"ticks\": \"\"}, \"colorscale\": [[0.0, \"#0d0887\"], [0.1111111111111111, \"#46039f\"], [0.2222222222222222, \"#7201a8\"], [0.3333333333333333, \"#9c179e\"], [0.4444444444444444, \"#bd3786\"], [0.5555555555555556, \"#d8576b\"], [0.6666666666666666, \"#ed7953\"], [0.7777777777777778, \"#fb9f3a\"], [0.8888888888888888, \"#fdca26\"], [1.0, \"#f0f921\"]], \"type\": \"histogram2d\"}], \"histogram2dcontour\": [{\"colorbar\": {\"outlinewidth\": 0, \"ticks\": \"\"}, \"colorscale\": [[0.0, \"#0d0887\"], [0.1111111111111111, \"#46039f\"], [0.2222222222222222, \"#7201a8\"], [0.3333333333333333, \"#9c179e\"], [0.4444444444444444, \"#bd3786\"], [0.5555555555555556, \"#d8576b\"], [0.6666666666666666, \"#ed7953\"], [0.7777777777777778, \"#fb9f3a\"], [0.8888888888888888, \"#fdca26\"], [1.0, \"#f0f921\"]], \"type\": \"histogram2dcontour\"}], \"mesh3d\": [{\"colorbar\": {\"outlinewidth\": 0, \"ticks\": \"\"}, \"type\": \"mesh3d\"}], \"parcoords\": [{\"line\": {\"colorbar\": {\"outlinewidth\": 0, \"ticks\": \"\"}}, \"type\": \"parcoords\"}], \"pie\": [{\"automargin\": true, \"type\": \"pie\"}], \"scatter\": [{\"marker\": {\"colorbar\": {\"outlinewidth\": 0, \"ticks\": \"\"}}, \"type\": \"scatter\"}], \"scatter3d\": [{\"line\": {\"colorbar\": {\"outlinewidth\": 0, \"ticks\": \"\"}}, \"marker\": {\"colorbar\": {\"outlinewidth\": 0, \"ticks\": \"\"}}, \"type\": \"scatter3d\"}], \"scattercarpet\": [{\"marker\": {\"colorbar\": {\"outlinewidth\": 0, \"ticks\": \"\"}}, \"type\": \"scattercarpet\"}], \"scattergeo\": [{\"marker\": {\"colorbar\": {\"outlinewidth\": 0, \"ticks\": \"\"}}, \"type\": \"scattergeo\"}], \"scattergl\": [{\"marker\": {\"colorbar\": {\"outlinewidth\": 0, \"ticks\": \"\"}}, \"type\": \"scattergl\"}], \"scattermapbox\": [{\"marker\": {\"colorbar\": {\"outlinewidth\": 0, \"ticks\": \"\"}}, \"type\": \"scattermapbox\"}], \"scatterpolar\": [{\"marker\": {\"colorbar\": {\"outlinewidth\": 0, \"ticks\": \"\"}}, \"type\": \"scatterpolar\"}], \"scatterpolargl\": [{\"marker\": {\"colorbar\": {\"outlinewidth\": 0, \"ticks\": \"\"}}, \"type\": \"scatterpolargl\"}], \"scatterternary\": [{\"marker\": {\"colorbar\": {\"outlinewidth\": 0, \"ticks\": \"\"}}, \"type\": \"scatterternary\"}], \"surface\": [{\"colorbar\": {\"outlinewidth\": 0, \"ticks\": \"\"}, \"colorscale\": [[0.0, \"#0d0887\"], [0.1111111111111111, \"#46039f\"], [0.2222222222222222, \"#7201a8\"], [0.3333333333333333, \"#9c179e\"], [0.4444444444444444, \"#bd3786\"], [0.5555555555555556, \"#d8576b\"], [0.6666666666666666, \"#ed7953\"], [0.7777777777777778, \"#fb9f3a\"], [0.8888888888888888, \"#fdca26\"], [1.0, \"#f0f921\"]], \"type\": \"surface\"}], \"table\": [{\"cells\": {\"fill\": {\"color\": \"#EBF0F8\"}, \"line\": {\"color\": \"white\"}}, \"header\": {\"fill\": {\"color\": \"#C8D4E3\"}, \"line\": {\"color\": \"white\"}}, \"type\": \"table\"}]}, \"layout\": {\"annotationdefaults\": {\"arrowcolor\": \"#2a3f5f\", \"arrowhead\": 0, \"arrowwidth\": 1}, \"coloraxis\": {\"colorbar\": {\"outlinewidth\": 0, \"ticks\": \"\"}}, \"colorscale\": {\"diverging\": [[0, \"#8e0152\"], [0.1, \"#c51b7d\"], [0.2, \"#de77ae\"], [0.3, \"#f1b6da\"], [0.4, \"#fde0ef\"], [0.5, \"#f7f7f7\"], [0.6, \"#e6f5d0\"], [0.7, \"#b8e186\"], [0.8, \"#7fbc41\"], [0.9, \"#4d9221\"], [1, \"#276419\"]], \"sequential\": [[0.0, \"#0d0887\"], [0.1111111111111111, \"#46039f\"], [0.2222222222222222, \"#7201a8\"], [0.3333333333333333, \"#9c179e\"], [0.4444444444444444, \"#bd3786\"], [0.5555555555555556, \"#d8576b\"], [0.6666666666666666, \"#ed7953\"], [0.7777777777777778, \"#fb9f3a\"], [0.8888888888888888, \"#fdca26\"], [1.0, \"#f0f921\"]], \"sequentialminus\": [[0.0, \"#0d0887\"], [0.1111111111111111, \"#46039f\"], [0.2222222222222222, \"#7201a8\"], [0.3333333333333333, \"#9c179e\"], [0.4444444444444444, \"#bd3786\"], [0.5555555555555556, \"#d8576b\"], [0.6666666666666666, \"#ed7953\"], [0.7777777777777778, \"#fb9f3a\"], [0.8888888888888888, \"#fdca26\"], [1.0, \"#f0f921\"]]}, \"colorway\": [\"#636efa\", \"#EF553B\", \"#00cc96\", \"#ab63fa\", \"#FFA15A\", \"#19d3f3\", \"#FF6692\", \"#B6E880\", \"#FF97FF\", \"#FECB52\"], \"font\": {\"color\": \"#2a3f5f\"}, \"geo\": {\"bgcolor\": \"white\", \"lakecolor\": \"white\", \"landcolor\": \"#E5ECF6\", \"showlakes\": true, \"showland\": true, \"subunitcolor\": \"white\"}, \"hoverlabel\": {\"align\": \"left\"}, \"hovermode\": \"closest\", \"mapbox\": {\"style\": \"light\"}, \"paper_bgcolor\": \"white\", \"plot_bgcolor\": \"#E5ECF6\", \"polar\": {\"angularaxis\": {\"gridcolor\": \"white\", \"linecolor\": \"white\", \"ticks\": \"\"}, \"bgcolor\": \"#E5ECF6\", \"radialaxis\": {\"gridcolor\": \"white\", \"linecolor\": \"white\", \"ticks\": \"\"}}, \"scene\": {\"xaxis\": {\"backgroundcolor\": \"#E5ECF6\", \"gridcolor\": \"white\", \"gridwidth\": 2, \"linecolor\": \"white\", \"showbackground\": true, \"ticks\": \"\", \"zerolinecolor\": \"white\"}, \"yaxis\": {\"backgroundcolor\": \"#E5ECF6\", \"gridcolor\": \"white\", \"gridwidth\": 2, \"linecolor\": \"white\", \"showbackground\": true, \"ticks\": \"\", \"zerolinecolor\": \"white\"}, \"zaxis\": {\"backgroundcolor\": \"#E5ECF6\", \"gridcolor\": \"white\", \"gridwidth\": 2, \"linecolor\": \"white\", \"showbackground\": true, \"ticks\": \"\", \"zerolinecolor\": \"white\"}}, \"shapedefaults\": {\"line\": {\"color\": \"#2a3f5f\"}}, \"ternary\": {\"aaxis\": {\"gridcolor\": \"white\", \"linecolor\": \"white\", \"ticks\": \"\"}, \"baxis\": {\"gridcolor\": \"white\", \"linecolor\": \"white\", \"ticks\": \"\"}, \"bgcolor\": \"#E5ECF6\", \"caxis\": {\"gridcolor\": \"white\", \"linecolor\": \"white\", \"ticks\": \"\"}}, \"title\": {\"x\": 0.05}, \"xaxis\": {\"automargin\": true, \"gridcolor\": \"white\", \"linecolor\": \"white\", \"ticks\": \"\", \"title\": {\"standoff\": 15}, \"zerolinecolor\": \"white\", \"zerolinewidth\": 2}, \"yaxis\": {\"automargin\": true, \"gridcolor\": \"white\", \"linecolor\": \"white\", \"ticks\": \"\", \"title\": {\"standoff\": 15}, \"zerolinecolor\": \"white\", \"zerolinewidth\": 2}}}, \"title\": {\"text\": \"Interactive: Korean Restaurant, yellow and Coffee Shop Venues, blue\"}},\n                        {\"responsive\": true}\n                    ).then(function(){\n                            \nvar gd = document.getElementById('789fc238-c47d-4130-8312-c5cca211b98c');\nvar x = new MutationObserver(function (mutations, observer) {{\n        var display = window.getComputedStyle(gd).display;\n        if (!display || display === 'none') {{\n            console.log([gd, 'removed!']);\n            Plotly.purge(gd);\n            observer.disconnect();\n        }}\n}});\n\n// Listen for the removal of the full notebook cells\nvar notebookContainer = gd.closest('#notebook-container');\nif (notebookContainer) {{\n    x.observe(notebookContainer, {childList: true});\n}}\n\n// Listen for the clearing of the current output cell\nvar outputEl = gd.closest('.output');\nif (outputEl) {{\n    x.observe(outputEl, {childList: true});\n}}\n\n                        })\n                };\n                });\n            </script>\n        </div>"
                    },
                    "metadata": {}
                }
            ]
        },
        {
            "metadata": {},
            "cell_type": "markdown",
            "source": "## 5. Final Assessment:\n    \nBased on these mapped results, we find that <b>Griffith Park</b> is the perfect location for our Korean Barbeque/Coffee shop venue.  \n \nAs we zoom in closer to the Interactive Table above, we will find that <b>Griffith Park</b> is located between a cluster of predominantly coffee shop neighborhoods in the southwest and only one predominantly coffee shop neighborhood (Glendale) in the northeastern vicinty from Griffith Park.  While this nieghborhood is predominantly Korean Restaurant venues, we want to make it convenient for our customers and bring the coffee shop experience closer.</h3> \n       \n       "
        },
        {
            "metadata": {},
            "cell_type": "markdown",
            "source": "\n![Screen%20Shot%202020-09-02%20at%2012.58.26%20AM.png](attachment:Screen%20Shot%202020-09-02%20at%2012.58.26%20AM.png)",
            "attachments": {
                "Screen%20Shot%202020-09-02%20at%2012.58.26%20AM.png": {
                    "image/png": "[encoded data removed]"
                }
            }
        },
        {
            "metadata": {},
            "cell_type": "markdown",
            "source": "<h2>Thank you for viewing my project! </h2>\n\n\n<h3>Note: To see view the fully run project, \n<a href=\"https://nbviewer.jupyter.org/github/RobFaj/Capstone-DataScience/blob/master/Battling%20LA%20Neighborhoods_Final%20Project.ipynb\">\nclick here</a></h3>\n\n"
        },
        {
            "metadata": {},
            "cell_type": "markdown",
            "source": "created by Robert Fajardo"
        }
    ],
    "metadata": {
        "kernelspec": {
            "name": "python3",
            "display_name": "Python 3.6",
            "language": "python"
        },
        "language_info": {
            "name": "python",
            "version": "3.6.9",
            "mimetype": "text/x-python",
            "codemirror_mode": {
                "name": "ipython",
                "version": 3
            },
            "pygments_lexer": "ipython3",
            "nbconvert_exporter": "python",
            "file_extension": ".py"
        }
    },
    "nbformat": 4,
    "nbformat_minor": 4
}